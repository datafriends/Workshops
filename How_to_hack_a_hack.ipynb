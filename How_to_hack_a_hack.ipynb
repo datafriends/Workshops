{
  "nbformat": 4,
  "nbformat_minor": 0,
  "metadata": {
    "colab": {
      "name": "How to hack a hack.ipynb",
      "version": "0.3.2",
      "provenance": [],
      "collapsed_sections": [],
      "toc_visible": true,
      "include_colab_link": true
    },
    "language_info": {
      "codemirror_mode": "r",
      "file_extension": ".r",
      "mimetype": "text/x-r-source",
      "name": "R",
      "pygments_lexer": "r",
      "version": "3.3.1"
    },
    "kernelspec": {
      "display_name": "R",
      "language": "R",
      "name": "ir"
    }
  },
  "cells": [
    {
      "cell_type": "markdown",
      "metadata": {
        "id": "view-in-github",
        "colab_type": "text"
      },
      "source": [
        "<a href=\"https://colab.research.google.com/github/datafriends/Workshops/blob/master/How_to_hack_a_hack.ipynb\" target=\"_parent\"><img src=\"https://colab.research.google.com/assets/colab-badge.svg\" alt=\"Open In Colab\"/></a>"
      ]
    },
    {
      "cell_type": "markdown",
      "metadata": {
        "id": "m4Z5VAz2OKn_",
        "colab_type": "text"
      },
      "source": [
        "# How to hack a Hack with R"
      ]
    },
    {
      "cell_type": "markdown",
      "metadata": {
        "id": "jsaAe2-uPI5l",
        "colab_type": "text"
      },
      "source": [
        "## 1. Specify the problem\n",
        "\n",
        "Context: \n",
        "- In Australia a Credit License enables you to credit to others. \n",
        "- A Financial Services license is about providing guidance to people buying financial products. You can't engage in credit activities with a FSL.\n",
        "\n",
        "\n",
        "Prompt: \n",
        "- Has the regulatory scrutiny in Australia recently led to a change in distribution of\n",
        "credit licenses vs financial services licenses? \n",
        "- Is there evidence that greater scruitany in banking is resulting in fewer Credit Licenses and more Financial Services Licenses?"
      ]
    },
    {
      "cell_type": "markdown",
      "metadata": {
        "id": "7aLMZH_MQN2S",
        "colab_type": "text"
      },
      "source": [
        "## 2. Investigate the dataset"
      ]
    },
    {
      "cell_type": "code",
      "metadata": {
        "id": "e0tXVF6dARAQ",
        "colab_type": "code",
        "colab": {
          "base_uri": "https://localhost:8080/",
          "height": 383
        },
        "outputId": "de9ed656-774b-4175-886f-3709437d90ec"
      },
      "source": [
        "# load some libraries we will need\n",
        "library(tidyverse)\n",
        "library(lubridate)\n",
        "\n",
        "\n",
        "options(repr.plot.width=6, repr.plot.height=4)"
      ],
      "execution_count": 2,
      "outputs": [
        {
          "output_type": "stream",
          "text": [
            "Registered S3 methods overwritten by 'ggplot2':\n",
            "  method         from \n",
            "  [.quosures     rlang\n",
            "  c.quosures     rlang\n",
            "  print.quosures rlang\n",
            "── \u001b[1mAttaching packages\u001b[22m ─────────────────────────────────────── tidyverse 1.2.1 ──\n",
            "\u001b[32m✔\u001b[39m \u001b[34mggplot2\u001b[39m 3.1.1     \u001b[32m✔\u001b[39m \u001b[34mpurrr  \u001b[39m 0.3.2\n",
            "\u001b[32m✔\u001b[39m \u001b[34mtibble \u001b[39m 2.1.1     \u001b[32m✔\u001b[39m \u001b[34mdplyr  \u001b[39m 0.8.1\n",
            "\u001b[32m✔\u001b[39m \u001b[34mtidyr  \u001b[39m 0.8.3     \u001b[32m✔\u001b[39m \u001b[34mstringr\u001b[39m 1.4.0\n",
            "\u001b[32m✔\u001b[39m \u001b[34mreadr  \u001b[39m 1.3.1     \u001b[32m✔\u001b[39m \u001b[34mforcats\u001b[39m 0.4.0\n",
            "── \u001b[1mConflicts\u001b[22m ────────────────────────────────────────── tidyverse_conflicts() ──\n",
            "\u001b[31m✖\u001b[39m \u001b[34mdplyr\u001b[39m::\u001b[32mfilter()\u001b[39m masks \u001b[34mstats\u001b[39m::filter()\n",
            "\u001b[31m✖\u001b[39m \u001b[34mdplyr\u001b[39m::\u001b[32mlag()\u001b[39m    masks \u001b[34mstats\u001b[39m::lag()\n",
            "\n",
            "Attaching package: ‘lubridate’\n",
            "\n",
            "The following object is masked from ‘package:base’:\n",
            "\n",
            "    date\n",
            "\n"
          ],
          "name": "stderr"
        }
      ]
    },
    {
      "cell_type": "code",
      "metadata": {
        "id": "1l8TiYZJHOJk",
        "colab_type": "code",
        "colab": {
          "base_uri": "https://localhost:8080/",
          "height": 106
        },
        "outputId": "2f6855d4-edf1-4008-c278-21037359ee78"
      },
      "source": [
        "install.packages(\"shiny\")"
      ],
      "execution_count": 3,
      "outputs": [
        {
          "output_type": "stream",
          "text": [
            "Installing package into ‘/usr/local/lib/R/site-library’\n",
            "(as ‘lib’ is unspecified)\n",
            "also installing the dependencies ‘httpuv’, ‘xtable’, ‘sourcetools’, ‘later’, ‘promises’\n",
            "\n"
          ],
          "name": "stderr"
        }
      ]
    },
    {
      "cell_type": "code",
      "metadata": {
        "id": "QOpfMVfBHS8r",
        "colab_type": "code",
        "colab": {}
      },
      "source": [
        "library(shiny)"
      ],
      "execution_count": 0,
      "outputs": []
    },
    {
      "cell_type": "code",
      "metadata": {
        "id": "i3q_IYwJOKoI",
        "colab_type": "code",
        "colab": {}
      },
      "source": [
        "# download datasets from data.gov.au\n",
        "\n",
        "# FSL dataset\n",
        "afs_file <- \"https://data.gov.au/data/dataset/ab7eddce-84df-4098-bc8f-500d0d9776d1/resource/1fc2b334-74ae-4588-85aa-83e3a8c9f2cc/download/afs_lic_201906.tsv\""
      ],
      "execution_count": 0,
      "outputs": []
    },
    {
      "cell_type": "code",
      "metadata": {
        "id": "1Zpqf7UWSQ6t",
        "colab_type": "code",
        "colab": {}
      },
      "source": [
        "afs <- read.table(afs_file, sep = '\\t', header = TRUE, comment.char=\"\",  quote =\"\\\"\")\n",
        "\n"
      ],
      "execution_count": 0,
      "outputs": []
    },
    {
      "cell_type": "code",
      "metadata": {
        "id": "AB5N2v84Uwub",
        "colab_type": "code",
        "colab": {}
      },
      "source": [
        "# credit dataset\n",
        "credit_file <- \"https://data.gov.au/data/dataset/fa0b0d71-b8b8-4af8-bc59-0b000ce0d5e4/resource/3abf1383-c4e5-4c1a-8331-8434b17b6f10/download/credit_lic_201906.tsv\"\n"
      ],
      "execution_count": 0,
      "outputs": []
    },
    {
      "cell_type": "code",
      "metadata": {
        "id": "-KtjtbRPVq6X",
        "colab_type": "code",
        "colab": {}
      },
      "source": [
        "# YOUR TURN: read in the credit license file: call it \"credit\" in this cell."
      ],
      "execution_count": 0,
      "outputs": []
    },
    {
      "cell_type": "code",
      "metadata": {
        "id": "NlVYeCbHUbLn",
        "colab_type": "code",
        "colab": {
          "base_uri": "https://localhost:8080/",
          "height": 3171
        },
        "outputId": "463acb6d-b290-45cc-d21b-742f0b675011"
      },
      "source": [
        "tail(afs, 10)"
      ],
      "execution_count": 11,
      "outputs": [
        {
          "output_type": "display_data",
          "data": {
            "text/plain": [
              "     REGISTER_NAME AFS_LIC_NUM AFS_LIC_NAME                             \n",
              "6221 AFS Licence   434976      TOTAL GAS & POWER ASIA PRIVATE LIMITED   \n",
              "6222 AFS Licence   435101      MIC RISK SOLUTIONS CO. LTD.              \n",
              "6223 AFS Licence   438157      DAVANTAGE GROUP PTY LTD                  \n",
              "6224 AFS Licence   441376      ENETT INTERNATIONAL (SINGAPORE) PTE. LTD.\n",
              "6225 AFS Licence   444649      ADVANCED MARKETS LTD.                    \n",
              "6226 AFS Licence   467056      RD LEGAL CAPITAL  LLC                    \n",
              "6227 AFS Licence   478976      GOCARDLESS LTD                           \n",
              "6228 AFS Licence   487703      SHARECLARITY LIMITED                     \n",
              "6229 AFS Licence   501224      MAKO APAC PTE. LTD.                      \n",
              "6230 AFS Licence   505213      TOP CAPITAL PARTNERS LIMITED             \n",
              "     AFS_LIC_ABN_ACN AFS_LIC_START_DT AFS_LIC_PRE_FSR AFS_LIC_ADD_LOCAL\n",
              "6221 71161771286     20130417                                          \n",
              "6222   165758832     20130522                                          \n",
              "6223 35161967166     20130604                         TRARALGON        \n",
              "6224   161362661     20131114                                          \n",
              "6225   164968549     20131211                                          \n",
              "6226   601248980     20150204                                          \n",
              "6227 17606261741     20160215                                          \n",
              "6228   611962620     20160826                                          \n",
              "6229   620949564     20171024                                          \n",
              "6230   623547446     20190205                                          \n",
              "     AFS_LIC_ADD_STATE AFS_LIC_ADD_PCODE AFS_LIC_ADD_COUNTRY AFS_LIC_LAT\n",
              "6221                      0              International              NA  \n",
              "6222                      0              International              NA  \n",
              "6223 VIC               3844              Australia           -38.22213  \n",
              "6224                      0              International              NA  \n",
              "6225                      0              International              NA  \n",
              "6226                      0              International              NA  \n",
              "6227                      0              International              NA  \n",
              "6228                      0              International              NA  \n",
              "6229                      0              International              NA  \n",
              "6230                      0              International              NA  \n",
              "     AFS_LIC_LNG\n",
              "6221       NA   \n",
              "6222       NA   \n",
              "6223 146.5211   \n",
              "6224       NA   \n",
              "6225       NA   \n",
              "6226       NA   \n",
              "6227       NA   \n",
              "6228       NA   \n",
              "6229       NA   \n",
              "6230       NA   \n",
              "     AFS_LIC_CONDITION                                                                                                                                                                                                                                                                                                                                                                                                                                                                                                                                                                                                                                                                                                                                                                                                                                                                                                                                                                                  \n",
              "6221 This licence authorises the licensee to carry on a financial services business to:~provide financial product advice for the following classes of financial products:~derivatives;~Australian carbon credit units; and~eligible international emissions units; and~deal in a financial product by:~issuing, applying for, acquiring, varying or disposing of a financial product in respect of the following classes of financial products:~derivatives; and~applying for, acquiring, varying or disposing of a financial product on behalf of another person in respect of the following classes of products:~derivatives;~Australian carbon credit units; and~eligible international emissions units;~to wholesale clients.                                                                                                                                                                                                                                                                       \n",
              "6222 This licence authorises the licensee to carry on a financial services business to:~provide general financial product advice only, for the following classes of financial products:~general insurance products ;~to wholesale clients.                                                                                                                                                                                                                                                                                                                                                                                                                                                                                                                                                                                                                                                                                                                                                              \n",
              "6223 This licence authorises the licensee to carry on a financial services business to:~provide general financial product advice for the following classes of financial products:~financial products limited to:~miscellaneous financial risk products limited to extended warranty products and motor vehicle gap cover products; and~deal in a financial product by:~issuing, applying for, acquiring, varying or disposing of a financial product in respect of the following classes of financial products:~financial products limited to:~miscellaneous financial risk products limited to extended warranty products and motor vehicle gap cover products; and~applying for, acquiring, varying or disposing of a financial product on behalf of another person in respect of the following classes of products:~financial products limited to:~miscellaneous financial risk products limited to extended warranty products and motor vehicle gap cover products;~to retail and wholesale clients.\n",
              "6224 This licence authorises the licensee to carry on a financial services business to:~deal in a financial product by:~issuing, applying for, acquiring, varying or disposing of a financial product in respect of the following classes of financial products:~deposit and payment products limited to:~non-cash payment products; and~applying for, acquiring, varying or disposing of a financial product on behalf of another person in respect of the following classes of products:~deposit and payment products limited to:~non-cash payment products;~to retail and wholesale clients.                                                                                                                                                                                                                                                                                                                                                                                                         \n",
              "6225 This licence authorises the licensee to carry on a financial services business to:~provide financial product advice for the following classes of financial products:~derivatives; and~foreign exchange contracts;~deal in a financial product by:~issuing, applying for, acquiring, varying or disposing of a financial product in respect of the following classes of financial products:~derivatives; and~foreign exchange contracts; and~make a market for the following financial products:~foreign exchange contracts; and~derivatives;~to wholesale clients.                                                                                                                                                                                                                                                                                                                                                                                                                                 \n",
              "6226 This licence authorises the licensee to carry on a financial services business to:~provide financial product advice for the following classes of financial products:~interests in managed investment schemes excluding investor directed portfolio services; and~securities; and~deal in a financial product by:~applying for, acquiring, varying or disposing of a financial product on behalf of another person in respect of the following classes of products:~interests in managed investment schemes excluding investor directed portfolio services; and~securities;~to wholesale clients.                                                                                                                                                                                                                                                                                                                                                                                                   \n",
              "6227 This licence authorises the licensee to carry on a financial services business to:~provide general financial product advice for the following classes of financial products:~deposit and payment products limited to:~non-cash payment products; and~deal in a financial product by:~issuing, applying for, acquiring, varying or disposing of a financial product in respect of the following classes of financial products:~deposit and payment products limited to:~non-cash payment products; and~applying for, acquiring, varying or disposing of a financial product on behalf of another person in respect of the following classes of products:~deposit and payment products limited to:~non-cash payment products;~to retail and wholesale clients.                                                                                                                                                                                                                                       \n",
              "6228 This licence authorises the licensee to carry on a financial services business to:~provide general financial product advice for the following classes of financial products:~interests in managed investment schemes excluding investor directed portfolio services; and~securities;~to retail and wholesale clients.                                                                                                                                                                                                                                                                                                                                                                                                                                                                                                                                                                                                                                                                              \n",
              "6229 This licence authorises the licensee to carry on a financial services business to:~make a market for the following financial products:~derivatives;~to wholesale clients.                                                                                                                                                                                                                                                                                                                                                                                                                                                                                                                                                                                                                                                                                                                                                                                                                          \n",
              "6230 This licence authorises the licensee to carry on a financial services business to:~provide financial product advice for the following classes of financial products:~securities; and~deal in a financial product by:~applying for, acquiring, varying or disposing of a financial product on behalf of another person in respect of the following classes of products:~securities;~to retail and wholesale clients.                                                                                                                                                                                                                                                                                                                                                                                                                                                                                                                                                                                "
            ],
            "text/latex": "A data.frame: 10 × 13\n\\begin{tabular}{r|lllllllllllll}\n  & REGISTER\\_NAME & AFS\\_LIC\\_NUM & AFS\\_LIC\\_NAME & AFS\\_LIC\\_ABN\\_ACN & AFS\\_LIC\\_START\\_DT & AFS\\_LIC\\_PRE\\_FSR & AFS\\_LIC\\_ADD\\_LOCAL & AFS\\_LIC\\_ADD\\_STATE & AFS\\_LIC\\_ADD\\_PCODE & AFS\\_LIC\\_ADD\\_COUNTRY & AFS\\_LIC\\_LAT & AFS\\_LIC\\_LNG & AFS\\_LIC\\_CONDITION\\\\\n  & <fct> & <int> & <fct> & <dbl> & <fct> & <fct> & <fct> & <fct> & <int> & <fct> & <dbl> & <dbl> & <fct>\\\\\n\\hline\n\t6221 & AFS Licence & 434976 & TOTAL GAS \\& POWER ASIA PRIVATE LIMITED    & 71161771286 & 20130417 &  &           &     &    0 & International &        NA &       NA & This licence authorises the licensee to carry on a financial services business to:\\textasciitilde{}provide financial product advice for the following classes of financial products:\\textasciitilde{}derivatives;\\textasciitilde{}Australian carbon credit units; and\\textasciitilde{}eligible international emissions units; and\\textasciitilde{}deal in a financial product by:\\textasciitilde{}issuing, applying for, acquiring, varying or disposing of a financial product in respect of the following classes of financial products:\\textasciitilde{}derivatives; and\\textasciitilde{}applying for, acquiring, varying or disposing of a financial product on behalf of another person in respect of the following classes of products:\\textasciitilde{}derivatives;\\textasciitilde{}Australian carbon credit units; and\\textasciitilde{}eligible international emissions units;\\textasciitilde{}to wholesale clients.                                                                                                                                                                                                                                                                       \\\\\n\t6222 & AFS Licence & 435101 & MIC RISK SOLUTIONS CO. LTD.               &   165758832 & 20130522 &  &           &     &    0 & International &        NA &       NA & This licence authorises the licensee to carry on a financial services business to:\\textasciitilde{}provide general financial product advice only, for the following classes of financial products:\\textasciitilde{}general insurance products ;\\textasciitilde{}to wholesale clients.                                                                                                                                                                                                                                                                                                                                                                                                                                                                                                                                                                                                                                                                                                                                                              \\\\\n\t6223 & AFS Licence & 438157 & DAVANTAGE GROUP PTY LTD                   & 35161967166 & 20130604 &  & TRARALGON & VIC & 3844 & Australia     & -38.22213 & 146.5211 & This licence authorises the licensee to carry on a financial services business to:\\textasciitilde{}provide general financial product advice for the following classes of financial products:\\textasciitilde{}financial products limited to:\\textasciitilde{}miscellaneous financial risk products limited to extended warranty products and motor vehicle gap cover products; and\\textasciitilde{}deal in a financial product by:\\textasciitilde{}issuing, applying for, acquiring, varying or disposing of a financial product in respect of the following classes of financial products:\\textasciitilde{}financial products limited to:\\textasciitilde{}miscellaneous financial risk products limited to extended warranty products and motor vehicle gap cover products; and\\textasciitilde{}applying for, acquiring, varying or disposing of a financial product on behalf of another person in respect of the following classes of products:\\textasciitilde{}financial products limited to:\\textasciitilde{}miscellaneous financial risk products limited to extended warranty products and motor vehicle gap cover products;\\textasciitilde{}to retail and wholesale clients.\\\\\n\t6224 & AFS Licence & 441376 & ENETT INTERNATIONAL (SINGAPORE) PTE. LTD. &   161362661 & 20131114 &  &           &     &    0 & International &        NA &       NA & This licence authorises the licensee to carry on a financial services business to:\\textasciitilde{}deal in a financial product by:\\textasciitilde{}issuing, applying for, acquiring, varying or disposing of a financial product in respect of the following classes of financial products:\\textasciitilde{}deposit and payment products limited to:\\textasciitilde{}non-cash payment products; and\\textasciitilde{}applying for, acquiring, varying or disposing of a financial product on behalf of another person in respect of the following classes of products:\\textasciitilde{}deposit and payment products limited to:\\textasciitilde{}non-cash payment products;\\textasciitilde{}to retail and wholesale clients.                                                                                                                                                                                                                                                                                                                                                                                                         \\\\\n\t6225 & AFS Licence & 444649 & ADVANCED MARKETS LTD.                     &   164968549 & 20131211 &  &           &     &    0 & International &        NA &       NA & This licence authorises the licensee to carry on a financial services business to:\\textasciitilde{}provide financial product advice for the following classes of financial products:\\textasciitilde{}derivatives; and\\textasciitilde{}foreign exchange contracts;\\textasciitilde{}deal in a financial product by:\\textasciitilde{}issuing, applying for, acquiring, varying or disposing of a financial product in respect of the following classes of financial products:\\textasciitilde{}derivatives; and\\textasciitilde{}foreign exchange contracts; and\\textasciitilde{}make a market for the following financial products:\\textasciitilde{}foreign exchange contracts; and\\textasciitilde{}derivatives;\\textasciitilde{}to wholesale clients.                                                                                                                                                                                                                                                                                                                                                                                                                                 \\\\\n\t6226 & AFS Licence & 467056 & RD LEGAL CAPITAL  LLC                     &   601248980 & 20150204 &  &           &     &    0 & International &        NA &       NA & This licence authorises the licensee to carry on a financial services business to:\\textasciitilde{}provide financial product advice for the following classes of financial products:\\textasciitilde{}interests in managed investment schemes excluding investor directed portfolio services; and\\textasciitilde{}securities; and\\textasciitilde{}deal in a financial product by:\\textasciitilde{}applying for, acquiring, varying or disposing of a financial product on behalf of another person in respect of the following classes of products:\\textasciitilde{}interests in managed investment schemes excluding investor directed portfolio services; and\\textasciitilde{}securities;\\textasciitilde{}to wholesale clients.                                                                                                                                                                                                                                                                                                                                                                                                   \\\\\n\t6227 & AFS Licence & 478976 & GOCARDLESS LTD                            & 17606261741 & 20160215 &  &           &     &    0 & International &        NA &       NA & This licence authorises the licensee to carry on a financial services business to:\\textasciitilde{}provide general financial product advice for the following classes of financial products:\\textasciitilde{}deposit and payment products limited to:\\textasciitilde{}non-cash payment products; and\\textasciitilde{}deal in a financial product by:\\textasciitilde{}issuing, applying for, acquiring, varying or disposing of a financial product in respect of the following classes of financial products:\\textasciitilde{}deposit and payment products limited to:\\textasciitilde{}non-cash payment products; and\\textasciitilde{}applying for, acquiring, varying or disposing of a financial product on behalf of another person in respect of the following classes of products:\\textasciitilde{}deposit and payment products limited to:\\textasciitilde{}non-cash payment products;\\textasciitilde{}to retail and wholesale clients.                                                                                                                                                                                                                                       \\\\\n\t6228 & AFS Licence & 487703 & SHARECLARITY LIMITED                      &   611962620 & 20160826 &  &           &     &    0 & International &        NA &       NA & This licence authorises the licensee to carry on a financial services business to:\\textasciitilde{}provide general financial product advice for the following classes of financial products:\\textasciitilde{}interests in managed investment schemes excluding investor directed portfolio services; and\\textasciitilde{}securities;\\textasciitilde{}to retail and wholesale clients.                                                                                                                                                                                                                                                                                                                                                                                                                                                                                                                                                                                                                                                                              \\\\\n\t6229 & AFS Licence & 501224 & MAKO APAC PTE. LTD.                       &   620949564 & 20171024 &  &           &     &    0 & International &        NA &       NA & This licence authorises the licensee to carry on a financial services business to:\\textasciitilde{}make a market for the following financial products:\\textasciitilde{}derivatives;\\textasciitilde{}to wholesale clients.                                                                                                                                                                                                                                                                                                                                                                                                                                                                                                                                                                                                                                                                                                                                                                                                                          \\\\\n\t6230 & AFS Licence & 505213 & TOP CAPITAL PARTNERS LIMITED              &   623547446 & 20190205 &  &           &     &    0 & International &        NA &       NA & This licence authorises the licensee to carry on a financial services business to:\\textasciitilde{}provide financial product advice for the following classes of financial products:\\textasciitilde{}securities; and\\textasciitilde{}deal in a financial product by:\\textasciitilde{}applying for, acquiring, varying or disposing of a financial product on behalf of another person in respect of the following classes of products:\\textasciitilde{}securities;\\textasciitilde{}to retail and wholesale clients.                                                                                                                                                                                                                                                                                                                                                                                                                                                                                                                                                                                \\\\\n\\end{tabular}\n",
            "text/markdown": "\nA data.frame: 10 × 13\n\n| <!--/--> | REGISTER_NAME &lt;fct&gt; | AFS_LIC_NUM &lt;int&gt; | AFS_LIC_NAME &lt;fct&gt; | AFS_LIC_ABN_ACN &lt;dbl&gt; | AFS_LIC_START_DT &lt;fct&gt; | AFS_LIC_PRE_FSR &lt;fct&gt; | AFS_LIC_ADD_LOCAL &lt;fct&gt; | AFS_LIC_ADD_STATE &lt;fct&gt; | AFS_LIC_ADD_PCODE &lt;int&gt; | AFS_LIC_ADD_COUNTRY &lt;fct&gt; | AFS_LIC_LAT &lt;dbl&gt; | AFS_LIC_LNG &lt;dbl&gt; | AFS_LIC_CONDITION &lt;fct&gt; |\n|---|---|---|---|---|---|---|---|---|---|---|---|---|---|\n| 6221 | AFS Licence | 434976 | TOTAL GAS &amp; POWER ASIA PRIVATE LIMITED    | 71161771286 | 20130417 | <!----> | <!----> | <!----> |    0 | International |        NA |       NA | This licence authorises the licensee to carry on a financial services business to:~provide financial product advice for the following classes of financial products:~derivatives;~Australian carbon credit units; and~eligible international emissions units; and~deal in a financial product by:~issuing, applying for, acquiring, varying or disposing of a financial product in respect of the following classes of financial products:~derivatives; and~applying for, acquiring, varying or disposing of a financial product on behalf of another person in respect of the following classes of products:~derivatives;~Australian carbon credit units; and~eligible international emissions units;~to wholesale clients.                                                                                                                                                                                                                                                                        |\n| 6222 | AFS Licence | 435101 | MIC RISK SOLUTIONS CO. LTD.               |   165758832 | 20130522 | <!----> | <!----> | <!----> |    0 | International |        NA |       NA | This licence authorises the licensee to carry on a financial services business to:~provide general financial product advice only, for the following classes of financial products:~general insurance products ;~to wholesale clients.                                                                                                                                                                                                                                                                                                                                                                                                                                                                                                                                                                                                                                                                                                                                                               |\n| 6223 | AFS Licence | 438157 | DAVANTAGE GROUP PTY LTD                   | 35161967166 | 20130604 | <!----> | TRARALGON | VIC | 3844 | Australia     | -38.22213 | 146.5211 | This licence authorises the licensee to carry on a financial services business to:~provide general financial product advice for the following classes of financial products:~financial products limited to:~miscellaneous financial risk products limited to extended warranty products and motor vehicle gap cover products; and~deal in a financial product by:~issuing, applying for, acquiring, varying or disposing of a financial product in respect of the following classes of financial products:~financial products limited to:~miscellaneous financial risk products limited to extended warranty products and motor vehicle gap cover products; and~applying for, acquiring, varying or disposing of a financial product on behalf of another person in respect of the following classes of products:~financial products limited to:~miscellaneous financial risk products limited to extended warranty products and motor vehicle gap cover products;~to retail and wholesale clients. |\n| 6224 | AFS Licence | 441376 | ENETT INTERNATIONAL (SINGAPORE) PTE. LTD. |   161362661 | 20131114 | <!----> | <!----> | <!----> |    0 | International |        NA |       NA | This licence authorises the licensee to carry on a financial services business to:~deal in a financial product by:~issuing, applying for, acquiring, varying or disposing of a financial product in respect of the following classes of financial products:~deposit and payment products limited to:~non-cash payment products; and~applying for, acquiring, varying or disposing of a financial product on behalf of another person in respect of the following classes of products:~deposit and payment products limited to:~non-cash payment products;~to retail and wholesale clients.                                                                                                                                                                                                                                                                                                                                                                                                          |\n| 6225 | AFS Licence | 444649 | ADVANCED MARKETS LTD.                     |   164968549 | 20131211 | <!----> | <!----> | <!----> |    0 | International |        NA |       NA | This licence authorises the licensee to carry on a financial services business to:~provide financial product advice for the following classes of financial products:~derivatives; and~foreign exchange contracts;~deal in a financial product by:~issuing, applying for, acquiring, varying or disposing of a financial product in respect of the following classes of financial products:~derivatives; and~foreign exchange contracts; and~make a market for the following financial products:~foreign exchange contracts; and~derivatives;~to wholesale clients.                                                                                                                                                                                                                                                                                                                                                                                                                                  |\n| 6226 | AFS Licence | 467056 | RD LEGAL CAPITAL  LLC                     |   601248980 | 20150204 | <!----> | <!----> | <!----> |    0 | International |        NA |       NA | This licence authorises the licensee to carry on a financial services business to:~provide financial product advice for the following classes of financial products:~interests in managed investment schemes excluding investor directed portfolio services; and~securities; and~deal in a financial product by:~applying for, acquiring, varying or disposing of a financial product on behalf of another person in respect of the following classes of products:~interests in managed investment schemes excluding investor directed portfolio services; and~securities;~to wholesale clients.                                                                                                                                                                                                                                                                                                                                                                                                    |\n| 6227 | AFS Licence | 478976 | GOCARDLESS LTD                            | 17606261741 | 20160215 | <!----> | <!----> | <!----> |    0 | International |        NA |       NA | This licence authorises the licensee to carry on a financial services business to:~provide general financial product advice for the following classes of financial products:~deposit and payment products limited to:~non-cash payment products; and~deal in a financial product by:~issuing, applying for, acquiring, varying or disposing of a financial product in respect of the following classes of financial products:~deposit and payment products limited to:~non-cash payment products; and~applying for, acquiring, varying or disposing of a financial product on behalf of another person in respect of the following classes of products:~deposit and payment products limited to:~non-cash payment products;~to retail and wholesale clients.                                                                                                                                                                                                                                        |\n| 6228 | AFS Licence | 487703 | SHARECLARITY LIMITED                      |   611962620 | 20160826 | <!----> | <!----> | <!----> |    0 | International |        NA |       NA | This licence authorises the licensee to carry on a financial services business to:~provide general financial product advice for the following classes of financial products:~interests in managed investment schemes excluding investor directed portfolio services; and~securities;~to retail and wholesale clients.                                                                                                                                                                                                                                                                                                                                                                                                                                                                                                                                                                                                                                                                               |\n| 6229 | AFS Licence | 501224 | MAKO APAC PTE. LTD.                       |   620949564 | 20171024 | <!----> | <!----> | <!----> |    0 | International |        NA |       NA | This licence authorises the licensee to carry on a financial services business to:~make a market for the following financial products:~derivatives;~to wholesale clients.                                                                                                                                                                                                                                                                                                                                                                                                                                                                                                                                                                                                                                                                                                                                                                                                                           |\n| 6230 | AFS Licence | 505213 | TOP CAPITAL PARTNERS LIMITED              |   623547446 | 20190205 | <!----> | <!----> | <!----> |    0 | International |        NA |       NA | This licence authorises the licensee to carry on a financial services business to:~provide financial product advice for the following classes of financial products:~securities; and~deal in a financial product by:~applying for, acquiring, varying or disposing of a financial product on behalf of another person in respect of the following classes of products:~securities;~to retail and wholesale clients.                                                                                                                                                                                                                                                                                                                                                                                                                                                                                                                                                                                 |\n\n",
            "text/html": [
              "<table>\n",
              "<caption>A data.frame: 10 × 13</caption>\n",
              "<thead>\n",
              "\t<tr><th></th><th scope=col>REGISTER_NAME</th><th scope=col>AFS_LIC_NUM</th><th scope=col>AFS_LIC_NAME</th><th scope=col>AFS_LIC_ABN_ACN</th><th scope=col>AFS_LIC_START_DT</th><th scope=col>AFS_LIC_PRE_FSR</th><th scope=col>AFS_LIC_ADD_LOCAL</th><th scope=col>AFS_LIC_ADD_STATE</th><th scope=col>AFS_LIC_ADD_PCODE</th><th scope=col>AFS_LIC_ADD_COUNTRY</th><th scope=col>AFS_LIC_LAT</th><th scope=col>AFS_LIC_LNG</th><th scope=col>AFS_LIC_CONDITION</th></tr>\n",
              "\t<tr><th></th><th scope=col>&lt;fct&gt;</th><th scope=col>&lt;int&gt;</th><th scope=col>&lt;fct&gt;</th><th scope=col>&lt;dbl&gt;</th><th scope=col>&lt;fct&gt;</th><th scope=col>&lt;fct&gt;</th><th scope=col>&lt;fct&gt;</th><th scope=col>&lt;fct&gt;</th><th scope=col>&lt;int&gt;</th><th scope=col>&lt;fct&gt;</th><th scope=col>&lt;dbl&gt;</th><th scope=col>&lt;dbl&gt;</th><th scope=col>&lt;fct&gt;</th></tr>\n",
              "</thead>\n",
              "<tbody>\n",
              "\t<tr><th scope=row>6221</th><td>AFS Licence</td><td>434976</td><td><span style=white-space:pre-wrap>TOTAL GAS &amp; POWER ASIA PRIVATE LIMITED   </span></td><td>71161771286</td><td>20130417</td><td></td><td><span style=white-space:pre-wrap>         </span></td><td><span style=white-space:pre-wrap>   </span></td><td><span style=white-space:pre-wrap>   0</span></td><td>International</td><td><span style=white-space:pre-wrap>       NA</span></td><td><span style=white-space:pre-wrap>      NA</span></td><td><span style=white-space:pre-wrap>This licence authorises the licensee to carry on a financial services business to:~provide financial product advice for the following classes of financial products:~derivatives;~Australian carbon credit units; and~eligible international emissions units; and~deal in a financial product by:~issuing, applying for, acquiring, varying or disposing of a financial product in respect of the following classes of financial products:~derivatives; and~applying for, acquiring, varying or disposing of a financial product on behalf of another person in respect of the following classes of products:~derivatives;~Australian carbon credit units; and~eligible international emissions units;~to wholesale clients.                                                                                                                                                                                                                                                                       </span></td></tr>\n",
              "\t<tr><th scope=row>6222</th><td>AFS Licence</td><td>435101</td><td>MIC RISK SOLUTIONS CO. LTD.              </td><td>  165758832</td><td>20130522</td><td></td><td>         </td><td>   </td><td>   0</td><td>International</td><td>       NA</td><td>      NA</td><td>This licence authorises the licensee to carry on a financial services business to:~provide general financial product advice only, for the following classes of financial products:~general insurance products ;~to wholesale clients.                                                                                                                                                                                                                                                                                                                                                                                                                                                                                                                                                                                                                                                                                                                                                              </td></tr>\n",
              "\t<tr><th scope=row>6223</th><td>AFS Licence</td><td>438157</td><td>DAVANTAGE GROUP PTY LTD                  </td><td>35161967166</td><td>20130604</td><td></td><td>TRARALGON</td><td>VIC</td><td>3844</td><td>Australia    </td><td>-38.22213</td><td>146.5211</td><td>This licence authorises the licensee to carry on a financial services business to:~provide general financial product advice for the following classes of financial products:~financial products limited to:~miscellaneous financial risk products limited to extended warranty products and motor vehicle gap cover products; and~deal in a financial product by:~issuing, applying for, acquiring, varying or disposing of a financial product in respect of the following classes of financial products:~financial products limited to:~miscellaneous financial risk products limited to extended warranty products and motor vehicle gap cover products; and~applying for, acquiring, varying or disposing of a financial product on behalf of another person in respect of the following classes of products:~financial products limited to:~miscellaneous financial risk products limited to extended warranty products and motor vehicle gap cover products;~to retail and wholesale clients.</td></tr>\n",
              "\t<tr><th scope=row>6224</th><td>AFS Licence</td><td>441376</td><td>ENETT INTERNATIONAL (SINGAPORE) PTE. LTD.</td><td>  161362661</td><td>20131114</td><td></td><td>         </td><td>   </td><td>   0</td><td>International</td><td>       NA</td><td>      NA</td><td>This licence authorises the licensee to carry on a financial services business to:~deal in a financial product by:~issuing, applying for, acquiring, varying or disposing of a financial product in respect of the following classes of financial products:~deposit and payment products limited to:~non-cash payment products; and~applying for, acquiring, varying or disposing of a financial product on behalf of another person in respect of the following classes of products:~deposit and payment products limited to:~non-cash payment products;~to retail and wholesale clients.                                                                                                                                                                                                                                                                                                                                                                                                         </td></tr>\n",
              "\t<tr><th scope=row>6225</th><td>AFS Licence</td><td>444649</td><td>ADVANCED MARKETS LTD.                    </td><td>  164968549</td><td>20131211</td><td></td><td>         </td><td>   </td><td>   0</td><td>International</td><td>       NA</td><td>      NA</td><td>This licence authorises the licensee to carry on a financial services business to:~provide financial product advice for the following classes of financial products:~derivatives; and~foreign exchange contracts;~deal in a financial product by:~issuing, applying for, acquiring, varying or disposing of a financial product in respect of the following classes of financial products:~derivatives; and~foreign exchange contracts; and~make a market for the following financial products:~foreign exchange contracts; and~derivatives;~to wholesale clients.                                                                                                                                                                                                                                                                                                                                                                                                                                 </td></tr>\n",
              "\t<tr><th scope=row>6226</th><td>AFS Licence</td><td>467056</td><td>RD LEGAL CAPITAL  LLC                    </td><td>  601248980</td><td>20150204</td><td></td><td>         </td><td>   </td><td>   0</td><td>International</td><td>       NA</td><td>      NA</td><td>This licence authorises the licensee to carry on a financial services business to:~provide financial product advice for the following classes of financial products:~interests in managed investment schemes excluding investor directed portfolio services; and~securities; and~deal in a financial product by:~applying for, acquiring, varying or disposing of a financial product on behalf of another person in respect of the following classes of products:~interests in managed investment schemes excluding investor directed portfolio services; and~securities;~to wholesale clients.                                                                                                                                                                                                                                                                                                                                                                                                   </td></tr>\n",
              "\t<tr><th scope=row>6227</th><td>AFS Licence</td><td>478976</td><td>GOCARDLESS LTD                           </td><td>17606261741</td><td>20160215</td><td></td><td>         </td><td>   </td><td>   0</td><td>International</td><td>       NA</td><td>      NA</td><td>This licence authorises the licensee to carry on a financial services business to:~provide general financial product advice for the following classes of financial products:~deposit and payment products limited to:~non-cash payment products; and~deal in a financial product by:~issuing, applying for, acquiring, varying or disposing of a financial product in respect of the following classes of financial products:~deposit and payment products limited to:~non-cash payment products; and~applying for, acquiring, varying or disposing of a financial product on behalf of another person in respect of the following classes of products:~deposit and payment products limited to:~non-cash payment products;~to retail and wholesale clients.                                                                                                                                                                                                                                       </td></tr>\n",
              "\t<tr><th scope=row>6228</th><td>AFS Licence</td><td>487703</td><td>SHARECLARITY LIMITED                     </td><td>  611962620</td><td>20160826</td><td></td><td>         </td><td>   </td><td>   0</td><td>International</td><td>       NA</td><td>      NA</td><td>This licence authorises the licensee to carry on a financial services business to:~provide general financial product advice for the following classes of financial products:~interests in managed investment schemes excluding investor directed portfolio services; and~securities;~to retail and wholesale clients.                                                                                                                                                                                                                                                                                                                                                                                                                                                                                                                                                                                                                                                                              </td></tr>\n",
              "\t<tr><th scope=row>6229</th><td>AFS Licence</td><td>501224</td><td>MAKO APAC PTE. LTD.                      </td><td>  620949564</td><td>20171024</td><td></td><td>         </td><td>   </td><td>   0</td><td>International</td><td>       NA</td><td>      NA</td><td>This licence authorises the licensee to carry on a financial services business to:~make a market for the following financial products:~derivatives;~to wholesale clients.                                                                                                                                                                                                                                                                                                                                                                                                                                                                                                                                                                                                                                                                                                                                                                                                                          </td></tr>\n",
              "\t<tr><th scope=row>6230</th><td>AFS Licence</td><td>505213</td><td>TOP CAPITAL PARTNERS LIMITED             </td><td>  623547446</td><td>20190205</td><td></td><td>         </td><td>   </td><td>   0</td><td>International</td><td>       NA</td><td>      NA</td><td>This licence authorises the licensee to carry on a financial services business to:~provide financial product advice for the following classes of financial products:~securities; and~deal in a financial product by:~applying for, acquiring, varying or disposing of a financial product on behalf of another person in respect of the following classes of products:~securities;~to retail and wholesale clients.                                                                                                                                                                                                                                                                                                                                                                                                                                                                                                                                                                                </td></tr>\n",
              "</tbody>\n",
              "</table>\n"
            ]
          },
          "metadata": {
            "tags": []
          }
        }
      ]
    },
    {
      "cell_type": "markdown",
      "metadata": {
        "id": "J8b097xGTH2R",
        "colab_type": "text"
      },
      "source": [
        ""
      ]
    },
    {
      "cell_type": "code",
      "metadata": {
        "id": "bmznq-WDOKoL",
        "colab_type": "code",
        "colab": {}
      },
      "source": [
        "# MY SOLUTION: Ok, this was an easy one!\n",
        "credit <- read.table(credit_file, sep = '\\t', header = TRUE, comment.char=\"\",  quote =\"\\\"\")"
      ],
      "execution_count": 0,
      "outputs": []
    },
    {
      "cell_type": "code",
      "metadata": {
        "id": "b_EUsOaHVbW2",
        "colab_type": "code",
        "colab": {
          "base_uri": "https://localhost:8080/",
          "height": 7905
        },
        "outputId": "9e960a20-e999-4741-9ef9-a025de8970b0"
      },
      "source": [
        "tail(credit, 10)"
      ],
      "execution_count": 13,
      "outputs": [
        {
          "output_type": "display_data",
          "data": {
            "text/plain": [
              "     REGISTER_NAME  CRED_LIC_NUM CRED_LIC_NAME                     \n",
              "5234 Credit Licence 514614       LEE, JONG SHIN                    \n",
              "5235 Credit Licence 514650       LOAN IQ PTY. LTD.                 \n",
              "5236 Credit Licence 514759       DPN PTY LTD                       \n",
              "5237 Credit Licence 515176       LEERS GROUP PTY LTD               \n",
              "5238 Credit Licence 515210       ALL FINANZ SOLUTIONS (QLD) PTY LTD\n",
              "5239 Credit Licence 515350       STREAMLINE CAPITAL GROUP PTY LTD  \n",
              "5240 Credit Licence 515399       FISCUS GROUP PTY LTD              \n",
              "5241 Credit Licence 515446       C2LOANS PTY LTD                   \n",
              "5242 Credit Licence 515551       MBC QLD PTY LTD                   \n",
              "5243 Credit Licence 515591       VEHICLE FINANCE SOLUTIONS PTY LTD \n",
              "     CRED_LIC_START_DT CRED_LIC_END_DT CRED_LIC_STATUS CRED_LIC_ABN_ACN\n",
              "5234 18/04/2019        NA              APPR            55205899744     \n",
              "5235 04/04/2019        NA              APPR            80608270435     \n",
              "5236 14/05/2019        NA              APPR            94630700186     \n",
              "5237 26/04/2019        NA              APPR            16608013761     \n",
              "5238 24/05/2019        NA              APPR            46108875323     \n",
              "5239 26/04/2019        NA              APPR            17631038447     \n",
              "5240 03/06/2019        NA              APPR            99628491814     \n",
              "5241 21/05/2019        NA              APPR            54631493466     \n",
              "5242 14/05/2019        NA              APPR              139933430     \n",
              "5243 13/05/2019        NA              APPR            81632550120     \n",
              "     CRED_LIC_AFSL_NUM CRED_LIC_STATUS_HISTORY CRED_LIC_LOCALITY     \n",
              "5234 0                                         BOULEVARDE STRATHFIELD\n",
              "5235 0                                         BEECROFT              \n",
              "5236 0                                         CRONULLA              \n",
              "5237 0                                         MULGRAVE              \n",
              "5238 0                                         TOWNSVILLE            \n",
              "5239 0                                         SYDNEY                \n",
              "5240 0                                         WOLLSTONECRAFT        \n",
              "5241 0                                         SANS SOUCI            \n",
              "5242 0                                         BURLEIGH HEADS        \n",
              "5243 0                                         HEATHMONT             \n",
              "     CRED_LIC_STATE CRED_LIC_PCODE CRED_LIC_LAT CRED_LIC_LNG CRED_LIC_EDRS\n",
              "5234 NSW            2135           -33.88017    151.0928     AFCA         \n",
              "5235 NSW            2119           -33.75674    151.0719     AFCA         \n",
              "5236 NSW            2230           -33.96954    151.1168     AFCA         \n",
              "5237 VIC            3170           -37.93651    145.1836     AFCA         \n",
              "5238 QLD            4810           -19.24192    146.7985     AFCA         \n",
              "5239 NSW            2000           -33.90726    151.0343     AFCA         \n",
              "5240 NSW            2065           -33.83558    151.1972     AFCA         \n",
              "5241 NSW            2219           -34.00275    151.1279     AFCA         \n",
              "5242 QLD            4220           -28.11597    153.4227     AFCA         \n",
              "5243 VIC            3135           -37.82806    145.2437     AFCA         \n",
              "     CRED_LIC_BN                  \n",
              "5234                              \n",
              "5235                              \n",
              "5236                              \n",
              "5237 INDUS CAPITAL                \n",
              "5238 THE ALL FINANZ GROUP         \n",
              "5239                              \n",
              "5240                              \n",
              "5241                              \n",
              "5242 MORTGAGE BROKERS CONSOLIDATED\n",
              "5243                              \n",
              "     CRED_LIC_AUTHORISATIONS                                                                                                                                                                                                                                                                                                                                                                                                                                                                                                                                                                                                                                                                                                                                                                                                                                                                                                                                                                                                                                                                                                                                                                                                                                                       \n",
              "5234 This licence authorises the licensee to:~Engage in credit activities other than as a credit provider by:~providing a credit service where the licensee is not or will not be:~where the service relates to a credit contract or proposed credit contract - the credit provider under the contract; or~where the service relates to a consumer lease or proposed consumer lease - the lessor; and/or~performing the obligations or exercising the rights of a credit provider in relation to a credit contract or proposed credit contract under which the licensee is not or will not be the credit provider; and/or~performing the obligations or exercising the rights of a mortgagee in relation to a mortgage or proposed mortgage that secures or will secure obligations under a credit contract under which the licensee is not the credit provider; and/or~performing the obligations or exercising the rights of a beneficiary under a guarantee or proposed guarantee that guarantees obligations under a credit contract under which the licensee is not the credit provider; and/or~performing the obligations or exercising the rights of a lessor in relation to a consumer lease or proposed consumer lease where the licensee is not or will not be the lessor\n",
              "5235 This licence authorises the licensee to:~Engage in credit activities other than as a credit provider by:~providing a credit service where the licensee is not or will not be:~where the service relates to a credit contract or proposed credit contract - the credit provider under the contract; or~where the service relates to a consumer lease or proposed consumer lease - the lessor; and/or~performing the obligations or exercising the rights of a credit provider in relation to a credit contract or proposed credit contract under which the licensee is not or will not be the credit provider; and/or~performing the obligations or exercising the rights of a mortgagee in relation to a mortgage or proposed mortgage that secures or will secure obligations under a credit contract under which the licensee is not the credit provider; and/or~performing the obligations or exercising the rights of a beneficiary under a guarantee or proposed guarantee that guarantees obligations under a credit contract under which the licensee is not the credit provider; and/or~performing the obligations or exercising the rights of a lessor in relation to a consumer lease or proposed consumer lease where the licensee is not or will not be the lessor\n",
              "5236 This licence authorises the licensee to:~Engage in credit activities other than as a credit provider by:~providing a credit service where the licensee is not or will not be:~where the service relates to a credit contract or proposed credit contract - the credit provider under the contract; or~where the service relates to a consumer lease or proposed consumer lease - the lessor; and/or~performing the obligations or exercising the rights of a credit provider in relation to a credit contract or proposed credit contract under which the licensee is not or will not be the credit provider; and/or~performing the obligations or exercising the rights of a mortgagee in relation to a mortgage or proposed mortgage that secures or will secure obligations under a credit contract under which the licensee is not the credit provider; and/or~performing the obligations or exercising the rights of a beneficiary under a guarantee or proposed guarantee that guarantees obligations under a credit contract under which the licensee is not the credit provider; and/or~performing the obligations or exercising the rights of a lessor in relation to a consumer lease or proposed consumer lease where the licensee is not or will not be the lessor\n",
              "5237 This licence authorises the licensee to:~Engage in credit activities other than as a credit provider by:~providing a credit service where the licensee is not or will not be:~where the service relates to a credit contract or proposed credit contract - the credit provider under the contract; or~where the service relates to a consumer lease or proposed consumer lease - the lessor; and/or~performing the obligations or exercising the rights of a credit provider in relation to a credit contract or proposed credit contract under which the licensee is not or will not be the credit provider; and/or~performing the obligations or exercising the rights of a mortgagee in relation to a mortgage or proposed mortgage that secures or will secure obligations under a credit contract under which the licensee is not the credit provider; and/or~performing the obligations or exercising the rights of a beneficiary under a guarantee or proposed guarantee that guarantees obligations under a credit contract under which the licensee is not the credit provider; and/or~performing the obligations or exercising the rights of a lessor in relation to a consumer lease or proposed consumer lease where the licensee is not or will not be the lessor\n",
              "5238 This licence authorises the licensee to:~Engage in credit activities other than as a credit provider by:~providing a credit service where the licensee is not or will not be:~where the service relates to a credit contract or proposed credit contract - the credit provider under the contract; or~where the service relates to a consumer lease or proposed consumer lease - the lessor; and/or~performing the obligations or exercising the rights of a credit provider in relation to a credit contract or proposed credit contract under which the licensee is not or will not be the credit provider; and/or~performing the obligations or exercising the rights of a mortgagee in relation to a mortgage or proposed mortgage that secures or will secure obligations under a credit contract under which the licensee is not the credit provider; and/or~performing the obligations or exercising the rights of a beneficiary under a guarantee or proposed guarantee that guarantees obligations under a credit contract under which the licensee is not the credit provider; and/or~performing the obligations or exercising the rights of a lessor in relation to a consumer lease or proposed consumer lease where the licensee is not or will not be the lessor\n",
              "5239 This licence authorises the licensee to:~Engage in credit activities other than as a credit provider by:~providing a credit service where the licensee is not or will not be:~where the service relates to a credit contract or proposed credit contract - the credit provider under the contract; or~where the service relates to a consumer lease or proposed consumer lease - the lessor; and/or~performing the obligations or exercising the rights of a credit provider in relation to a credit contract or proposed credit contract under which the licensee is not or will not be the credit provider; and/or~performing the obligations or exercising the rights of a mortgagee in relation to a mortgage or proposed mortgage that secures or will secure obligations under a credit contract under which the licensee is not the credit provider; and/or~performing the obligations or exercising the rights of a beneficiary under a guarantee or proposed guarantee that guarantees obligations under a credit contract under which the licensee is not the credit provider; and/or~performing the obligations or exercising the rights of a lessor in relation to a consumer lease or proposed consumer lease where the licensee is not or will not be the lessor\n",
              "5240 This licence authorises the licensee to:~Engage in credit activities other than as a credit provider by:~providing a credit service where the licensee is not or will not be:~where the service relates to a credit contract or proposed credit contract - the credit provider under the contract; or~where the service relates to a consumer lease or proposed consumer lease - the lessor; and/or~performing the obligations or exercising the rights of a credit provider in relation to a credit contract or proposed credit contract under which the licensee is not or will not be the credit provider; and/or~performing the obligations or exercising the rights of a mortgagee in relation to a mortgage or proposed mortgage that secures or will secure obligations under a credit contract under which the licensee is not the credit provider; and/or~performing the obligations or exercising the rights of a beneficiary under a guarantee or proposed guarantee that guarantees obligations under a credit contract under which the licensee is not the credit provider; and/or~performing the obligations or exercising the rights of a lessor in relation to a consumer lease or proposed consumer lease where the licensee is not or will not be the lessor\n",
              "5241 This licence authorises the licensee to:~Engage in credit activities other than as a credit provider by:~providing a credit service where the licensee is not or will not be:~where the service relates to a credit contract or proposed credit contract - the credit provider under the contract; or~where the service relates to a consumer lease or proposed consumer lease - the lessor; and/or~performing the obligations or exercising the rights of a credit provider in relation to a credit contract or proposed credit contract under which the licensee is not or will not be the credit provider; and/or~performing the obligations or exercising the rights of a mortgagee in relation to a mortgage or proposed mortgage that secures or will secure obligations under a credit contract under which the licensee is not the credit provider; and/or~performing the obligations or exercising the rights of a beneficiary under a guarantee or proposed guarantee that guarantees obligations under a credit contract under which the licensee is not the credit provider; and/or~performing the obligations or exercising the rights of a lessor in relation to a consumer lease or proposed consumer lease where the licensee is not or will not be the lessor\n",
              "5242 This licence authorises the licensee to:~Engage in credit activities other than as a credit provider by:~providing a credit service where the licensee is not or will not be:~where the service relates to a credit contract or proposed credit contract - the credit provider under the contract; or~where the service relates to a consumer lease or proposed consumer lease - the lessor; and/or~performing the obligations or exercising the rights of a credit provider in relation to a credit contract or proposed credit contract under which the licensee is not or will not be the credit provider; and/or~performing the obligations or exercising the rights of a mortgagee in relation to a mortgage or proposed mortgage that secures or will secure obligations under a credit contract under which the licensee is not the credit provider; and/or~performing the obligations or exercising the rights of a beneficiary under a guarantee or proposed guarantee that guarantees obligations under a credit contract under which the licensee is not the credit provider; and/or~performing the obligations or exercising the rights of a lessor in relation to a consumer lease or proposed consumer lease where the licensee is not or will not be the lessor\n",
              "5243 This licence authorises the licensee to:~Engage in credit activities other than as a credit provider by:~providing a credit service where the licensee is not or will not be:~where the service relates to a credit contract or proposed credit contract - the credit provider under the contract; or~where the service relates to a consumer lease or proposed consumer lease - the lessor; and/or~performing the obligations or exercising the rights of a credit provider in relation to a credit contract or proposed credit contract under which the licensee is not or will not be the credit provider; and/or~performing the obligations or exercising the rights of a mortgagee in relation to a mortgage or proposed mortgage that secures or will secure obligations under a credit contract under which the licensee is not the credit provider; and/or~performing the obligations or exercising the rights of a beneficiary under a guarantee or proposed guarantee that guarantees obligations under a credit contract under which the licensee is not the credit provider; and/or~performing the obligations or exercising the rights of a lessor in relation to a consumer lease or proposed consumer lease where the licensee is not or will not be the lessor"
            ],
            "text/latex": "A data.frame: 10 × 17\n\\begin{tabular}{r|lllllllllllllllll}\n  & REGISTER\\_NAME & CRED\\_LIC\\_NUM & CRED\\_LIC\\_NAME & CRED\\_LIC\\_START\\_DT & CRED\\_LIC\\_END\\_DT & CRED\\_LIC\\_STATUS & CRED\\_LIC\\_ABN\\_ACN & CRED\\_LIC\\_AFSL\\_NUM & CRED\\_LIC\\_STATUS\\_HISTORY & CRED\\_LIC\\_LOCALITY & CRED\\_LIC\\_STATE & CRED\\_LIC\\_PCODE & CRED\\_LIC\\_LAT & CRED\\_LIC\\_LNG & CRED\\_LIC\\_EDRS & CRED\\_LIC\\_BN & CRED\\_LIC\\_AUTHORISATIONS\\\\\n  & <fct> & <int> & <fct> & <fct> & <lgl> & <fct> & <dbl> & <int> & <fct> & <fct> & <fct> & <int> & <dbl> & <dbl> & <fct> & <fct> & <fct>\\\\\n\\hline\n\t5234 & Credit Licence & 514614 & LEE, JONG SHIN                     & 18/04/2019 & NA & APPR & 55205899744 & 0 &  & BOULEVARDE STRATHFIELD & NSW & 2135 & -33.88017 & 151.0928 & AFCA &                               & This licence authorises the licensee to:\\textasciitilde{}Engage in credit activities other than as a credit provider by:\\textasciitilde{}providing a credit service where the licensee is not or will not be:\\textasciitilde{}where the service relates to a credit contract or proposed credit contract - the credit provider under the contract; or\\textasciitilde{}where the service relates to a consumer lease or proposed consumer lease - the lessor; and/or\\textasciitilde{}performing the obligations or exercising the rights of a credit provider in relation to a credit contract or proposed credit contract under which the licensee is not or will not be the credit provider; and/or\\textasciitilde{}performing the obligations or exercising the rights of a mortgagee in relation to a mortgage or proposed mortgage that secures or will secure obligations under a credit contract under which the licensee is not the credit provider; and/or\\textasciitilde{}performing the obligations or exercising the rights of a beneficiary under a guarantee or proposed guarantee that guarantees obligations under a credit contract under which the licensee is not the credit provider; and/or\\textasciitilde{}performing the obligations or exercising the rights of a lessor in relation to a consumer lease or proposed consumer lease where the licensee is not or will not be the lessor\\\\\n\t5235 & Credit Licence & 514650 & LOAN IQ PTY. LTD.                  & 04/04/2019 & NA & APPR & 80608270435 & 0 &  & BEECROFT               & NSW & 2119 & -33.75674 & 151.0719 & AFCA &                               & This licence authorises the licensee to:\\textasciitilde{}Engage in credit activities other than as a credit provider by:\\textasciitilde{}providing a credit service where the licensee is not or will not be:\\textasciitilde{}where the service relates to a credit contract or proposed credit contract - the credit provider under the contract; or\\textasciitilde{}where the service relates to a consumer lease or proposed consumer lease - the lessor; and/or\\textasciitilde{}performing the obligations or exercising the rights of a credit provider in relation to a credit contract or proposed credit contract under which the licensee is not or will not be the credit provider; and/or\\textasciitilde{}performing the obligations or exercising the rights of a mortgagee in relation to a mortgage or proposed mortgage that secures or will secure obligations under a credit contract under which the licensee is not the credit provider; and/or\\textasciitilde{}performing the obligations or exercising the rights of a beneficiary under a guarantee or proposed guarantee that guarantees obligations under a credit contract under which the licensee is not the credit provider; and/or\\textasciitilde{}performing the obligations or exercising the rights of a lessor in relation to a consumer lease or proposed consumer lease where the licensee is not or will not be the lessor\\\\\n\t5236 & Credit Licence & 514759 & DPN PTY LTD                        & 14/05/2019 & NA & APPR & 94630700186 & 0 &  & CRONULLA               & NSW & 2230 & -33.96954 & 151.1168 & AFCA &                               & This licence authorises the licensee to:\\textasciitilde{}Engage in credit activities other than as a credit provider by:\\textasciitilde{}providing a credit service where the licensee is not or will not be:\\textasciitilde{}where the service relates to a credit contract or proposed credit contract - the credit provider under the contract; or\\textasciitilde{}where the service relates to a consumer lease or proposed consumer lease - the lessor; and/or\\textasciitilde{}performing the obligations or exercising the rights of a credit provider in relation to a credit contract or proposed credit contract under which the licensee is not or will not be the credit provider; and/or\\textasciitilde{}performing the obligations or exercising the rights of a mortgagee in relation to a mortgage or proposed mortgage that secures or will secure obligations under a credit contract under which the licensee is not the credit provider; and/or\\textasciitilde{}performing the obligations or exercising the rights of a beneficiary under a guarantee or proposed guarantee that guarantees obligations under a credit contract under which the licensee is not the credit provider; and/or\\textasciitilde{}performing the obligations or exercising the rights of a lessor in relation to a consumer lease or proposed consumer lease where the licensee is not or will not be the lessor\\\\\n\t5237 & Credit Licence & 515176 & LEERS GROUP PTY LTD                & 26/04/2019 & NA & APPR & 16608013761 & 0 &  & MULGRAVE               & VIC & 3170 & -37.93651 & 145.1836 & AFCA & INDUS CAPITAL                 & This licence authorises the licensee to:\\textasciitilde{}Engage in credit activities other than as a credit provider by:\\textasciitilde{}providing a credit service where the licensee is not or will not be:\\textasciitilde{}where the service relates to a credit contract or proposed credit contract - the credit provider under the contract; or\\textasciitilde{}where the service relates to a consumer lease or proposed consumer lease - the lessor; and/or\\textasciitilde{}performing the obligations or exercising the rights of a credit provider in relation to a credit contract or proposed credit contract under which the licensee is not or will not be the credit provider; and/or\\textasciitilde{}performing the obligations or exercising the rights of a mortgagee in relation to a mortgage or proposed mortgage that secures or will secure obligations under a credit contract under which the licensee is not the credit provider; and/or\\textasciitilde{}performing the obligations or exercising the rights of a beneficiary under a guarantee or proposed guarantee that guarantees obligations under a credit contract under which the licensee is not the credit provider; and/or\\textasciitilde{}performing the obligations or exercising the rights of a lessor in relation to a consumer lease or proposed consumer lease where the licensee is not or will not be the lessor\\\\\n\t5238 & Credit Licence & 515210 & ALL FINANZ SOLUTIONS (QLD) PTY LTD & 24/05/2019 & NA & APPR & 46108875323 & 0 &  & TOWNSVILLE             & QLD & 4810 & -19.24192 & 146.7985 & AFCA & THE ALL FINANZ GROUP          & This licence authorises the licensee to:\\textasciitilde{}Engage in credit activities other than as a credit provider by:\\textasciitilde{}providing a credit service where the licensee is not or will not be:\\textasciitilde{}where the service relates to a credit contract or proposed credit contract - the credit provider under the contract; or\\textasciitilde{}where the service relates to a consumer lease or proposed consumer lease - the lessor; and/or\\textasciitilde{}performing the obligations or exercising the rights of a credit provider in relation to a credit contract or proposed credit contract under which the licensee is not or will not be the credit provider; and/or\\textasciitilde{}performing the obligations or exercising the rights of a mortgagee in relation to a mortgage or proposed mortgage that secures or will secure obligations under a credit contract under which the licensee is not the credit provider; and/or\\textasciitilde{}performing the obligations or exercising the rights of a beneficiary under a guarantee or proposed guarantee that guarantees obligations under a credit contract under which the licensee is not the credit provider; and/or\\textasciitilde{}performing the obligations or exercising the rights of a lessor in relation to a consumer lease or proposed consumer lease where the licensee is not or will not be the lessor\\\\\n\t5239 & Credit Licence & 515350 & STREAMLINE CAPITAL GROUP PTY LTD   & 26/04/2019 & NA & APPR & 17631038447 & 0 &  & SYDNEY                 & NSW & 2000 & -33.90726 & 151.0343 & AFCA &                               & This licence authorises the licensee to:\\textasciitilde{}Engage in credit activities other than as a credit provider by:\\textasciitilde{}providing a credit service where the licensee is not or will not be:\\textasciitilde{}where the service relates to a credit contract or proposed credit contract - the credit provider under the contract; or\\textasciitilde{}where the service relates to a consumer lease or proposed consumer lease - the lessor; and/or\\textasciitilde{}performing the obligations or exercising the rights of a credit provider in relation to a credit contract or proposed credit contract under which the licensee is not or will not be the credit provider; and/or\\textasciitilde{}performing the obligations or exercising the rights of a mortgagee in relation to a mortgage or proposed mortgage that secures or will secure obligations under a credit contract under which the licensee is not the credit provider; and/or\\textasciitilde{}performing the obligations or exercising the rights of a beneficiary under a guarantee or proposed guarantee that guarantees obligations under a credit contract under which the licensee is not the credit provider; and/or\\textasciitilde{}performing the obligations or exercising the rights of a lessor in relation to a consumer lease or proposed consumer lease where the licensee is not or will not be the lessor\\\\\n\t5240 & Credit Licence & 515399 & FISCUS GROUP PTY LTD               & 03/06/2019 & NA & APPR & 99628491814 & 0 &  & WOLLSTONECRAFT         & NSW & 2065 & -33.83558 & 151.1972 & AFCA &                               & This licence authorises the licensee to:\\textasciitilde{}Engage in credit activities other than as a credit provider by:\\textasciitilde{}providing a credit service where the licensee is not or will not be:\\textasciitilde{}where the service relates to a credit contract or proposed credit contract - the credit provider under the contract; or\\textasciitilde{}where the service relates to a consumer lease or proposed consumer lease - the lessor; and/or\\textasciitilde{}performing the obligations or exercising the rights of a credit provider in relation to a credit contract or proposed credit contract under which the licensee is not or will not be the credit provider; and/or\\textasciitilde{}performing the obligations or exercising the rights of a mortgagee in relation to a mortgage or proposed mortgage that secures or will secure obligations under a credit contract under which the licensee is not the credit provider; and/or\\textasciitilde{}performing the obligations or exercising the rights of a beneficiary under a guarantee or proposed guarantee that guarantees obligations under a credit contract under which the licensee is not the credit provider; and/or\\textasciitilde{}performing the obligations or exercising the rights of a lessor in relation to a consumer lease or proposed consumer lease where the licensee is not or will not be the lessor\\\\\n\t5241 & Credit Licence & 515446 & C2LOANS PTY LTD                    & 21/05/2019 & NA & APPR & 54631493466 & 0 &  & SANS SOUCI             & NSW & 2219 & -34.00275 & 151.1279 & AFCA &                               & This licence authorises the licensee to:\\textasciitilde{}Engage in credit activities other than as a credit provider by:\\textasciitilde{}providing a credit service where the licensee is not or will not be:\\textasciitilde{}where the service relates to a credit contract or proposed credit contract - the credit provider under the contract; or\\textasciitilde{}where the service relates to a consumer lease or proposed consumer lease - the lessor; and/or\\textasciitilde{}performing the obligations or exercising the rights of a credit provider in relation to a credit contract or proposed credit contract under which the licensee is not or will not be the credit provider; and/or\\textasciitilde{}performing the obligations or exercising the rights of a mortgagee in relation to a mortgage or proposed mortgage that secures or will secure obligations under a credit contract under which the licensee is not the credit provider; and/or\\textasciitilde{}performing the obligations or exercising the rights of a beneficiary under a guarantee or proposed guarantee that guarantees obligations under a credit contract under which the licensee is not the credit provider; and/or\\textasciitilde{}performing the obligations or exercising the rights of a lessor in relation to a consumer lease or proposed consumer lease where the licensee is not or will not be the lessor\\\\\n\t5242 & Credit Licence & 515551 & MBC QLD PTY LTD                    & 14/05/2019 & NA & APPR &   139933430 & 0 &  & BURLEIGH HEADS         & QLD & 4220 & -28.11597 & 153.4227 & AFCA & MORTGAGE BROKERS CONSOLIDATED & This licence authorises the licensee to:\\textasciitilde{}Engage in credit activities other than as a credit provider by:\\textasciitilde{}providing a credit service where the licensee is not or will not be:\\textasciitilde{}where the service relates to a credit contract or proposed credit contract - the credit provider under the contract; or\\textasciitilde{}where the service relates to a consumer lease or proposed consumer lease - the lessor; and/or\\textasciitilde{}performing the obligations or exercising the rights of a credit provider in relation to a credit contract or proposed credit contract under which the licensee is not or will not be the credit provider; and/or\\textasciitilde{}performing the obligations or exercising the rights of a mortgagee in relation to a mortgage or proposed mortgage that secures or will secure obligations under a credit contract under which the licensee is not the credit provider; and/or\\textasciitilde{}performing the obligations or exercising the rights of a beneficiary under a guarantee or proposed guarantee that guarantees obligations under a credit contract under which the licensee is not the credit provider; and/or\\textasciitilde{}performing the obligations or exercising the rights of a lessor in relation to a consumer lease or proposed consumer lease where the licensee is not or will not be the lessor\\\\\n\t5243 & Credit Licence & 515591 & VEHICLE FINANCE SOLUTIONS PTY LTD  & 13/05/2019 & NA & APPR & 81632550120 & 0 &  & HEATHMONT              & VIC & 3135 & -37.82806 & 145.2437 & AFCA &                               & This licence authorises the licensee to:\\textasciitilde{}Engage in credit activities other than as a credit provider by:\\textasciitilde{}providing a credit service where the licensee is not or will not be:\\textasciitilde{}where the service relates to a credit contract or proposed credit contract - the credit provider under the contract; or\\textasciitilde{}where the service relates to a consumer lease or proposed consumer lease - the lessor; and/or\\textasciitilde{}performing the obligations or exercising the rights of a credit provider in relation to a credit contract or proposed credit contract under which the licensee is not or will not be the credit provider; and/or\\textasciitilde{}performing the obligations or exercising the rights of a mortgagee in relation to a mortgage or proposed mortgage that secures or will secure obligations under a credit contract under which the licensee is not the credit provider; and/or\\textasciitilde{}performing the obligations or exercising the rights of a beneficiary under a guarantee or proposed guarantee that guarantees obligations under a credit contract under which the licensee is not the credit provider; and/or\\textasciitilde{}performing the obligations or exercising the rights of a lessor in relation to a consumer lease or proposed consumer lease where the licensee is not or will not be the lessor\\\\\n\\end{tabular}\n",
            "text/markdown": "\nA data.frame: 10 × 17\n\n| <!--/--> | REGISTER_NAME &lt;fct&gt; | CRED_LIC_NUM &lt;int&gt; | CRED_LIC_NAME &lt;fct&gt; | CRED_LIC_START_DT &lt;fct&gt; | CRED_LIC_END_DT &lt;lgl&gt; | CRED_LIC_STATUS &lt;fct&gt; | CRED_LIC_ABN_ACN &lt;dbl&gt; | CRED_LIC_AFSL_NUM &lt;int&gt; | CRED_LIC_STATUS_HISTORY &lt;fct&gt; | CRED_LIC_LOCALITY &lt;fct&gt; | CRED_LIC_STATE &lt;fct&gt; | CRED_LIC_PCODE &lt;int&gt; | CRED_LIC_LAT &lt;dbl&gt; | CRED_LIC_LNG &lt;dbl&gt; | CRED_LIC_EDRS &lt;fct&gt; | CRED_LIC_BN &lt;fct&gt; | CRED_LIC_AUTHORISATIONS &lt;fct&gt; |\n|---|---|---|---|---|---|---|---|---|---|---|---|---|---|---|---|---|---|\n| 5234 | Credit Licence | 514614 | LEE, JONG SHIN                     | 18/04/2019 | NA | APPR | 55205899744 | 0 | <!----> | BOULEVARDE STRATHFIELD | NSW | 2135 | -33.88017 | 151.0928 | AFCA | <!----> | This licence authorises the licensee to:~Engage in credit activities other than as a credit provider by:~providing a credit service where the licensee is not or will not be:~where the service relates to a credit contract or proposed credit contract - the credit provider under the contract; or~where the service relates to a consumer lease or proposed consumer lease - the lessor; and/or~performing the obligations or exercising the rights of a credit provider in relation to a credit contract or proposed credit contract under which the licensee is not or will not be the credit provider; and/or~performing the obligations or exercising the rights of a mortgagee in relation to a mortgage or proposed mortgage that secures or will secure obligations under a credit contract under which the licensee is not the credit provider; and/or~performing the obligations or exercising the rights of a beneficiary under a guarantee or proposed guarantee that guarantees obligations under a credit contract under which the licensee is not the credit provider; and/or~performing the obligations or exercising the rights of a lessor in relation to a consumer lease or proposed consumer lease where the licensee is not or will not be the lessor |\n| 5235 | Credit Licence | 514650 | LOAN IQ PTY. LTD.                  | 04/04/2019 | NA | APPR | 80608270435 | 0 | <!----> | BEECROFT               | NSW | 2119 | -33.75674 | 151.0719 | AFCA | <!----> | This licence authorises the licensee to:~Engage in credit activities other than as a credit provider by:~providing a credit service where the licensee is not or will not be:~where the service relates to a credit contract or proposed credit contract - the credit provider under the contract; or~where the service relates to a consumer lease or proposed consumer lease - the lessor; and/or~performing the obligations or exercising the rights of a credit provider in relation to a credit contract or proposed credit contract under which the licensee is not or will not be the credit provider; and/or~performing the obligations or exercising the rights of a mortgagee in relation to a mortgage or proposed mortgage that secures or will secure obligations under a credit contract under which the licensee is not the credit provider; and/or~performing the obligations or exercising the rights of a beneficiary under a guarantee or proposed guarantee that guarantees obligations under a credit contract under which the licensee is not the credit provider; and/or~performing the obligations or exercising the rights of a lessor in relation to a consumer lease or proposed consumer lease where the licensee is not or will not be the lessor |\n| 5236 | Credit Licence | 514759 | DPN PTY LTD                        | 14/05/2019 | NA | APPR | 94630700186 | 0 | <!----> | CRONULLA               | NSW | 2230 | -33.96954 | 151.1168 | AFCA | <!----> | This licence authorises the licensee to:~Engage in credit activities other than as a credit provider by:~providing a credit service where the licensee is not or will not be:~where the service relates to a credit contract or proposed credit contract - the credit provider under the contract; or~where the service relates to a consumer lease or proposed consumer lease - the lessor; and/or~performing the obligations or exercising the rights of a credit provider in relation to a credit contract or proposed credit contract under which the licensee is not or will not be the credit provider; and/or~performing the obligations or exercising the rights of a mortgagee in relation to a mortgage or proposed mortgage that secures or will secure obligations under a credit contract under which the licensee is not the credit provider; and/or~performing the obligations or exercising the rights of a beneficiary under a guarantee or proposed guarantee that guarantees obligations under a credit contract under which the licensee is not the credit provider; and/or~performing the obligations or exercising the rights of a lessor in relation to a consumer lease or proposed consumer lease where the licensee is not or will not be the lessor |\n| 5237 | Credit Licence | 515176 | LEERS GROUP PTY LTD                | 26/04/2019 | NA | APPR | 16608013761 | 0 | <!----> | MULGRAVE               | VIC | 3170 | -37.93651 | 145.1836 | AFCA | INDUS CAPITAL                 | This licence authorises the licensee to:~Engage in credit activities other than as a credit provider by:~providing a credit service where the licensee is not or will not be:~where the service relates to a credit contract or proposed credit contract - the credit provider under the contract; or~where the service relates to a consumer lease or proposed consumer lease - the lessor; and/or~performing the obligations or exercising the rights of a credit provider in relation to a credit contract or proposed credit contract under which the licensee is not or will not be the credit provider; and/or~performing the obligations or exercising the rights of a mortgagee in relation to a mortgage or proposed mortgage that secures or will secure obligations under a credit contract under which the licensee is not the credit provider; and/or~performing the obligations or exercising the rights of a beneficiary under a guarantee or proposed guarantee that guarantees obligations under a credit contract under which the licensee is not the credit provider; and/or~performing the obligations or exercising the rights of a lessor in relation to a consumer lease or proposed consumer lease where the licensee is not or will not be the lessor |\n| 5238 | Credit Licence | 515210 | ALL FINANZ SOLUTIONS (QLD) PTY LTD | 24/05/2019 | NA | APPR | 46108875323 | 0 | <!----> | TOWNSVILLE             | QLD | 4810 | -19.24192 | 146.7985 | AFCA | THE ALL FINANZ GROUP          | This licence authorises the licensee to:~Engage in credit activities other than as a credit provider by:~providing a credit service where the licensee is not or will not be:~where the service relates to a credit contract or proposed credit contract - the credit provider under the contract; or~where the service relates to a consumer lease or proposed consumer lease - the lessor; and/or~performing the obligations or exercising the rights of a credit provider in relation to a credit contract or proposed credit contract under which the licensee is not or will not be the credit provider; and/or~performing the obligations or exercising the rights of a mortgagee in relation to a mortgage or proposed mortgage that secures or will secure obligations under a credit contract under which the licensee is not the credit provider; and/or~performing the obligations or exercising the rights of a beneficiary under a guarantee or proposed guarantee that guarantees obligations under a credit contract under which the licensee is not the credit provider; and/or~performing the obligations or exercising the rights of a lessor in relation to a consumer lease or proposed consumer lease where the licensee is not or will not be the lessor |\n| 5239 | Credit Licence | 515350 | STREAMLINE CAPITAL GROUP PTY LTD   | 26/04/2019 | NA | APPR | 17631038447 | 0 | <!----> | SYDNEY                 | NSW | 2000 | -33.90726 | 151.0343 | AFCA | <!----> | This licence authorises the licensee to:~Engage in credit activities other than as a credit provider by:~providing a credit service where the licensee is not or will not be:~where the service relates to a credit contract or proposed credit contract - the credit provider under the contract; or~where the service relates to a consumer lease or proposed consumer lease - the lessor; and/or~performing the obligations or exercising the rights of a credit provider in relation to a credit contract or proposed credit contract under which the licensee is not or will not be the credit provider; and/or~performing the obligations or exercising the rights of a mortgagee in relation to a mortgage or proposed mortgage that secures or will secure obligations under a credit contract under which the licensee is not the credit provider; and/or~performing the obligations or exercising the rights of a beneficiary under a guarantee or proposed guarantee that guarantees obligations under a credit contract under which the licensee is not the credit provider; and/or~performing the obligations or exercising the rights of a lessor in relation to a consumer lease or proposed consumer lease where the licensee is not or will not be the lessor |\n| 5240 | Credit Licence | 515399 | FISCUS GROUP PTY LTD               | 03/06/2019 | NA | APPR | 99628491814 | 0 | <!----> | WOLLSTONECRAFT         | NSW | 2065 | -33.83558 | 151.1972 | AFCA | <!----> | This licence authorises the licensee to:~Engage in credit activities other than as a credit provider by:~providing a credit service where the licensee is not or will not be:~where the service relates to a credit contract or proposed credit contract - the credit provider under the contract; or~where the service relates to a consumer lease or proposed consumer lease - the lessor; and/or~performing the obligations or exercising the rights of a credit provider in relation to a credit contract or proposed credit contract under which the licensee is not or will not be the credit provider; and/or~performing the obligations or exercising the rights of a mortgagee in relation to a mortgage or proposed mortgage that secures or will secure obligations under a credit contract under which the licensee is not the credit provider; and/or~performing the obligations or exercising the rights of a beneficiary under a guarantee or proposed guarantee that guarantees obligations under a credit contract under which the licensee is not the credit provider; and/or~performing the obligations or exercising the rights of a lessor in relation to a consumer lease or proposed consumer lease where the licensee is not or will not be the lessor |\n| 5241 | Credit Licence | 515446 | C2LOANS PTY LTD                    | 21/05/2019 | NA | APPR | 54631493466 | 0 | <!----> | SANS SOUCI             | NSW | 2219 | -34.00275 | 151.1279 | AFCA | <!----> | This licence authorises the licensee to:~Engage in credit activities other than as a credit provider by:~providing a credit service where the licensee is not or will not be:~where the service relates to a credit contract or proposed credit contract - the credit provider under the contract; or~where the service relates to a consumer lease or proposed consumer lease - the lessor; and/or~performing the obligations or exercising the rights of a credit provider in relation to a credit contract or proposed credit contract under which the licensee is not or will not be the credit provider; and/or~performing the obligations or exercising the rights of a mortgagee in relation to a mortgage or proposed mortgage that secures or will secure obligations under a credit contract under which the licensee is not the credit provider; and/or~performing the obligations or exercising the rights of a beneficiary under a guarantee or proposed guarantee that guarantees obligations under a credit contract under which the licensee is not the credit provider; and/or~performing the obligations or exercising the rights of a lessor in relation to a consumer lease or proposed consumer lease where the licensee is not or will not be the lessor |\n| 5242 | Credit Licence | 515551 | MBC QLD PTY LTD                    | 14/05/2019 | NA | APPR |   139933430 | 0 | <!----> | BURLEIGH HEADS         | QLD | 4220 | -28.11597 | 153.4227 | AFCA | MORTGAGE BROKERS CONSOLIDATED | This licence authorises the licensee to:~Engage in credit activities other than as a credit provider by:~providing a credit service where the licensee is not or will not be:~where the service relates to a credit contract or proposed credit contract - the credit provider under the contract; or~where the service relates to a consumer lease or proposed consumer lease - the lessor; and/or~performing the obligations or exercising the rights of a credit provider in relation to a credit contract or proposed credit contract under which the licensee is not or will not be the credit provider; and/or~performing the obligations or exercising the rights of a mortgagee in relation to a mortgage or proposed mortgage that secures or will secure obligations under a credit contract under which the licensee is not the credit provider; and/or~performing the obligations or exercising the rights of a beneficiary under a guarantee or proposed guarantee that guarantees obligations under a credit contract under which the licensee is not the credit provider; and/or~performing the obligations or exercising the rights of a lessor in relation to a consumer lease or proposed consumer lease where the licensee is not or will not be the lessor |\n| 5243 | Credit Licence | 515591 | VEHICLE FINANCE SOLUTIONS PTY LTD  | 13/05/2019 | NA | APPR | 81632550120 | 0 | <!----> | HEATHMONT              | VIC | 3135 | -37.82806 | 145.2437 | AFCA | <!----> | This licence authorises the licensee to:~Engage in credit activities other than as a credit provider by:~providing a credit service where the licensee is not or will not be:~where the service relates to a credit contract or proposed credit contract - the credit provider under the contract; or~where the service relates to a consumer lease or proposed consumer lease - the lessor; and/or~performing the obligations or exercising the rights of a credit provider in relation to a credit contract or proposed credit contract under which the licensee is not or will not be the credit provider; and/or~performing the obligations or exercising the rights of a mortgagee in relation to a mortgage or proposed mortgage that secures or will secure obligations under a credit contract under which the licensee is not the credit provider; and/or~performing the obligations or exercising the rights of a beneficiary under a guarantee or proposed guarantee that guarantees obligations under a credit contract under which the licensee is not the credit provider; and/or~performing the obligations or exercising the rights of a lessor in relation to a consumer lease or proposed consumer lease where the licensee is not or will not be the lessor |\n\n",
            "text/html": [
              "<table>\n",
              "<caption>A data.frame: 10 × 17</caption>\n",
              "<thead>\n",
              "\t<tr><th></th><th scope=col>REGISTER_NAME</th><th scope=col>CRED_LIC_NUM</th><th scope=col>CRED_LIC_NAME</th><th scope=col>CRED_LIC_START_DT</th><th scope=col>CRED_LIC_END_DT</th><th scope=col>CRED_LIC_STATUS</th><th scope=col>CRED_LIC_ABN_ACN</th><th scope=col>CRED_LIC_AFSL_NUM</th><th scope=col>CRED_LIC_STATUS_HISTORY</th><th scope=col>CRED_LIC_LOCALITY</th><th scope=col>CRED_LIC_STATE</th><th scope=col>CRED_LIC_PCODE</th><th scope=col>CRED_LIC_LAT</th><th scope=col>CRED_LIC_LNG</th><th scope=col>CRED_LIC_EDRS</th><th scope=col>CRED_LIC_BN</th><th scope=col>CRED_LIC_AUTHORISATIONS</th></tr>\n",
              "\t<tr><th></th><th scope=col>&lt;fct&gt;</th><th scope=col>&lt;int&gt;</th><th scope=col>&lt;fct&gt;</th><th scope=col>&lt;fct&gt;</th><th scope=col>&lt;lgl&gt;</th><th scope=col>&lt;fct&gt;</th><th scope=col>&lt;dbl&gt;</th><th scope=col>&lt;int&gt;</th><th scope=col>&lt;fct&gt;</th><th scope=col>&lt;fct&gt;</th><th scope=col>&lt;fct&gt;</th><th scope=col>&lt;int&gt;</th><th scope=col>&lt;dbl&gt;</th><th scope=col>&lt;dbl&gt;</th><th scope=col>&lt;fct&gt;</th><th scope=col>&lt;fct&gt;</th><th scope=col>&lt;fct&gt;</th></tr>\n",
              "</thead>\n",
              "<tbody>\n",
              "\t<tr><th scope=row>5234</th><td>Credit Licence</td><td>514614</td><td>LEE, JONG SHIN                    </td><td>18/04/2019</td><td>NA</td><td>APPR</td><td>55205899744</td><td>0</td><td></td><td>BOULEVARDE STRATHFIELD</td><td>NSW</td><td>2135</td><td>-33.88017</td><td>151.0928</td><td>AFCA</td><td>                             </td><td>This licence authorises the licensee to:~Engage in credit activities other than as a credit provider by:~providing a credit service where the licensee is not or will not be:~where the service relates to a credit contract or proposed credit contract - the credit provider under the contract; or~where the service relates to a consumer lease or proposed consumer lease - the lessor; and/or~performing the obligations or exercising the rights of a credit provider in relation to a credit contract or proposed credit contract under which the licensee is not or will not be the credit provider; and/or~performing the obligations or exercising the rights of a mortgagee in relation to a mortgage or proposed mortgage that secures or will secure obligations under a credit contract under which the licensee is not the credit provider; and/or~performing the obligations or exercising the rights of a beneficiary under a guarantee or proposed guarantee that guarantees obligations under a credit contract under which the licensee is not the credit provider; and/or~performing the obligations or exercising the rights of a lessor in relation to a consumer lease or proposed consumer lease where the licensee is not or will not be the lessor</td></tr>\n",
              "\t<tr><th scope=row>5235</th><td>Credit Licence</td><td>514650</td><td>LOAN IQ PTY. LTD.                 </td><td>04/04/2019</td><td>NA</td><td>APPR</td><td>80608270435</td><td>0</td><td></td><td>BEECROFT              </td><td>NSW</td><td>2119</td><td>-33.75674</td><td>151.0719</td><td>AFCA</td><td>                             </td><td>This licence authorises the licensee to:~Engage in credit activities other than as a credit provider by:~providing a credit service where the licensee is not or will not be:~where the service relates to a credit contract or proposed credit contract - the credit provider under the contract; or~where the service relates to a consumer lease or proposed consumer lease - the lessor; and/or~performing the obligations or exercising the rights of a credit provider in relation to a credit contract or proposed credit contract under which the licensee is not or will not be the credit provider; and/or~performing the obligations or exercising the rights of a mortgagee in relation to a mortgage or proposed mortgage that secures or will secure obligations under a credit contract under which the licensee is not the credit provider; and/or~performing the obligations or exercising the rights of a beneficiary under a guarantee or proposed guarantee that guarantees obligations under a credit contract under which the licensee is not the credit provider; and/or~performing the obligations or exercising the rights of a lessor in relation to a consumer lease or proposed consumer lease where the licensee is not or will not be the lessor</td></tr>\n",
              "\t<tr><th scope=row>5236</th><td>Credit Licence</td><td>514759</td><td>DPN PTY LTD                       </td><td>14/05/2019</td><td>NA</td><td>APPR</td><td>94630700186</td><td>0</td><td></td><td>CRONULLA              </td><td>NSW</td><td>2230</td><td>-33.96954</td><td>151.1168</td><td>AFCA</td><td>                             </td><td>This licence authorises the licensee to:~Engage in credit activities other than as a credit provider by:~providing a credit service where the licensee is not or will not be:~where the service relates to a credit contract or proposed credit contract - the credit provider under the contract; or~where the service relates to a consumer lease or proposed consumer lease - the lessor; and/or~performing the obligations or exercising the rights of a credit provider in relation to a credit contract or proposed credit contract under which the licensee is not or will not be the credit provider; and/or~performing the obligations or exercising the rights of a mortgagee in relation to a mortgage or proposed mortgage that secures or will secure obligations under a credit contract under which the licensee is not the credit provider; and/or~performing the obligations or exercising the rights of a beneficiary under a guarantee or proposed guarantee that guarantees obligations under a credit contract under which the licensee is not the credit provider; and/or~performing the obligations or exercising the rights of a lessor in relation to a consumer lease or proposed consumer lease where the licensee is not or will not be the lessor</td></tr>\n",
              "\t<tr><th scope=row>5237</th><td>Credit Licence</td><td>515176</td><td>LEERS GROUP PTY LTD               </td><td>26/04/2019</td><td>NA</td><td>APPR</td><td>16608013761</td><td>0</td><td></td><td>MULGRAVE              </td><td>VIC</td><td>3170</td><td>-37.93651</td><td>145.1836</td><td>AFCA</td><td>INDUS CAPITAL                </td><td>This licence authorises the licensee to:~Engage in credit activities other than as a credit provider by:~providing a credit service where the licensee is not or will not be:~where the service relates to a credit contract or proposed credit contract - the credit provider under the contract; or~where the service relates to a consumer lease or proposed consumer lease - the lessor; and/or~performing the obligations or exercising the rights of a credit provider in relation to a credit contract or proposed credit contract under which the licensee is not or will not be the credit provider; and/or~performing the obligations or exercising the rights of a mortgagee in relation to a mortgage or proposed mortgage that secures or will secure obligations under a credit contract under which the licensee is not the credit provider; and/or~performing the obligations or exercising the rights of a beneficiary under a guarantee or proposed guarantee that guarantees obligations under a credit contract under which the licensee is not the credit provider; and/or~performing the obligations or exercising the rights of a lessor in relation to a consumer lease or proposed consumer lease where the licensee is not or will not be the lessor</td></tr>\n",
              "\t<tr><th scope=row>5238</th><td>Credit Licence</td><td>515210</td><td>ALL FINANZ SOLUTIONS (QLD) PTY LTD</td><td>24/05/2019</td><td>NA</td><td>APPR</td><td>46108875323</td><td>0</td><td></td><td>TOWNSVILLE            </td><td>QLD</td><td>4810</td><td>-19.24192</td><td>146.7985</td><td>AFCA</td><td>THE ALL FINANZ GROUP         </td><td>This licence authorises the licensee to:~Engage in credit activities other than as a credit provider by:~providing a credit service where the licensee is not or will not be:~where the service relates to a credit contract or proposed credit contract - the credit provider under the contract; or~where the service relates to a consumer lease or proposed consumer lease - the lessor; and/or~performing the obligations or exercising the rights of a credit provider in relation to a credit contract or proposed credit contract under which the licensee is not or will not be the credit provider; and/or~performing the obligations or exercising the rights of a mortgagee in relation to a mortgage or proposed mortgage that secures or will secure obligations under a credit contract under which the licensee is not the credit provider; and/or~performing the obligations or exercising the rights of a beneficiary under a guarantee or proposed guarantee that guarantees obligations under a credit contract under which the licensee is not the credit provider; and/or~performing the obligations or exercising the rights of a lessor in relation to a consumer lease or proposed consumer lease where the licensee is not or will not be the lessor</td></tr>\n",
              "\t<tr><th scope=row>5239</th><td>Credit Licence</td><td>515350</td><td>STREAMLINE CAPITAL GROUP PTY LTD  </td><td>26/04/2019</td><td>NA</td><td>APPR</td><td>17631038447</td><td>0</td><td></td><td>SYDNEY                </td><td>NSW</td><td>2000</td><td>-33.90726</td><td>151.0343</td><td>AFCA</td><td>                             </td><td>This licence authorises the licensee to:~Engage in credit activities other than as a credit provider by:~providing a credit service where the licensee is not or will not be:~where the service relates to a credit contract or proposed credit contract - the credit provider under the contract; or~where the service relates to a consumer lease or proposed consumer lease - the lessor; and/or~performing the obligations or exercising the rights of a credit provider in relation to a credit contract or proposed credit contract under which the licensee is not or will not be the credit provider; and/or~performing the obligations or exercising the rights of a mortgagee in relation to a mortgage or proposed mortgage that secures or will secure obligations under a credit contract under which the licensee is not the credit provider; and/or~performing the obligations or exercising the rights of a beneficiary under a guarantee or proposed guarantee that guarantees obligations under a credit contract under which the licensee is not the credit provider; and/or~performing the obligations or exercising the rights of a lessor in relation to a consumer lease or proposed consumer lease where the licensee is not or will not be the lessor</td></tr>\n",
              "\t<tr><th scope=row>5240</th><td>Credit Licence</td><td>515399</td><td>FISCUS GROUP PTY LTD              </td><td>03/06/2019</td><td>NA</td><td>APPR</td><td>99628491814</td><td>0</td><td></td><td>WOLLSTONECRAFT        </td><td>NSW</td><td>2065</td><td>-33.83558</td><td>151.1972</td><td>AFCA</td><td>                             </td><td>This licence authorises the licensee to:~Engage in credit activities other than as a credit provider by:~providing a credit service where the licensee is not or will not be:~where the service relates to a credit contract or proposed credit contract - the credit provider under the contract; or~where the service relates to a consumer lease or proposed consumer lease - the lessor; and/or~performing the obligations or exercising the rights of a credit provider in relation to a credit contract or proposed credit contract under which the licensee is not or will not be the credit provider; and/or~performing the obligations or exercising the rights of a mortgagee in relation to a mortgage or proposed mortgage that secures or will secure obligations under a credit contract under which the licensee is not the credit provider; and/or~performing the obligations or exercising the rights of a beneficiary under a guarantee or proposed guarantee that guarantees obligations under a credit contract under which the licensee is not the credit provider; and/or~performing the obligations or exercising the rights of a lessor in relation to a consumer lease or proposed consumer lease where the licensee is not or will not be the lessor</td></tr>\n",
              "\t<tr><th scope=row>5241</th><td>Credit Licence</td><td>515446</td><td>C2LOANS PTY LTD                   </td><td>21/05/2019</td><td>NA</td><td>APPR</td><td>54631493466</td><td>0</td><td></td><td>SANS SOUCI            </td><td>NSW</td><td>2219</td><td>-34.00275</td><td>151.1279</td><td>AFCA</td><td>                             </td><td>This licence authorises the licensee to:~Engage in credit activities other than as a credit provider by:~providing a credit service where the licensee is not or will not be:~where the service relates to a credit contract or proposed credit contract - the credit provider under the contract; or~where the service relates to a consumer lease or proposed consumer lease - the lessor; and/or~performing the obligations or exercising the rights of a credit provider in relation to a credit contract or proposed credit contract under which the licensee is not or will not be the credit provider; and/or~performing the obligations or exercising the rights of a mortgagee in relation to a mortgage or proposed mortgage that secures or will secure obligations under a credit contract under which the licensee is not the credit provider; and/or~performing the obligations or exercising the rights of a beneficiary under a guarantee or proposed guarantee that guarantees obligations under a credit contract under which the licensee is not the credit provider; and/or~performing the obligations or exercising the rights of a lessor in relation to a consumer lease or proposed consumer lease where the licensee is not or will not be the lessor</td></tr>\n",
              "\t<tr><th scope=row>5242</th><td>Credit Licence</td><td>515551</td><td>MBC QLD PTY LTD                   </td><td>14/05/2019</td><td>NA</td><td>APPR</td><td>  139933430</td><td>0</td><td></td><td>BURLEIGH HEADS        </td><td>QLD</td><td>4220</td><td>-28.11597</td><td>153.4227</td><td>AFCA</td><td>MORTGAGE BROKERS CONSOLIDATED</td><td>This licence authorises the licensee to:~Engage in credit activities other than as a credit provider by:~providing a credit service where the licensee is not or will not be:~where the service relates to a credit contract or proposed credit contract - the credit provider under the contract; or~where the service relates to a consumer lease or proposed consumer lease - the lessor; and/or~performing the obligations or exercising the rights of a credit provider in relation to a credit contract or proposed credit contract under which the licensee is not or will not be the credit provider; and/or~performing the obligations or exercising the rights of a mortgagee in relation to a mortgage or proposed mortgage that secures or will secure obligations under a credit contract under which the licensee is not the credit provider; and/or~performing the obligations or exercising the rights of a beneficiary under a guarantee or proposed guarantee that guarantees obligations under a credit contract under which the licensee is not the credit provider; and/or~performing the obligations or exercising the rights of a lessor in relation to a consumer lease or proposed consumer lease where the licensee is not or will not be the lessor</td></tr>\n",
              "\t<tr><th scope=row>5243</th><td>Credit Licence</td><td>515591</td><td>VEHICLE FINANCE SOLUTIONS PTY LTD </td><td>13/05/2019</td><td>NA</td><td>APPR</td><td>81632550120</td><td>0</td><td></td><td>HEATHMONT             </td><td>VIC</td><td>3135</td><td>-37.82806</td><td>145.2437</td><td>AFCA</td><td>                             </td><td>This licence authorises the licensee to:~Engage in credit activities other than as a credit provider by:~providing a credit service where the licensee is not or will not be:~where the service relates to a credit contract or proposed credit contract - the credit provider under the contract; or~where the service relates to a consumer lease or proposed consumer lease - the lessor; and/or~performing the obligations or exercising the rights of a credit provider in relation to a credit contract or proposed credit contract under which the licensee is not or will not be the credit provider; and/or~performing the obligations or exercising the rights of a mortgagee in relation to a mortgage or proposed mortgage that secures or will secure obligations under a credit contract under which the licensee is not the credit provider; and/or~performing the obligations or exercising the rights of a beneficiary under a guarantee or proposed guarantee that guarantees obligations under a credit contract under which the licensee is not the credit provider; and/or~performing the obligations or exercising the rights of a lessor in relation to a consumer lease or proposed consumer lease where the licensee is not or will not be the lessor</td></tr>\n",
              "</tbody>\n",
              "</table>\n"
            ]
          },
          "metadata": {
            "tags": []
          }
        }
      ]
    },
    {
      "cell_type": "markdown",
      "metadata": {
        "id": "sjgiyNLeOKoR",
        "colab_type": "text"
      },
      "source": [
        "We can find out some basic information about our datasets. I'll do the afs data, you guys jump in and tell me about the credit data."
      ]
    },
    {
      "cell_type": "code",
      "metadata": {
        "id": "QJCXu0bEOKoT",
        "colab_type": "code",
        "outputId": "b1c5d33e-df34-4382-efa1-3f2c9f50160b",
        "colab": {
          "base_uri": "https://localhost:8080/",
          "height": 279
        }
      },
      "source": [
        "str(afs)"
      ],
      "execution_count": 14,
      "outputs": [
        {
          "output_type": "stream",
          "text": [
            "'data.frame':\t6230 obs. of  13 variables:\n",
            " $ REGISTER_NAME      : Factor w/ 1 level \"AFS Licence\": 1 1 1 1 1 1 1 1 1 1 ...\n",
            " $ AFS_LIC_NUM        : int  218585 218600 218678 218705 218770 219140 219195 219326 219431 219462 ...\n",
            " $ AFS_LIC_NAME       : Factor w/ 6230 levels \"100 DOORS PTY. LTD.\",..: 5548 3005 2882 5538 2432 2681 2687 5710 4177 4391 ...\n",
            " $ AFS_LIC_ABN_ACN    : num  7.61e+10 8.50e+10 8.91e+10 7.41e+10 8.01e+10 ...\n",
            " $ AFS_LIC_START_DT   : Factor w/ 2735 levels \"01/01/2003\",\"01/01/2004\",..: 915 127 2291 1954 1986 1116 2699 964 313 399 ...\n",
            " $ AFS_LIC_PRE_FSR    : Factor w/ 1343 levels \"\",\"FutAdv 062399\",..: 353 208 1 1 20 1 471 1 1 791 ...\n",
            " $ AFS_LIC_ADD_LOCAL  : Factor w/ 1030 levels \"\",\"ABBOTSFORD\",..: 847 844 888 595 888 888 702 687 839 888 ...\n",
            " $ AFS_LIC_ADD_STATE  : Factor w/ 9 levels \"\",\"ACT\",\"NSW\",..: 5 8 3 8 3 3 6 9 8 3 ...\n",
            " $ AFS_LIC_ADD_PCODE  : int  4000 3006 2000 3000 2000 2000 5067 6159 3205 2000 ...\n",
            " $ AFS_LIC_ADD_COUNTRY: Factor w/ 2 levels \"Australia\",\"International\": 1 1 1 1 1 1 1 1 1 1 ...\n",
            " $ AFS_LIC_LAT        : num  -27.5 -37.8 -33.9 -38 -33.9 ...\n",
            " $ AFS_LIC_LNG        : num  153 145 151 145 151 ...\n",
            " $ AFS_LIC_CONDITION  : Factor w/ 3278 levels \"1. This licence authorises the licensee to carry on a financial services business to:~provide financial product\"| __truncated__,..: 1632 1624 64 472 1297 1763 566 1087 3204 2571 ...\n"
          ],
          "name": "stdout"
        }
      ]
    },
    {
      "cell_type": "code",
      "metadata": {
        "id": "KoQV0vdkX5j6",
        "colab_type": "code",
        "colab": {
          "base_uri": "https://localhost:8080/",
          "height": 1005
        },
        "outputId": "17b10e37-eadf-43ce-845c-fdf9a024329d"
      },
      "source": [
        "summary(afs)"
      ],
      "execution_count": 15,
      "outputs": [
        {
          "output_type": "display_data",
          "data": {
            "text/plain": [
              "     REGISTER_NAME   AFS_LIC_NUM    \n",
              " AFS Licence:6230   Min.   :218585  \n",
              "                    1st Qu.:246488  \n",
              "                    Median :344217  \n",
              "                    Mean   :363804  \n",
              "                    3rd Qu.:480936  \n",
              "                    Max.   :515139  \n",
              "                                    \n",
              "                                    AFS_LIC_NAME  AFS_LIC_ABN_ACN    \n",
              " 100 DOORS PTY. LTD.                      :   1   Min.   :0.000e+00  \n",
              " 101 CAPITAL PTY LTD                      :   1   1st Qu.:3.001e+10  \n",
              " 123 INVESTMENT MANAGEMENT PTY LTD        :   1   Median :5.212e+10  \n",
              " 151 PROPERTY CORE PLUS MANAGEMENT LIMITED:   1   Mean   :5.221e+10  \n",
              " 1868 CAPITAL PTY LIMITED                 :   1   3rd Qu.:7.607e+10  \n",
              " 1KW ADELAIDE PTY LTD                     :   1   Max.   :9.968e+10  \n",
              " (Other)                                  :6224                      \n",
              "   AFS_LIC_START_DT\n",
              " 01/03/2004: 209   \n",
              " 10/03/2004: 192   \n",
              " 01/01/2004:  83   \n",
              " 01/02/2004:  83   \n",
              " 01/12/2003:  67   \n",
              " 01/07/2003:  34   \n",
              " (Other)   :5562   \n",
              "                                               AFS_LIC_PRE_FSR\n",
              "                                                       :4887  \n",
              " SecDlr 011162                                         :   2  \n",
              " FutAdv 062399                                         :   1  \n",
              " FutAdv 068772~InsLif 90167~SecDlr 015434~SecDlr 170422:   1  \n",
              " FutAdv 192021~SecDlr 217542                           :   1  \n",
              " FutAdv 192454                                         :   1  \n",
              " (Other)                                               :1337  \n",
              "    AFS_LIC_ADD_LOCAL AFS_LIC_ADD_STATE AFS_LIC_ADD_PCODE\n",
              " SYDNEY      :1618    NSW    :2965      Min.   :   0     \n",
              " MELBOURNE   : 656    VIC    :1584      1st Qu.:2000     \n",
              " BRISBANE    : 182    QLD    : 767      Median :3000     \n",
              " NORTH SYDNEY: 149    WA     : 524      Mean   :3086     \n",
              " ADELAIDE    : 107    SA     : 263      3rd Qu.:4000     \n",
              " PERTH       :  90    ACT    :  55      Max.   :7320     \n",
              " (Other)     :3428    (Other):  72                       \n",
              "    AFS_LIC_ADD_COUNTRY  AFS_LIC_LAT      AFS_LIC_LNG   \n",
              " Australia    :6200     Min.   :-42.98   Min.   :114.6  \n",
              " International:  30     1st Qu.:-37.54   1st Qu.:145.1  \n",
              "                        Median :-33.91   Median :151.0  \n",
              "                        Mean   :-33.93   Mean   :146.1  \n",
              "                        3rd Qu.:-33.73   3rd Qu.:151.2  \n",
              "                        Max.   :-12.38   Max.   :153.6  \n",
              "                        NA's   :30       NA's   :30     \n",
              "                                                                                                                                                                                                                                                                                                                                                                                                                                                                                                                                                                                                                                                                                                                                                                                                                                                                                                                                                                                                                                                                                                                                                                                                                                                                                                                                                                                                                                                                                                                                                                                                                                                                                                                                                                                                                                                                                                                                                                                                                                                       AFS_LIC_CONDITION\n",
              " This licence authorises the licensee to carry on a financial services business to:~provide financial product advice for the following classes of financial products:~deposit and payment products limited to:~basic deposit products;~deposit products other than basic deposit products;~debentures, stocks or bonds issued or proposed to be issued by a government;~life products including:~investment life insurance products as well as any products issued by a Registered Life Insurance Company that are backed by one or more of its statutory funds; and~life risk insurance products as well as any products issued by a Registered Life Insurance Company that are backed by one or more of its statutory funds;~interests in managed investment schemes including:~investor directed portfolio services;~retirement savings accounts (\"RSA\") products (within the meaning of the Retirement Savings Account Act 1997);~securities;~standard margin lending facility; and~superannuation; and~deal in a financial product by:~applying for, acquiring, varying or disposing of a financial product on behalf of another person in respect of the following classes of products:~deposit and payment products limited to:~basic deposit products;~deposit products other than basic deposit products;~debentures, stocks or bonds issued or proposed to be issued by a government;~life products including:~investment life insurance products as well as any products issued by a Registered Life Insurance Company that are backed by one or more of its statutory funds; and~life risk insurance products as well as any products issued by a Registered Life Insurance Company that are backed by one or more of its statutory funds;~interests in managed investment schemes including:~investor directed portfolio services;~retirement savings accounts (\"RSA\") products (within the meaning of the Retirement Savings Account Act 1997);~securities;~standard margin lending facility; and~superannuation;~to retail and wholesale clients.: 354   \n",
              " This licence authorises the licensee to carry on a financial services business to:~provide financial product advice for the following classes of financial products:~general insurance products; and~deal in a financial product by:~applying for, acquiring, varying or disposing of a financial product on behalf of another person in respect of the following classes of products:~general insurance products;~to retail and wholesale clients.                                                                                                                                                                                                                                                                                                                                                                                                                                                                                                                                                                                                                                                                                                                                                                                                                                                                                                                                                                                                                                                                                                                                                                                                                                                                                                                                                                                                                                                                                                                                                                                                            : 344   \n",
              " This licence authorises the licensee to carry on a financial services business to:~provide financial product advice for the following classes of financial products:~general insurance products; and~deal in a financial product by:~issuing, applying for, acquiring, varying or disposing of a financial product in respect of the following classes of financial products:~general insurance products; and~applying for, acquiring, varying or disposing of a financial product on behalf of another person in respect of the following classes of products:~general insurance products;~to retail and wholesale clients.                                                                                                                                                                                                                                                                                                                                                                                                                                                                                                                                                                                                                                                                                                                                                                                                                                                                                                                                                                                                                                                                                                                                                                                                                                                                                                                                                                                                                                   : 203   \n",
              " This licence authorises the licensee to carry on a financial services business to:~provide financial product advice for the following classes of financial products:~superannuation limited to:~self-managed superannuation fund;~a person s existing holding in a superannuation product but only to the extent required for:~making a recommendation that the person establish a self-managed superannuation fund; and~providing advice to the person on contributions or pensions under a superannuation product;~provide class of financial product advice for the following classes of financial products:~deposit and payment products limited to:~basic deposit products;~general insurance products;~life products limited to:~life risk insurance products;~simple managed investment schemes;~securities; and~superannuation; and~deal in a financial product by:~arranging for another person to issue, apply for, acquire, vary or dispose of a financial product in respect of the following classes of financial products:~superannuation limited to:~self-managed superannuation fund; and~arranging for another person to apply for, acquire, vary or dispose of financial products in respect of the following classes of financial products:~superannuation limited to:~self-managed superannuation fund;~to retail and wholesale clients.                                                                                                                                                                                                                                                                                                                                                                                                                                                                                                                                                                                                                                                                                                   : 195   \n",
              " This licence authorises the licensee to carry on a financial services business to:~provide financial product advice for the following classes of financial products:~deposit and payment products limited to:~basic deposit products;~deposit products other than basic deposit products;~debentures, stocks or bonds issued or proposed to be issued by a government;~life products including:~investment life insurance products as well as any products issued by a Registered Life Insurance Company that are backed by one or more of its statutory funds; and~life risk insurance products as well as any products issued by a Registered Life Insurance Company that are backed by one or more of its statutory funds;~interests in managed investment schemes including:~investor directed portfolio services;~retirement savings accounts (\"RSA\") products (within the meaning of the Retirement Savings Account Act 1997);~securities; and~superannuation; and~deal in a financial product by:~applying for, acquiring, varying or disposing of a financial product on behalf of another person in respect of the following classes of products:~deposit and payment products limited to:~basic deposit products;~deposit products other than basic deposit products;~debentures, stocks or bonds issued or proposed to be issued by a government;~life products including:~investment life insurance products as well as any products issued by a Registered Life Insurance Company that are backed by one or more of its statutory funds; and~life risk insurance products as well as any products issued by a Registered Life Insurance Company that are backed by one or more of its statutory funds;~interests in managed investment schemes including:~investor directed portfolio services;~retirement savings accounts (\"RSA\") products (within the meaning of the Retirement Savings Account Act 1997);~securities; and~superannuation;~to retail and wholesale clients.                                                                    : 152   \n",
              " This licence authorises the licensee to carry on a financial services business to:~provide financial product advice for the following classes of financial products:~superannuation limited to:~self-managed superannuation fund;~a person s existing holding in a superannuation product but only to the extent required for:~making a recommendation that the person establish a self-managed superannuation fund; and~providing advice to the person on contributions or pensions under a superannuation product;~provide class of financial product advice for the following classes of financial products:~superannuation; and~deal in a financial product by:~arranging for another person to issue, apply for, acquire, vary or dispose of a financial product in respect of the following classes of financial products:~superannuation limited to:~self-managed superannuation fund; and~arranging for another person to apply for, acquire, vary or dispose of financial products in respect of the following classes of financial products:~superannuation limited to:~self-managed superannuation fund;~to retail and wholesale clients.                                                                                                                                                                                                                                                                                                                                                                                                                                                                                                                                                                                                                                                                                                                                                                                                                                                                                                           : 152   \n",
              " (Other)                                                                                                                                                                                                                                                                                                                                                                                                                                                                                                                                                                                                                                                                                                                                                                                                                                                                                                                                                                                                                                                                                                                                                                                                                                                                                                                                                                                                                                                                                                                                                                                                                                                                                                                                                                                                                                                                                                                                                                                                                                                        :4830   "
            ]
          },
          "metadata": {
            "tags": []
          }
        }
      ]
    },
    {
      "cell_type": "code",
      "metadata": {
        "id": "Li_Cmve7YCZO",
        "colab_type": "code",
        "colab": {}
      },
      "source": [
        "# YOUR TURN: credit dataset investigation:\n",
        "\n",
        "# 1. investigate the credit dataset.\n",
        "\n",
        "# 2. How do we change the names of the credit and the afs datasets so they have common names? "
      ],
      "execution_count": 0,
      "outputs": []
    },
    {
      "cell_type": "markdown",
      "metadata": {
        "id": "fgbYaQxLOKoY",
        "colab_type": "text"
      },
      "source": [
        "## 3. Data Wrangling\n",
        "\n",
        "We need to drop the AFS_ prefix from the afs dataset and the CRED_prefix from the credit dataset variables."
      ]
    },
    {
      "cell_type": "code",
      "metadata": {
        "id": "s8WzhmPjOKoZ",
        "colab_type": "code",
        "colab": {
          "base_uri": "https://localhost:8080/",
          "height": 688
        },
        "outputId": "0b470082-997d-4199-b333-5ab933f7c4be"
      },
      "source": [
        "head(afs,1)"
      ],
      "execution_count": 16,
      "outputs": [
        {
          "output_type": "display_data",
          "data": {
            "text/plain": [
              "  REGISTER_NAME AFS_LIC_NUM AFS_LIC_NAME                   AFS_LIC_ABN_ACN\n",
              "1 AFS Licence   218585      TERRI SCHEER INSURANCE PTY LTD 76070874798    \n",
              "  AFS_LIC_START_DT AFS_LIC_PRE_FSR AFS_LIC_ADD_LOCAL AFS_LIC_ADD_STATE\n",
              "1 11/03/2002       InsGen 50160    SPRING HILL       QLD              \n",
              "  AFS_LIC_ADD_PCODE AFS_LIC_ADD_COUNTRY AFS_LIC_LAT AFS_LIC_LNG\n",
              "1 4000              Australia           -27.45846   153.0225   \n",
              "  AFS_LIC_CONDITION                                                                                                                                                                                                                                                                                                                                                                                                                                                                                                                                                                                                           \n",
              "1 This licence authorises the licensee to carry on a financial services business to:~provide financial product advice for the following classes of financial products:~general insurance products; and~deal in a financial product by:~issuing, applying for, acquiring, varying or disposing of a financial product in respect of the following classes of financial products:~general insurance products; and~applying for, acquiring, varying or disposing of a financial product on behalf of another person in respect of the following classes of products:~general insurance products;~to retail and wholesale clients."
            ],
            "text/latex": "A data.frame: 1 × 13\n\\begin{tabular}{r|lllllllllllll}\n REGISTER\\_NAME & AFS\\_LIC\\_NUM & AFS\\_LIC\\_NAME & AFS\\_LIC\\_ABN\\_ACN & AFS\\_LIC\\_START\\_DT & AFS\\_LIC\\_PRE\\_FSR & AFS\\_LIC\\_ADD\\_LOCAL & AFS\\_LIC\\_ADD\\_STATE & AFS\\_LIC\\_ADD\\_PCODE & AFS\\_LIC\\_ADD\\_COUNTRY & AFS\\_LIC\\_LAT & AFS\\_LIC\\_LNG & AFS\\_LIC\\_CONDITION\\\\\n <fct> & <int> & <fct> & <dbl> & <fct> & <fct> & <fct> & <fct> & <int> & <fct> & <dbl> & <dbl> & <fct>\\\\\n\\hline\n\t AFS Licence & 218585 & TERRI SCHEER INSURANCE PTY LTD & 76070874798 & 11/03/2002 & InsGen 50160 & SPRING HILL & QLD & 4000 & Australia & -27.45846 & 153.0225 & This licence authorises the licensee to carry on a financial services business to:\\textasciitilde{}provide financial product advice for the following classes of financial products:\\textasciitilde{}general insurance products; and\\textasciitilde{}deal in a financial product by:\\textasciitilde{}issuing, applying for, acquiring, varying or disposing of a financial product in respect of the following classes of financial products:\\textasciitilde{}general insurance products; and\\textasciitilde{}applying for, acquiring, varying or disposing of a financial product on behalf of another person in respect of the following classes of products:\\textasciitilde{}general insurance products;\\textasciitilde{}to retail and wholesale clients.\\\\\n\\end{tabular}\n",
            "text/markdown": "\nA data.frame: 1 × 13\n\n| REGISTER_NAME &lt;fct&gt; | AFS_LIC_NUM &lt;int&gt; | AFS_LIC_NAME &lt;fct&gt; | AFS_LIC_ABN_ACN &lt;dbl&gt; | AFS_LIC_START_DT &lt;fct&gt; | AFS_LIC_PRE_FSR &lt;fct&gt; | AFS_LIC_ADD_LOCAL &lt;fct&gt; | AFS_LIC_ADD_STATE &lt;fct&gt; | AFS_LIC_ADD_PCODE &lt;int&gt; | AFS_LIC_ADD_COUNTRY &lt;fct&gt; | AFS_LIC_LAT &lt;dbl&gt; | AFS_LIC_LNG &lt;dbl&gt; | AFS_LIC_CONDITION &lt;fct&gt; |\n|---|---|---|---|---|---|---|---|---|---|---|---|---|\n| AFS Licence | 218585 | TERRI SCHEER INSURANCE PTY LTD | 76070874798 | 11/03/2002 | InsGen 50160 | SPRING HILL | QLD | 4000 | Australia | -27.45846 | 153.0225 | This licence authorises the licensee to carry on a financial services business to:~provide financial product advice for the following classes of financial products:~general insurance products; and~deal in a financial product by:~issuing, applying for, acquiring, varying or disposing of a financial product in respect of the following classes of financial products:~general insurance products; and~applying for, acquiring, varying or disposing of a financial product on behalf of another person in respect of the following classes of products:~general insurance products;~to retail and wholesale clients. |\n\n",
            "text/html": [
              "<table>\n",
              "<caption>A data.frame: 1 × 13</caption>\n",
              "<thead>\n",
              "\t<tr><th scope=col>REGISTER_NAME</th><th scope=col>AFS_LIC_NUM</th><th scope=col>AFS_LIC_NAME</th><th scope=col>AFS_LIC_ABN_ACN</th><th scope=col>AFS_LIC_START_DT</th><th scope=col>AFS_LIC_PRE_FSR</th><th scope=col>AFS_LIC_ADD_LOCAL</th><th scope=col>AFS_LIC_ADD_STATE</th><th scope=col>AFS_LIC_ADD_PCODE</th><th scope=col>AFS_LIC_ADD_COUNTRY</th><th scope=col>AFS_LIC_LAT</th><th scope=col>AFS_LIC_LNG</th><th scope=col>AFS_LIC_CONDITION</th></tr>\n",
              "\t<tr><th scope=col>&lt;fct&gt;</th><th scope=col>&lt;int&gt;</th><th scope=col>&lt;fct&gt;</th><th scope=col>&lt;dbl&gt;</th><th scope=col>&lt;fct&gt;</th><th scope=col>&lt;fct&gt;</th><th scope=col>&lt;fct&gt;</th><th scope=col>&lt;fct&gt;</th><th scope=col>&lt;int&gt;</th><th scope=col>&lt;fct&gt;</th><th scope=col>&lt;dbl&gt;</th><th scope=col>&lt;dbl&gt;</th><th scope=col>&lt;fct&gt;</th></tr>\n",
              "</thead>\n",
              "<tbody>\n",
              "\t<tr><td>AFS Licence</td><td>218585</td><td>TERRI SCHEER INSURANCE PTY LTD</td><td>76070874798</td><td>11/03/2002</td><td>InsGen 50160</td><td>SPRING HILL</td><td>QLD</td><td>4000</td><td>Australia</td><td>-27.45846</td><td>153.0225</td><td>This licence authorises the licensee to carry on a financial services business to:~provide financial product advice for the following classes of financial products:~general insurance products; and~deal in a financial product by:~issuing, applying for, acquiring, varying or disposing of a financial product in respect of the following classes of financial products:~general insurance products; and~applying for, acquiring, varying or disposing of a financial product on behalf of another person in respect of the following classes of products:~general insurance products;~to retail and wholesale clients.</td></tr>\n",
              "</tbody>\n",
              "</table>\n"
            ]
          },
          "metadata": {
            "tags": []
          }
        }
      ]
    },
    {
      "cell_type": "code",
      "metadata": {
        "id": "paJ3jW_kOKob",
        "colab_type": "code",
        "outputId": "412833cd-9752-4c7e-a656-2cdf19915cbd",
        "colab": {
          "base_uri": "https://localhost:8080/",
          "height": 1206
        }
      },
      "source": [
        "head(credit,1)"
      ],
      "execution_count": 17,
      "outputs": [
        {
          "output_type": "display_data",
          "data": {
            "text/plain": [
              "  REGISTER_NAME  CRED_LIC_NUM CRED_LIC_NAME     CRED_LIC_START_DT\n",
              "1 Credit Licence 219612       GIPPSREAL LIMITED 04/10/2010       \n",
              "  CRED_LIC_END_DT CRED_LIC_STATUS CRED_LIC_ABN_ACN CRED_LIC_AFSL_NUM\n",
              "1 NA              APPR            80005443292      219612           \n",
              "  CRED_LIC_STATUS_HISTORY CRED_LIC_LOCALITY CRED_LIC_STATE CRED_LIC_PCODE\n",
              "1                         LEONGATHA         VIC            3953          \n",
              "  CRED_LIC_LAT CRED_LIC_LNG CRED_LIC_EDRS CRED_LIC_BN\n",
              "1 -38.17622    146.3011     FOS                      \n",
              "  CRED_LIC_AUTHORISATIONS                                                                                                                                                                                                                                                                                                                                                                                                                                                                                                                                                                                                                                                                                                                                                                                                                                                                                                                                                                                                                                                                                                                                                                                                                                                                                                                                                                                                                                                                                                                                                                                                                                                                                                                                                                        \n",
              "1 This licence authorises the licensee to:~Engage in credit activities as a credit provider by:~carrying on a business of providing credit being credit the provision of which the National Credit Code applies to; and/or~being a credit provider under a credit contract; and/or~performing the obligations or exercising the rights of a credit provider in relation to a credit contract or proposed credit contract as the credit provider; and/or~providing credit assistance to a consumer which relates to a credit contract or proposed credit contract under which the licensee is or will be the credit provider; and/or~being a mortgagee under a mortgage that secures or will secure obligations under a credit contract under which the licensee is the credit provider; and/or~performing the obligations or exercising the rights of a mortgagee in relation to a mortgage or proposed mortgage which secures or will secure obligations under a credit contract under which the licensee is the credit provider; and/or~being a beneficiary under a guarantee that guarantees obligations under a credit contract under which the licensee is the credit provider; and/or~performing the obligations or exercising the rights of a beneficiary under a guarantee or proposed guarantee which guarantees obligations under a credit contract under which the licensee is the credit provider; and/or~carrying on a business of providing consumer leases; and/or~being a lessor under a consumer lease; and/or~providing credit assistance to a consumer in relation to a consumer lease or proposed consumer lease for which the licensee is the lessor; and/or~performing the obligations or exercising the rights of a lessor in relation to the consumer lease as the lessor"
            ],
            "text/latex": "A data.frame: 1 × 17\n\\begin{tabular}{r|lllllllllllllllll}\n REGISTER\\_NAME & CRED\\_LIC\\_NUM & CRED\\_LIC\\_NAME & CRED\\_LIC\\_START\\_DT & CRED\\_LIC\\_END\\_DT & CRED\\_LIC\\_STATUS & CRED\\_LIC\\_ABN\\_ACN & CRED\\_LIC\\_AFSL\\_NUM & CRED\\_LIC\\_STATUS\\_HISTORY & CRED\\_LIC\\_LOCALITY & CRED\\_LIC\\_STATE & CRED\\_LIC\\_PCODE & CRED\\_LIC\\_LAT & CRED\\_LIC\\_LNG & CRED\\_LIC\\_EDRS & CRED\\_LIC\\_BN & CRED\\_LIC\\_AUTHORISATIONS\\\\\n <fct> & <int> & <fct> & <fct> & <lgl> & <fct> & <dbl> & <int> & <fct> & <fct> & <fct> & <int> & <dbl> & <dbl> & <fct> & <fct> & <fct>\\\\\n\\hline\n\t Credit Licence & 219612 & GIPPSREAL LIMITED & 04/10/2010 & NA & APPR & 80005443292 & 219612 &  & LEONGATHA & VIC & 3953 & -38.17622 & 146.3011 & FOS &  & This licence authorises the licensee to:\\textasciitilde{}Engage in credit activities as a credit provider by:\\textasciitilde{}carrying on a business of providing credit being credit the provision of which the National Credit Code applies to; and/or\\textasciitilde{}being a credit provider under a credit contract; and/or\\textasciitilde{}performing the obligations or exercising the rights of a credit provider in relation to a credit contract or proposed credit contract as the credit provider; and/or\\textasciitilde{}providing credit assistance to a consumer which relates to a credit contract or proposed credit contract under which the licensee is or will be the credit provider; and/or\\textasciitilde{}being a mortgagee under a mortgage that secures or will secure obligations under a credit contract under which the licensee is the credit provider; and/or\\textasciitilde{}performing the obligations or exercising the rights of a mortgagee in relation to a mortgage or proposed mortgage which secures or will secure obligations under a credit contract under which the licensee is the credit provider; and/or\\textasciitilde{}being a beneficiary under a guarantee that guarantees obligations under a credit contract under which the licensee is the credit provider; and/or\\textasciitilde{}performing the obligations or exercising the rights of a beneficiary under a guarantee or proposed guarantee which guarantees obligations under a credit contract under which the licensee is the credit provider; and/or\\textasciitilde{}carrying on a business of providing consumer leases; and/or\\textasciitilde{}being a lessor under a consumer lease; and/or\\textasciitilde{}providing credit assistance to a consumer in relation to a consumer lease or proposed consumer lease for which the licensee is the lessor; and/or\\textasciitilde{}performing the obligations or exercising the rights of a lessor in relation to the consumer lease as the lessor\\\\\n\\end{tabular}\n",
            "text/markdown": "\nA data.frame: 1 × 17\n\n| REGISTER_NAME &lt;fct&gt; | CRED_LIC_NUM &lt;int&gt; | CRED_LIC_NAME &lt;fct&gt; | CRED_LIC_START_DT &lt;fct&gt; | CRED_LIC_END_DT &lt;lgl&gt; | CRED_LIC_STATUS &lt;fct&gt; | CRED_LIC_ABN_ACN &lt;dbl&gt; | CRED_LIC_AFSL_NUM &lt;int&gt; | CRED_LIC_STATUS_HISTORY &lt;fct&gt; | CRED_LIC_LOCALITY &lt;fct&gt; | CRED_LIC_STATE &lt;fct&gt; | CRED_LIC_PCODE &lt;int&gt; | CRED_LIC_LAT &lt;dbl&gt; | CRED_LIC_LNG &lt;dbl&gt; | CRED_LIC_EDRS &lt;fct&gt; | CRED_LIC_BN &lt;fct&gt; | CRED_LIC_AUTHORISATIONS &lt;fct&gt; |\n|---|---|---|---|---|---|---|---|---|---|---|---|---|---|---|---|---|\n| Credit Licence | 219612 | GIPPSREAL LIMITED | 04/10/2010 | NA | APPR | 80005443292 | 219612 | <!----> | LEONGATHA | VIC | 3953 | -38.17622 | 146.3011 | FOS | <!----> | This licence authorises the licensee to:~Engage in credit activities as a credit provider by:~carrying on a business of providing credit being credit the provision of which the National Credit Code applies to; and/or~being a credit provider under a credit contract; and/or~performing the obligations or exercising the rights of a credit provider in relation to a credit contract or proposed credit contract as the credit provider; and/or~providing credit assistance to a consumer which relates to a credit contract or proposed credit contract under which the licensee is or will be the credit provider; and/or~being a mortgagee under a mortgage that secures or will secure obligations under a credit contract under which the licensee is the credit provider; and/or~performing the obligations or exercising the rights of a mortgagee in relation to a mortgage or proposed mortgage which secures or will secure obligations under a credit contract under which the licensee is the credit provider; and/or~being a beneficiary under a guarantee that guarantees obligations under a credit contract under which the licensee is the credit provider; and/or~performing the obligations or exercising the rights of a beneficiary under a guarantee or proposed guarantee which guarantees obligations under a credit contract under which the licensee is the credit provider; and/or~carrying on a business of providing consumer leases; and/or~being a lessor under a consumer lease; and/or~providing credit assistance to a consumer in relation to a consumer lease or proposed consumer lease for which the licensee is the lessor; and/or~performing the obligations or exercising the rights of a lessor in relation to the consumer lease as the lessor |\n\n",
            "text/html": [
              "<table>\n",
              "<caption>A data.frame: 1 × 17</caption>\n",
              "<thead>\n",
              "\t<tr><th scope=col>REGISTER_NAME</th><th scope=col>CRED_LIC_NUM</th><th scope=col>CRED_LIC_NAME</th><th scope=col>CRED_LIC_START_DT</th><th scope=col>CRED_LIC_END_DT</th><th scope=col>CRED_LIC_STATUS</th><th scope=col>CRED_LIC_ABN_ACN</th><th scope=col>CRED_LIC_AFSL_NUM</th><th scope=col>CRED_LIC_STATUS_HISTORY</th><th scope=col>CRED_LIC_LOCALITY</th><th scope=col>CRED_LIC_STATE</th><th scope=col>CRED_LIC_PCODE</th><th scope=col>CRED_LIC_LAT</th><th scope=col>CRED_LIC_LNG</th><th scope=col>CRED_LIC_EDRS</th><th scope=col>CRED_LIC_BN</th><th scope=col>CRED_LIC_AUTHORISATIONS</th></tr>\n",
              "\t<tr><th scope=col>&lt;fct&gt;</th><th scope=col>&lt;int&gt;</th><th scope=col>&lt;fct&gt;</th><th scope=col>&lt;fct&gt;</th><th scope=col>&lt;lgl&gt;</th><th scope=col>&lt;fct&gt;</th><th scope=col>&lt;dbl&gt;</th><th scope=col>&lt;int&gt;</th><th scope=col>&lt;fct&gt;</th><th scope=col>&lt;fct&gt;</th><th scope=col>&lt;fct&gt;</th><th scope=col>&lt;int&gt;</th><th scope=col>&lt;dbl&gt;</th><th scope=col>&lt;dbl&gt;</th><th scope=col>&lt;fct&gt;</th><th scope=col>&lt;fct&gt;</th><th scope=col>&lt;fct&gt;</th></tr>\n",
              "</thead>\n",
              "<tbody>\n",
              "\t<tr><td>Credit Licence</td><td>219612</td><td>GIPPSREAL LIMITED</td><td>04/10/2010</td><td>NA</td><td>APPR</td><td>80005443292</td><td>219612</td><td></td><td>LEONGATHA</td><td>VIC</td><td>3953</td><td>-38.17622</td><td>146.3011</td><td>FOS</td><td></td><td>This licence authorises the licensee to:~Engage in credit activities as a credit provider by:~carrying on a business of providing credit being credit the provision of which the National Credit Code applies to; and/or~being a credit provider under a credit contract; and/or~performing the obligations or exercising the rights of a credit provider in relation to a credit contract or proposed credit contract as the credit provider; and/or~providing credit assistance to a consumer which relates to a credit contract or proposed credit contract under which the licensee is or will be the credit provider; and/or~being a mortgagee under a mortgage that secures or will secure obligations under a credit contract under which the licensee is the credit provider; and/or~performing the obligations or exercising the rights of a mortgagee in relation to a mortgage or proposed mortgage which secures or will secure obligations under a credit contract under which the licensee is the credit provider; and/or~being a beneficiary under a guarantee that guarantees obligations under a credit contract under which the licensee is the credit provider; and/or~performing the obligations or exercising the rights of a beneficiary under a guarantee or proposed guarantee which guarantees obligations under a credit contract under which the licensee is the credit provider; and/or~carrying on a business of providing consumer leases; and/or~being a lessor under a consumer lease; and/or~providing credit assistance to a consumer in relation to a consumer lease or proposed consumer lease for which the licensee is the lessor; and/or~performing the obligations or exercising the rights of a lessor in relation to the consumer lease as the lessor</td></tr>\n",
              "</tbody>\n",
              "</table>\n"
            ]
          },
          "metadata": {
            "tags": []
          }
        }
      ]
    },
    {
      "cell_type": "code",
      "metadata": {
        "id": "iCjptj4Vjs1T",
        "colab_type": "code",
        "colab": {
          "base_uri": "https://localhost:8080/",
          "height": 577
        },
        "outputId": "56e4571f-0593-48af-d19f-b6d1c0cbe567"
      },
      "source": [
        "names(afs)\n",
        "names(credit)"
      ],
      "execution_count": 18,
      "outputs": [
        {
          "output_type": "display_data",
          "data": {
            "text/plain": [
              " [1] \"REGISTER_NAME\"       \"AFS_LIC_NUM\"         \"AFS_LIC_NAME\"       \n",
              " [4] \"AFS_LIC_ABN_ACN\"     \"AFS_LIC_START_DT\"    \"AFS_LIC_PRE_FSR\"    \n",
              " [7] \"AFS_LIC_ADD_LOCAL\"   \"AFS_LIC_ADD_STATE\"   \"AFS_LIC_ADD_PCODE\"  \n",
              "[10] \"AFS_LIC_ADD_COUNTRY\" \"AFS_LIC_LAT\"         \"AFS_LIC_LNG\"        \n",
              "[13] \"AFS_LIC_CONDITION\"  "
            ],
            "text/latex": "\\begin{enumerate*}\n\\item 'REGISTER\\_NAME'\n\\item 'AFS\\_LIC\\_NUM'\n\\item 'AFS\\_LIC\\_NAME'\n\\item 'AFS\\_LIC\\_ABN\\_ACN'\n\\item 'AFS\\_LIC\\_START\\_DT'\n\\item 'AFS\\_LIC\\_PRE\\_FSR'\n\\item 'AFS\\_LIC\\_ADD\\_LOCAL'\n\\item 'AFS\\_LIC\\_ADD\\_STATE'\n\\item 'AFS\\_LIC\\_ADD\\_PCODE'\n\\item 'AFS\\_LIC\\_ADD\\_COUNTRY'\n\\item 'AFS\\_LIC\\_LAT'\n\\item 'AFS\\_LIC\\_LNG'\n\\item 'AFS\\_LIC\\_CONDITION'\n\\end{enumerate*}\n",
            "text/markdown": "1. 'REGISTER_NAME'\n2. 'AFS_LIC_NUM'\n3. 'AFS_LIC_NAME'\n4. 'AFS_LIC_ABN_ACN'\n5. 'AFS_LIC_START_DT'\n6. 'AFS_LIC_PRE_FSR'\n7. 'AFS_LIC_ADD_LOCAL'\n8. 'AFS_LIC_ADD_STATE'\n9. 'AFS_LIC_ADD_PCODE'\n10. 'AFS_LIC_ADD_COUNTRY'\n11. 'AFS_LIC_LAT'\n12. 'AFS_LIC_LNG'\n13. 'AFS_LIC_CONDITION'\n\n\n",
            "text/html": [
              "<ol class=list-inline>\n",
              "\t<li>'REGISTER_NAME'</li>\n",
              "\t<li>'AFS_LIC_NUM'</li>\n",
              "\t<li>'AFS_LIC_NAME'</li>\n",
              "\t<li>'AFS_LIC_ABN_ACN'</li>\n",
              "\t<li>'AFS_LIC_START_DT'</li>\n",
              "\t<li>'AFS_LIC_PRE_FSR'</li>\n",
              "\t<li>'AFS_LIC_ADD_LOCAL'</li>\n",
              "\t<li>'AFS_LIC_ADD_STATE'</li>\n",
              "\t<li>'AFS_LIC_ADD_PCODE'</li>\n",
              "\t<li>'AFS_LIC_ADD_COUNTRY'</li>\n",
              "\t<li>'AFS_LIC_LAT'</li>\n",
              "\t<li>'AFS_LIC_LNG'</li>\n",
              "\t<li>'AFS_LIC_CONDITION'</li>\n",
              "</ol>\n"
            ]
          },
          "metadata": {
            "tags": []
          }
        },
        {
          "output_type": "display_data",
          "data": {
            "text/plain": [
              " [1] \"REGISTER_NAME\"           \"CRED_LIC_NUM\"           \n",
              " [3] \"CRED_LIC_NAME\"           \"CRED_LIC_START_DT\"      \n",
              " [5] \"CRED_LIC_END_DT\"         \"CRED_LIC_STATUS\"        \n",
              " [7] \"CRED_LIC_ABN_ACN\"        \"CRED_LIC_AFSL_NUM\"      \n",
              " [9] \"CRED_LIC_STATUS_HISTORY\" \"CRED_LIC_LOCALITY\"      \n",
              "[11] \"CRED_LIC_STATE\"          \"CRED_LIC_PCODE\"         \n",
              "[13] \"CRED_LIC_LAT\"            \"CRED_LIC_LNG\"           \n",
              "[15] \"CRED_LIC_EDRS\"           \"CRED_LIC_BN\"            \n",
              "[17] \"CRED_LIC_AUTHORISATIONS\""
            ],
            "text/latex": "\\begin{enumerate*}\n\\item 'REGISTER\\_NAME'\n\\item 'CRED\\_LIC\\_NUM'\n\\item 'CRED\\_LIC\\_NAME'\n\\item 'CRED\\_LIC\\_START\\_DT'\n\\item 'CRED\\_LIC\\_END\\_DT'\n\\item 'CRED\\_LIC\\_STATUS'\n\\item 'CRED\\_LIC\\_ABN\\_ACN'\n\\item 'CRED\\_LIC\\_AFSL\\_NUM'\n\\item 'CRED\\_LIC\\_STATUS\\_HISTORY'\n\\item 'CRED\\_LIC\\_LOCALITY'\n\\item 'CRED\\_LIC\\_STATE'\n\\item 'CRED\\_LIC\\_PCODE'\n\\item 'CRED\\_LIC\\_LAT'\n\\item 'CRED\\_LIC\\_LNG'\n\\item 'CRED\\_LIC\\_EDRS'\n\\item 'CRED\\_LIC\\_BN'\n\\item 'CRED\\_LIC\\_AUTHORISATIONS'\n\\end{enumerate*}\n",
            "text/markdown": "1. 'REGISTER_NAME'\n2. 'CRED_LIC_NUM'\n3. 'CRED_LIC_NAME'\n4. 'CRED_LIC_START_DT'\n5. 'CRED_LIC_END_DT'\n6. 'CRED_LIC_STATUS'\n7. 'CRED_LIC_ABN_ACN'\n8. 'CRED_LIC_AFSL_NUM'\n9. 'CRED_LIC_STATUS_HISTORY'\n10. 'CRED_LIC_LOCALITY'\n11. 'CRED_LIC_STATE'\n12. 'CRED_LIC_PCODE'\n13. 'CRED_LIC_LAT'\n14. 'CRED_LIC_LNG'\n15. 'CRED_LIC_EDRS'\n16. 'CRED_LIC_BN'\n17. 'CRED_LIC_AUTHORISATIONS'\n\n\n",
            "text/html": [
              "<ol class=list-inline>\n",
              "\t<li>'REGISTER_NAME'</li>\n",
              "\t<li>'CRED_LIC_NUM'</li>\n",
              "\t<li>'CRED_LIC_NAME'</li>\n",
              "\t<li>'CRED_LIC_START_DT'</li>\n",
              "\t<li>'CRED_LIC_END_DT'</li>\n",
              "\t<li>'CRED_LIC_STATUS'</li>\n",
              "\t<li>'CRED_LIC_ABN_ACN'</li>\n",
              "\t<li>'CRED_LIC_AFSL_NUM'</li>\n",
              "\t<li>'CRED_LIC_STATUS_HISTORY'</li>\n",
              "\t<li>'CRED_LIC_LOCALITY'</li>\n",
              "\t<li>'CRED_LIC_STATE'</li>\n",
              "\t<li>'CRED_LIC_PCODE'</li>\n",
              "\t<li>'CRED_LIC_LAT'</li>\n",
              "\t<li>'CRED_LIC_LNG'</li>\n",
              "\t<li>'CRED_LIC_EDRS'</li>\n",
              "\t<li>'CRED_LIC_BN'</li>\n",
              "\t<li>'CRED_LIC_AUTHORISATIONS'</li>\n",
              "</ol>\n"
            ]
          },
          "metadata": {
            "tags": []
          }
        }
      ]
    },
    {
      "cell_type": "code",
      "metadata": {
        "id": "nmX7vvnljbH_",
        "colab_type": "code",
        "colab": {}
      },
      "source": [
        "# I'll clean the afs dataset, below you can clean the credit dataset\n",
        "\n",
        "rename_cols <- function(prefix, dataset) {\n",
        "  gsub(prefix, \"\", names(dataset))\n",
        "}\n"
      ],
      "execution_count": 0,
      "outputs": []
    },
    {
      "cell_type": "code",
      "metadata": {
        "id": "bbnjxihHj03x",
        "colab_type": "code",
        "colab": {}
      },
      "source": [
        "# remove the AFS_ prefix\n",
        "names(afs) <- rename_cols(\"AFS_\", afs)\n",
        "\n",
        "# oops there is also a random ADD_ which needs to be removed in names like AFS_LIC_ADD_LOCAL\n",
        "names(afs) <- rename_cols(\"ADD_\", afs)\n",
        "names(afs)[names(afs) == \"LIC_LOCAL\"] <-\"LIC_LOCALITY\""
      ],
      "execution_count": 0,
      "outputs": []
    },
    {
      "cell_type": "code",
      "metadata": {
        "id": "JFjvjc57-PAU",
        "colab_type": "code",
        "colab": {
          "base_uri": "https://localhost:8080/",
          "height": 338
        },
        "outputId": "d8cfcf53-1ebb-4e94-9556-c7d9b86d6bef"
      },
      "source": [
        "# YOUR TURN: drop the _CRED prefix from the credit file\n",
        "\n",
        "names(credit)"
      ],
      "execution_count": 21,
      "outputs": [
        {
          "output_type": "display_data",
          "data": {
            "text/plain": [
              " [1] \"REGISTER_NAME\"           \"CRED_LIC_NUM\"           \n",
              " [3] \"CRED_LIC_NAME\"           \"CRED_LIC_START_DT\"      \n",
              " [5] \"CRED_LIC_END_DT\"         \"CRED_LIC_STATUS\"        \n",
              " [7] \"CRED_LIC_ABN_ACN\"        \"CRED_LIC_AFSL_NUM\"      \n",
              " [9] \"CRED_LIC_STATUS_HISTORY\" \"CRED_LIC_LOCALITY\"      \n",
              "[11] \"CRED_LIC_STATE\"          \"CRED_LIC_PCODE\"         \n",
              "[13] \"CRED_LIC_LAT\"            \"CRED_LIC_LNG\"           \n",
              "[15] \"CRED_LIC_EDRS\"           \"CRED_LIC_BN\"            \n",
              "[17] \"CRED_LIC_AUTHORISATIONS\""
            ],
            "text/latex": "\\begin{enumerate*}\n\\item 'REGISTER\\_NAME'\n\\item 'CRED\\_LIC\\_NUM'\n\\item 'CRED\\_LIC\\_NAME'\n\\item 'CRED\\_LIC\\_START\\_DT'\n\\item 'CRED\\_LIC\\_END\\_DT'\n\\item 'CRED\\_LIC\\_STATUS'\n\\item 'CRED\\_LIC\\_ABN\\_ACN'\n\\item 'CRED\\_LIC\\_AFSL\\_NUM'\n\\item 'CRED\\_LIC\\_STATUS\\_HISTORY'\n\\item 'CRED\\_LIC\\_LOCALITY'\n\\item 'CRED\\_LIC\\_STATE'\n\\item 'CRED\\_LIC\\_PCODE'\n\\item 'CRED\\_LIC\\_LAT'\n\\item 'CRED\\_LIC\\_LNG'\n\\item 'CRED\\_LIC\\_EDRS'\n\\item 'CRED\\_LIC\\_BN'\n\\item 'CRED\\_LIC\\_AUTHORISATIONS'\n\\end{enumerate*}\n",
            "text/markdown": "1. 'REGISTER_NAME'\n2. 'CRED_LIC_NUM'\n3. 'CRED_LIC_NAME'\n4. 'CRED_LIC_START_DT'\n5. 'CRED_LIC_END_DT'\n6. 'CRED_LIC_STATUS'\n7. 'CRED_LIC_ABN_ACN'\n8. 'CRED_LIC_AFSL_NUM'\n9. 'CRED_LIC_STATUS_HISTORY'\n10. 'CRED_LIC_LOCALITY'\n11. 'CRED_LIC_STATE'\n12. 'CRED_LIC_PCODE'\n13. 'CRED_LIC_LAT'\n14. 'CRED_LIC_LNG'\n15. 'CRED_LIC_EDRS'\n16. 'CRED_LIC_BN'\n17. 'CRED_LIC_AUTHORISATIONS'\n\n\n",
            "text/html": [
              "<ol class=list-inline>\n",
              "\t<li>'REGISTER_NAME'</li>\n",
              "\t<li>'CRED_LIC_NUM'</li>\n",
              "\t<li>'CRED_LIC_NAME'</li>\n",
              "\t<li>'CRED_LIC_START_DT'</li>\n",
              "\t<li>'CRED_LIC_END_DT'</li>\n",
              "\t<li>'CRED_LIC_STATUS'</li>\n",
              "\t<li>'CRED_LIC_ABN_ACN'</li>\n",
              "\t<li>'CRED_LIC_AFSL_NUM'</li>\n",
              "\t<li>'CRED_LIC_STATUS_HISTORY'</li>\n",
              "\t<li>'CRED_LIC_LOCALITY'</li>\n",
              "\t<li>'CRED_LIC_STATE'</li>\n",
              "\t<li>'CRED_LIC_PCODE'</li>\n",
              "\t<li>'CRED_LIC_LAT'</li>\n",
              "\t<li>'CRED_LIC_LNG'</li>\n",
              "\t<li>'CRED_LIC_EDRS'</li>\n",
              "\t<li>'CRED_LIC_BN'</li>\n",
              "\t<li>'CRED_LIC_AUTHORISATIONS'</li>\n",
              "</ol>\n"
            ]
          },
          "metadata": {
            "tags": []
          }
        }
      ]
    },
    {
      "cell_type": "code",
      "metadata": {
        "id": "TbHbtpmx-KAR",
        "colab_type": "code",
        "colab": {
          "base_uri": "https://localhost:8080/",
          "height": 269
        },
        "outputId": "8ca2e288-9db1-4820-b4e1-55008457ecf6"
      },
      "source": [
        "names(afs)"
      ],
      "execution_count": 22,
      "outputs": [
        {
          "output_type": "display_data",
          "data": {
            "text/plain": [
              " [1] \"REGISTER_NAME\" \"LIC_NUM\"       \"LIC_NAME\"      \"LIC_ABN_ACN\"  \n",
              " [5] \"LIC_START_DT\"  \"LIC_PRE_FSR\"   \"LIC_LOCALITY\"  \"LIC_STATE\"    \n",
              " [9] \"LIC_PCODE\"     \"LIC_COUNTRY\"   \"LIC_LAT\"       \"LIC_LNG\"      \n",
              "[13] \"LIC_CONDITION\""
            ],
            "text/latex": "\\begin{enumerate*}\n\\item 'REGISTER\\_NAME'\n\\item 'LIC\\_NUM'\n\\item 'LIC\\_NAME'\n\\item 'LIC\\_ABN\\_ACN'\n\\item 'LIC\\_START\\_DT'\n\\item 'LIC\\_PRE\\_FSR'\n\\item 'LIC\\_LOCALITY'\n\\item 'LIC\\_STATE'\n\\item 'LIC\\_PCODE'\n\\item 'LIC\\_COUNTRY'\n\\item 'LIC\\_LAT'\n\\item 'LIC\\_LNG'\n\\item 'LIC\\_CONDITION'\n\\end{enumerate*}\n",
            "text/markdown": "1. 'REGISTER_NAME'\n2. 'LIC_NUM'\n3. 'LIC_NAME'\n4. 'LIC_ABN_ACN'\n5. 'LIC_START_DT'\n6. 'LIC_PRE_FSR'\n7. 'LIC_LOCALITY'\n8. 'LIC_STATE'\n9. 'LIC_PCODE'\n10. 'LIC_COUNTRY'\n11. 'LIC_LAT'\n12. 'LIC_LNG'\n13. 'LIC_CONDITION'\n\n\n",
            "text/html": [
              "<ol class=list-inline>\n",
              "\t<li>'REGISTER_NAME'</li>\n",
              "\t<li>'LIC_NUM'</li>\n",
              "\t<li>'LIC_NAME'</li>\n",
              "\t<li>'LIC_ABN_ACN'</li>\n",
              "\t<li>'LIC_START_DT'</li>\n",
              "\t<li>'LIC_PRE_FSR'</li>\n",
              "\t<li>'LIC_LOCALITY'</li>\n",
              "\t<li>'LIC_STATE'</li>\n",
              "\t<li>'LIC_PCODE'</li>\n",
              "\t<li>'LIC_COUNTRY'</li>\n",
              "\t<li>'LIC_LAT'</li>\n",
              "\t<li>'LIC_LNG'</li>\n",
              "\t<li>'LIC_CONDITION'</li>\n",
              "</ol>\n"
            ]
          },
          "metadata": {
            "tags": []
          }
        }
      ]
    },
    {
      "cell_type": "code",
      "metadata": {
        "id": "VgGiFF4H_vAM",
        "colab_type": "code",
        "colab": {}
      },
      "source": [
        "# MY SOLUTION: drop the _CRED prefix from the credit file\n",
        "\n",
        "names(credit) <- rename_cols(\"CRED_\", credit)"
      ],
      "execution_count": 0,
      "outputs": []
    },
    {
      "cell_type": "code",
      "metadata": {
        "id": "hYNzfwAV_zq3",
        "colab_type": "code",
        "colab": {
          "base_uri": "https://localhost:8080/",
          "height": 338
        },
        "outputId": "35eff18b-6c18-4660-cf9c-75b812a34f45"
      },
      "source": [
        "names(credit)"
      ],
      "execution_count": 24,
      "outputs": [
        {
          "output_type": "display_data",
          "data": {
            "text/plain": [
              " [1] \"REGISTER_NAME\"      \"LIC_NUM\"            \"LIC_NAME\"          \n",
              " [4] \"LIC_START_DT\"       \"LIC_END_DT\"         \"LIC_STATUS\"        \n",
              " [7] \"LIC_ABN_ACN\"        \"LIC_AFSL_NUM\"       \"LIC_STATUS_HISTORY\"\n",
              "[10] \"LIC_LOCALITY\"       \"LIC_STATE\"          \"LIC_PCODE\"         \n",
              "[13] \"LIC_LAT\"            \"LIC_LNG\"            \"LIC_EDRS\"          \n",
              "[16] \"LIC_BN\"             \"LIC_AUTHORISATIONS\""
            ],
            "text/latex": "\\begin{enumerate*}\n\\item 'REGISTER\\_NAME'\n\\item 'LIC\\_NUM'\n\\item 'LIC\\_NAME'\n\\item 'LIC\\_START\\_DT'\n\\item 'LIC\\_END\\_DT'\n\\item 'LIC\\_STATUS'\n\\item 'LIC\\_ABN\\_ACN'\n\\item 'LIC\\_AFSL\\_NUM'\n\\item 'LIC\\_STATUS\\_HISTORY'\n\\item 'LIC\\_LOCALITY'\n\\item 'LIC\\_STATE'\n\\item 'LIC\\_PCODE'\n\\item 'LIC\\_LAT'\n\\item 'LIC\\_LNG'\n\\item 'LIC\\_EDRS'\n\\item 'LIC\\_BN'\n\\item 'LIC\\_AUTHORISATIONS'\n\\end{enumerate*}\n",
            "text/markdown": "1. 'REGISTER_NAME'\n2. 'LIC_NUM'\n3. 'LIC_NAME'\n4. 'LIC_START_DT'\n5. 'LIC_END_DT'\n6. 'LIC_STATUS'\n7. 'LIC_ABN_ACN'\n8. 'LIC_AFSL_NUM'\n9. 'LIC_STATUS_HISTORY'\n10. 'LIC_LOCALITY'\n11. 'LIC_STATE'\n12. 'LIC_PCODE'\n13. 'LIC_LAT'\n14. 'LIC_LNG'\n15. 'LIC_EDRS'\n16. 'LIC_BN'\n17. 'LIC_AUTHORISATIONS'\n\n\n",
            "text/html": [
              "<ol class=list-inline>\n",
              "\t<li>'REGISTER_NAME'</li>\n",
              "\t<li>'LIC_NUM'</li>\n",
              "\t<li>'LIC_NAME'</li>\n",
              "\t<li>'LIC_START_DT'</li>\n",
              "\t<li>'LIC_END_DT'</li>\n",
              "\t<li>'LIC_STATUS'</li>\n",
              "\t<li>'LIC_ABN_ACN'</li>\n",
              "\t<li>'LIC_AFSL_NUM'</li>\n",
              "\t<li>'LIC_STATUS_HISTORY'</li>\n",
              "\t<li>'LIC_LOCALITY'</li>\n",
              "\t<li>'LIC_STATE'</li>\n",
              "\t<li>'LIC_PCODE'</li>\n",
              "\t<li>'LIC_LAT'</li>\n",
              "\t<li>'LIC_LNG'</li>\n",
              "\t<li>'LIC_EDRS'</li>\n",
              "\t<li>'LIC_BN'</li>\n",
              "\t<li>'LIC_AUTHORISATIONS'</li>\n",
              "</ol>\n"
            ]
          },
          "metadata": {
            "tags": []
          }
        }
      ]
    },
    {
      "cell_type": "code",
      "metadata": {
        "id": "WY-Xro5T_2xA",
        "colab_type": "code",
        "colab": {}
      },
      "source": [
        "# keep the common variables\n",
        "\n",
        "common_names <- names(afs)[names(afs) %in% names(credit)]\n",
        "\n",
        "afs <- select(afs, common_names)\n"
      ],
      "execution_count": 0,
      "outputs": []
    },
    {
      "cell_type": "code",
      "metadata": {
        "id": "njncAxAW_9Xj",
        "colab_type": "code",
        "colab": {}
      },
      "source": [
        "# YOUR TURN: select the common_names in the credit dataset"
      ],
      "execution_count": 0,
      "outputs": []
    },
    {
      "cell_type": "code",
      "metadata": {
        "id": "iB-VdRzRADCL",
        "colab_type": "code",
        "colab": {
          "base_uri": "https://localhost:8080/",
          "height": 217
        },
        "outputId": "7c28045b-29ca-47a1-f096-5b8b01182034"
      },
      "source": [
        "names(afs)"
      ],
      "execution_count": 26,
      "outputs": [
        {
          "output_type": "display_data",
          "data": {
            "text/plain": [
              " [1] \"REGISTER_NAME\" \"LIC_NUM\"       \"LIC_NAME\"      \"LIC_ABN_ACN\"  \n",
              " [5] \"LIC_START_DT\"  \"LIC_LOCALITY\"  \"LIC_STATE\"     \"LIC_PCODE\"    \n",
              " [9] \"LIC_LAT\"       \"LIC_LNG\"      "
            ],
            "text/latex": "\\begin{enumerate*}\n\\item 'REGISTER\\_NAME'\n\\item 'LIC\\_NUM'\n\\item 'LIC\\_NAME'\n\\item 'LIC\\_ABN\\_ACN'\n\\item 'LIC\\_START\\_DT'\n\\item 'LIC\\_LOCALITY'\n\\item 'LIC\\_STATE'\n\\item 'LIC\\_PCODE'\n\\item 'LIC\\_LAT'\n\\item 'LIC\\_LNG'\n\\end{enumerate*}\n",
            "text/markdown": "1. 'REGISTER_NAME'\n2. 'LIC_NUM'\n3. 'LIC_NAME'\n4. 'LIC_ABN_ACN'\n5. 'LIC_START_DT'\n6. 'LIC_LOCALITY'\n7. 'LIC_STATE'\n8. 'LIC_PCODE'\n9. 'LIC_LAT'\n10. 'LIC_LNG'\n\n\n",
            "text/html": [
              "<ol class=list-inline>\n",
              "\t<li>'REGISTER_NAME'</li>\n",
              "\t<li>'LIC_NUM'</li>\n",
              "\t<li>'LIC_NAME'</li>\n",
              "\t<li>'LIC_ABN_ACN'</li>\n",
              "\t<li>'LIC_START_DT'</li>\n",
              "\t<li>'LIC_LOCALITY'</li>\n",
              "\t<li>'LIC_STATE'</li>\n",
              "\t<li>'LIC_PCODE'</li>\n",
              "\t<li>'LIC_LAT'</li>\n",
              "\t<li>'LIC_LNG'</li>\n",
              "</ol>\n"
            ]
          },
          "metadata": {
            "tags": []
          }
        }
      ]
    },
    {
      "cell_type": "code",
      "metadata": {
        "id": "JYyoOcrMAJun",
        "colab_type": "code",
        "colab": {
          "base_uri": "https://localhost:8080/",
          "height": 338
        },
        "outputId": "0f0cc282-e2de-4342-b7d0-41ecedff670b"
      },
      "source": [
        "names(credit)"
      ],
      "execution_count": 27,
      "outputs": [
        {
          "output_type": "display_data",
          "data": {
            "text/plain": [
              " [1] \"REGISTER_NAME\"      \"LIC_NUM\"            \"LIC_NAME\"          \n",
              " [4] \"LIC_START_DT\"       \"LIC_END_DT\"         \"LIC_STATUS\"        \n",
              " [7] \"LIC_ABN_ACN\"        \"LIC_AFSL_NUM\"       \"LIC_STATUS_HISTORY\"\n",
              "[10] \"LIC_LOCALITY\"       \"LIC_STATE\"          \"LIC_PCODE\"         \n",
              "[13] \"LIC_LAT\"            \"LIC_LNG\"            \"LIC_EDRS\"          \n",
              "[16] \"LIC_BN\"             \"LIC_AUTHORISATIONS\""
            ],
            "text/latex": "\\begin{enumerate*}\n\\item 'REGISTER\\_NAME'\n\\item 'LIC\\_NUM'\n\\item 'LIC\\_NAME'\n\\item 'LIC\\_START\\_DT'\n\\item 'LIC\\_END\\_DT'\n\\item 'LIC\\_STATUS'\n\\item 'LIC\\_ABN\\_ACN'\n\\item 'LIC\\_AFSL\\_NUM'\n\\item 'LIC\\_STATUS\\_HISTORY'\n\\item 'LIC\\_LOCALITY'\n\\item 'LIC\\_STATE'\n\\item 'LIC\\_PCODE'\n\\item 'LIC\\_LAT'\n\\item 'LIC\\_LNG'\n\\item 'LIC\\_EDRS'\n\\item 'LIC\\_BN'\n\\item 'LIC\\_AUTHORISATIONS'\n\\end{enumerate*}\n",
            "text/markdown": "1. 'REGISTER_NAME'\n2. 'LIC_NUM'\n3. 'LIC_NAME'\n4. 'LIC_START_DT'\n5. 'LIC_END_DT'\n6. 'LIC_STATUS'\n7. 'LIC_ABN_ACN'\n8. 'LIC_AFSL_NUM'\n9. 'LIC_STATUS_HISTORY'\n10. 'LIC_LOCALITY'\n11. 'LIC_STATE'\n12. 'LIC_PCODE'\n13. 'LIC_LAT'\n14. 'LIC_LNG'\n15. 'LIC_EDRS'\n16. 'LIC_BN'\n17. 'LIC_AUTHORISATIONS'\n\n\n",
            "text/html": [
              "<ol class=list-inline>\n",
              "\t<li>'REGISTER_NAME'</li>\n",
              "\t<li>'LIC_NUM'</li>\n",
              "\t<li>'LIC_NAME'</li>\n",
              "\t<li>'LIC_START_DT'</li>\n",
              "\t<li>'LIC_END_DT'</li>\n",
              "\t<li>'LIC_STATUS'</li>\n",
              "\t<li>'LIC_ABN_ACN'</li>\n",
              "\t<li>'LIC_AFSL_NUM'</li>\n",
              "\t<li>'LIC_STATUS_HISTORY'</li>\n",
              "\t<li>'LIC_LOCALITY'</li>\n",
              "\t<li>'LIC_STATE'</li>\n",
              "\t<li>'LIC_PCODE'</li>\n",
              "\t<li>'LIC_LAT'</li>\n",
              "\t<li>'LIC_LNG'</li>\n",
              "\t<li>'LIC_EDRS'</li>\n",
              "\t<li>'LIC_BN'</li>\n",
              "\t<li>'LIC_AUTHORISATIONS'</li>\n",
              "</ol>\n"
            ]
          },
          "metadata": {
            "tags": []
          }
        }
      ]
    },
    {
      "cell_type": "code",
      "metadata": {
        "id": "FDKoIHkJAFnV",
        "colab_type": "code",
        "colab": {}
      },
      "source": [
        "# MY SOLUTION: select the common_names in the credit dataset\n",
        "credit <- select(credit, common_names)"
      ],
      "execution_count": 0,
      "outputs": []
    },
    {
      "cell_type": "code",
      "metadata": {
        "id": "cuq3yQMYAegu",
        "colab_type": "code",
        "colab": {
          "base_uri": "https://localhost:8080/",
          "height": 435
        },
        "outputId": "252dbf95-cfd3-4c09-aa6b-29e2eaa7eff4"
      },
      "source": [
        "# create a combined dataset\n",
        "\n",
        "dat <- bind_rows(afs, credit)\n",
        "\n",
        "str(dat)"
      ],
      "execution_count": 29,
      "outputs": [
        {
          "output_type": "stream",
          "text": [
            "Warning message in bind_rows_(x, .id):\n",
            "“Unequal factor levels: coercing to character”Warning message in bind_rows_(x, .id):\n",
            "“binding character and factor vector, coercing into character vector”Warning message in bind_rows_(x, .id):\n",
            "“binding character and factor vector, coercing into character vector”Warning message in bind_rows_(x, .id):\n",
            "“Unequal factor levels: coercing to character”Warning message in bind_rows_(x, .id):\n",
            "“binding character and factor vector, coercing into character vector”Warning message in bind_rows_(x, .id):\n",
            "“binding character and factor vector, coercing into character vector”Warning message in bind_rows_(x, .id):\n",
            "“Unequal factor levels: coercing to character”Warning message in bind_rows_(x, .id):\n",
            "“binding character and factor vector, coercing into character vector”Warning message in bind_rows_(x, .id):\n",
            "“binding character and factor vector, coercing into character vector”Warning message in bind_rows_(x, .id):\n",
            "“Unequal factor levels: coercing to character”Warning message in bind_rows_(x, .id):\n",
            "“binding character and factor vector, coercing into character vector”Warning message in bind_rows_(x, .id):\n",
            "“binding character and factor vector, coercing into character vector”"
          ],
          "name": "stderr"
        },
        {
          "output_type": "stream",
          "text": [
            "'data.frame':\t11473 obs. of  10 variables:\n",
            " $ REGISTER_NAME: chr  \"AFS Licence\" \"AFS Licence\" \"AFS Licence\" \"AFS Licence\" ...\n",
            " $ LIC_NUM      : int  218585 218600 218678 218705 218770 219140 219195 219326 219431 219462 ...\n",
            " $ LIC_NAME     : chr  \"TERRI SCHEER INSURANCE PTY LTD\" \"INTERPACIFIC INSURANCE BROKERS PTY. LTD.\" \"IMC PACIFIC PTY LTD\" \"TELSTRA SUPER FINANCIAL PLANNING PTY LTD\" ...\n",
            " $ LIC_ABN_ACN  : num  7.61e+10 8.50e+10 8.91e+10 7.41e+10 8.01e+10 ...\n",
            " $ LIC_START_DT : chr  \"11/03/2002\" \"02/05/2002\" \"26/04/2002\" \"22/04/2002\" ...\n",
            " $ LIC_LOCALITY : chr  \"SPRING HILL\" \"SOUTHBANK\" \"SYDNEY\" \"MELBOURNE\" ...\n",
            " $ LIC_STATE    : Factor w/ 9 levels \"\",\"ACT\",\"NSW\",..: 5 8 3 8 3 3 6 9 8 3 ...\n",
            " $ LIC_PCODE    : int  4000 3006 2000 3000 2000 2000 5067 6159 3205 2000 ...\n",
            " $ LIC_LAT      : num  -27.5 -37.8 -33.9 -38 -33.9 ...\n",
            " $ LIC_LNG      : num  153 145 151 145 151 ...\n"
          ],
          "name": "stdout"
        }
      ]
    },
    {
      "cell_type": "code",
      "metadata": {
        "id": "2neY-7cQApQN",
        "colab_type": "code",
        "colab": {
          "base_uri": "https://localhost:8080/",
          "height": 244
        },
        "outputId": "8f8db3a4-c1c1-4c12-e7e6-309fca5cc8d3"
      },
      "source": [
        "# we need to change the Start_Date to date format\n",
        "\n",
        "dat <- mutate(dat, LIC_START_DT = dmy(LIC_START_DT))\n",
        "\n",
        "str(dat)"
      ],
      "execution_count": 30,
      "outputs": [
        {
          "output_type": "stream",
          "text": [
            "Warning message:\n",
            "“ 10 failed to parse.”"
          ],
          "name": "stderr"
        },
        {
          "output_type": "stream",
          "text": [
            "'data.frame':\t11473 obs. of  10 variables:\n",
            " $ REGISTER_NAME: chr  \"AFS Licence\" \"AFS Licence\" \"AFS Licence\" \"AFS Licence\" ...\n",
            " $ LIC_NUM      : int  218585 218600 218678 218705 218770 219140 219195 219326 219431 219462 ...\n",
            " $ LIC_NAME     : chr  \"TERRI SCHEER INSURANCE PTY LTD\" \"INTERPACIFIC INSURANCE BROKERS PTY. LTD.\" \"IMC PACIFIC PTY LTD\" \"TELSTRA SUPER FINANCIAL PLANNING PTY LTD\" ...\n",
            " $ LIC_ABN_ACN  : num  7.61e+10 8.50e+10 8.91e+10 7.41e+10 8.01e+10 ...\n",
            " $ LIC_START_DT : Date, format: \"2002-03-11\" \"2002-05-02\" ...\n",
            " $ LIC_LOCALITY : chr  \"SPRING HILL\" \"SOUTHBANK\" \"SYDNEY\" \"MELBOURNE\" ...\n",
            " $ LIC_STATE    : Factor w/ 9 levels \"\",\"ACT\",\"NSW\",..: 5 8 3 8 3 3 6 9 8 3 ...\n",
            " $ LIC_PCODE    : int  4000 3006 2000 3000 2000 2000 5067 6159 3205 2000 ...\n",
            " $ LIC_LAT      : num  -27.5 -37.8 -33.9 -38 -33.9 ...\n",
            " $ LIC_LNG      : num  153 145 151 145 151 ...\n"
          ],
          "name": "stdout"
        }
      ]
    },
    {
      "cell_type": "markdown",
      "metadata": {
        "id": "bATL5NMLA5Fq",
        "colab_type": "text"
      },
      "source": [
        "## 4. Exploratory Data Analysis"
      ]
    },
    {
      "cell_type": "code",
      "metadata": {
        "id": "NGcz2WNwA7D0",
        "colab_type": "code",
        "colab": {}
      },
      "source": [
        "summary_data <- select(dat, REGISTER_NAME, LIC_NUM, LIC_START_DT) %>% # variables we wish to keep\n",
        "                    mutate(year = year(LIC_START_DT), # the year part of LIC_START_DATE\n",
        "                           mon = sprintf(\"%02d\", month(LIC_START_DT))) %>% # the month part of LIC_START_DATE\n",
        "                    group_by(year, mon, REGISTER_NAME) %>% # roll up the data by year and month and license type\n",
        "                    summarise(cnt = n()) %>% # count the rows\n",
        "                    filter(year >= 2000) # subset for the data after 2000"
      ],
      "execution_count": 0,
      "outputs": []
    },
    {
      "cell_type": "code",
      "metadata": {
        "id": "f8fzaCQSA_ZZ",
        "colab_type": "code",
        "colab": {
          "base_uri": "https://localhost:8080/",
          "height": 1327
        },
        "outputId": "1935df32-8978-4207-c575-cd18991e028a"
      },
      "source": [
        "summary_data"
      ],
      "execution_count": 32,
      "outputs": [
        {
          "output_type": "display_data",
          "data": {
            "text/plain": [
              "    year mon REGISTER_NAME  cnt\n",
              "1   2002 03  AFS Licence      1\n",
              "2   2002 04  AFS Licence      2\n",
              "3   2002 05  AFS Licence      3\n",
              "4   2002 06  AFS Licence      9\n",
              "5   2002 07  AFS Licence     11\n",
              "6   2002 08  AFS Licence     19\n",
              "7   2002 09  AFS Licence     15\n",
              "8   2002 10  AFS Licence     17\n",
              "9   2002 11  AFS Licence     15\n",
              "10  2002 12  AFS Licence     18\n",
              "11  2003 01  AFS Licence     16\n",
              "12  2003 02  AFS Licence     19\n",
              "13  2003 03  AFS Licence     33\n",
              "14  2003 04  AFS Licence     30\n",
              "15  2003 05  AFS Licence     23\n",
              "16  2003 06  AFS Licence     34\n",
              "17  2003 07  AFS Licence     69\n",
              "18  2003 08  AFS Licence     35\n",
              "19  2003 09  AFS Licence     72\n",
              "20  2003 10  AFS Licence     81\n",
              "21  2003 11  AFS Licence    106\n",
              "22  2003 12  AFS Licence    183\n",
              "23  2004 01  AFS Licence    242\n",
              "24  2004 02  AFS Licence    345\n",
              "25  2004 03  AFS Licence    494\n",
              "26  2004 04  AFS Licence     20\n",
              "27  2004 05  AFS Licence     14\n",
              "28  2004 06  AFS Licence     19\n",
              "29  2004 07  AFS Licence     29\n",
              "30  2004 08  AFS Licence     13\n",
              "⋮   ⋮    ⋮   ⋮              ⋮  \n",
              "287 2018 04  AFS Licence    16 \n",
              "288 2018 04  Credit Licence 39 \n",
              "289 2018 05  AFS Licence    27 \n",
              "290 2018 05  Credit Licence 14 \n",
              "291 2018 06  AFS Licence    14 \n",
              "292 2018 06  Credit Licence  8 \n",
              "293 2018 07  AFS Licence    32 \n",
              "294 2018 07  Credit Licence 21 \n",
              "295 2018 08  AFS Licence    35 \n",
              "296 2018 08  Credit Licence 12 \n",
              "297 2018 09  AFS Licence    31 \n",
              "298 2018 09  Credit Licence 20 \n",
              "299 2018 10  AFS Licence    32 \n",
              "300 2018 10  Credit Licence 23 \n",
              "301 2018 11  AFS Licence    31 \n",
              "302 2018 11  Credit Licence 19 \n",
              "303 2018 12  AFS Licence    16 \n",
              "304 2018 12  Credit Licence 15 \n",
              "305 2019 01  AFS Licence    16 \n",
              "306 2019 01  Credit Licence 16 \n",
              "307 2019 02  AFS Licence    34 \n",
              "308 2019 02  Credit Licence 25 \n",
              "309 2019 03  AFS Licence    32 \n",
              "310 2019 03  Credit Licence 23 \n",
              "311 2019 04  AFS Licence    22 \n",
              "312 2019 04  Credit Licence 12 \n",
              "313 2019 05  AFS Licence    19 \n",
              "314 2019 05  Credit Licence 13 \n",
              "315 2019 06  AFS Licence     1 \n",
              "316 2019 06  Credit Licence  1 "
            ],
            "text/latex": "A grouped_df: 316 × 4\n\\begin{tabular}{r|llll}\n year & mon & REGISTER\\_NAME & cnt\\\\\n <dbl> & <chr> & <chr> & <int>\\\\\n\\hline\n\t 2002 & 03 & AFS Licence &   1\\\\\n\t 2002 & 04 & AFS Licence &   2\\\\\n\t 2002 & 05 & AFS Licence &   3\\\\\n\t 2002 & 06 & AFS Licence &   9\\\\\n\t 2002 & 07 & AFS Licence &  11\\\\\n\t 2002 & 08 & AFS Licence &  19\\\\\n\t 2002 & 09 & AFS Licence &  15\\\\\n\t 2002 & 10 & AFS Licence &  17\\\\\n\t 2002 & 11 & AFS Licence &  15\\\\\n\t 2002 & 12 & AFS Licence &  18\\\\\n\t 2003 & 01 & AFS Licence &  16\\\\\n\t 2003 & 02 & AFS Licence &  19\\\\\n\t 2003 & 03 & AFS Licence &  33\\\\\n\t 2003 & 04 & AFS Licence &  30\\\\\n\t 2003 & 05 & AFS Licence &  23\\\\\n\t 2003 & 06 & AFS Licence &  34\\\\\n\t 2003 & 07 & AFS Licence &  69\\\\\n\t 2003 & 08 & AFS Licence &  35\\\\\n\t 2003 & 09 & AFS Licence &  72\\\\\n\t 2003 & 10 & AFS Licence &  81\\\\\n\t 2003 & 11 & AFS Licence & 106\\\\\n\t 2003 & 12 & AFS Licence & 183\\\\\n\t 2004 & 01 & AFS Licence & 242\\\\\n\t 2004 & 02 & AFS Licence & 345\\\\\n\t 2004 & 03 & AFS Licence & 494\\\\\n\t 2004 & 04 & AFS Licence &  20\\\\\n\t 2004 & 05 & AFS Licence &  14\\\\\n\t 2004 & 06 & AFS Licence &  19\\\\\n\t 2004 & 07 & AFS Licence &  29\\\\\n\t 2004 & 08 & AFS Licence &  13\\\\\n\t ⋮ & ⋮ & ⋮ & ⋮\\\\\n\t 2018 & 04 & AFS Licence    & 16\\\\\n\t 2018 & 04 & Credit Licence & 39\\\\\n\t 2018 & 05 & AFS Licence    & 27\\\\\n\t 2018 & 05 & Credit Licence & 14\\\\\n\t 2018 & 06 & AFS Licence    & 14\\\\\n\t 2018 & 06 & Credit Licence &  8\\\\\n\t 2018 & 07 & AFS Licence    & 32\\\\\n\t 2018 & 07 & Credit Licence & 21\\\\\n\t 2018 & 08 & AFS Licence    & 35\\\\\n\t 2018 & 08 & Credit Licence & 12\\\\\n\t 2018 & 09 & AFS Licence    & 31\\\\\n\t 2018 & 09 & Credit Licence & 20\\\\\n\t 2018 & 10 & AFS Licence    & 32\\\\\n\t 2018 & 10 & Credit Licence & 23\\\\\n\t 2018 & 11 & AFS Licence    & 31\\\\\n\t 2018 & 11 & Credit Licence & 19\\\\\n\t 2018 & 12 & AFS Licence    & 16\\\\\n\t 2018 & 12 & Credit Licence & 15\\\\\n\t 2019 & 01 & AFS Licence    & 16\\\\\n\t 2019 & 01 & Credit Licence & 16\\\\\n\t 2019 & 02 & AFS Licence    & 34\\\\\n\t 2019 & 02 & Credit Licence & 25\\\\\n\t 2019 & 03 & AFS Licence    & 32\\\\\n\t 2019 & 03 & Credit Licence & 23\\\\\n\t 2019 & 04 & AFS Licence    & 22\\\\\n\t 2019 & 04 & Credit Licence & 12\\\\\n\t 2019 & 05 & AFS Licence    & 19\\\\\n\t 2019 & 05 & Credit Licence & 13\\\\\n\t 2019 & 06 & AFS Licence    &  1\\\\\n\t 2019 & 06 & Credit Licence &  1\\\\\n\\end{tabular}\n",
            "text/markdown": "\nA grouped_df: 316 × 4\n\n| year &lt;dbl&gt; | mon &lt;chr&gt; | REGISTER_NAME &lt;chr&gt; | cnt &lt;int&gt; |\n|---|---|---|---|\n| 2002 | 03 | AFS Licence |   1 |\n| 2002 | 04 | AFS Licence |   2 |\n| 2002 | 05 | AFS Licence |   3 |\n| 2002 | 06 | AFS Licence |   9 |\n| 2002 | 07 | AFS Licence |  11 |\n| 2002 | 08 | AFS Licence |  19 |\n| 2002 | 09 | AFS Licence |  15 |\n| 2002 | 10 | AFS Licence |  17 |\n| 2002 | 11 | AFS Licence |  15 |\n| 2002 | 12 | AFS Licence |  18 |\n| 2003 | 01 | AFS Licence |  16 |\n| 2003 | 02 | AFS Licence |  19 |\n| 2003 | 03 | AFS Licence |  33 |\n| 2003 | 04 | AFS Licence |  30 |\n| 2003 | 05 | AFS Licence |  23 |\n| 2003 | 06 | AFS Licence |  34 |\n| 2003 | 07 | AFS Licence |  69 |\n| 2003 | 08 | AFS Licence |  35 |\n| 2003 | 09 | AFS Licence |  72 |\n| 2003 | 10 | AFS Licence |  81 |\n| 2003 | 11 | AFS Licence | 106 |\n| 2003 | 12 | AFS Licence | 183 |\n| 2004 | 01 | AFS Licence | 242 |\n| 2004 | 02 | AFS Licence | 345 |\n| 2004 | 03 | AFS Licence | 494 |\n| 2004 | 04 | AFS Licence |  20 |\n| 2004 | 05 | AFS Licence |  14 |\n| 2004 | 06 | AFS Licence |  19 |\n| 2004 | 07 | AFS Licence |  29 |\n| 2004 | 08 | AFS Licence |  13 |\n| ⋮ | ⋮ | ⋮ | ⋮ |\n| 2018 | 04 | AFS Licence    | 16 |\n| 2018 | 04 | Credit Licence | 39 |\n| 2018 | 05 | AFS Licence    | 27 |\n| 2018 | 05 | Credit Licence | 14 |\n| 2018 | 06 | AFS Licence    | 14 |\n| 2018 | 06 | Credit Licence |  8 |\n| 2018 | 07 | AFS Licence    | 32 |\n| 2018 | 07 | Credit Licence | 21 |\n| 2018 | 08 | AFS Licence    | 35 |\n| 2018 | 08 | Credit Licence | 12 |\n| 2018 | 09 | AFS Licence    | 31 |\n| 2018 | 09 | Credit Licence | 20 |\n| 2018 | 10 | AFS Licence    | 32 |\n| 2018 | 10 | Credit Licence | 23 |\n| 2018 | 11 | AFS Licence    | 31 |\n| 2018 | 11 | Credit Licence | 19 |\n| 2018 | 12 | AFS Licence    | 16 |\n| 2018 | 12 | Credit Licence | 15 |\n| 2019 | 01 | AFS Licence    | 16 |\n| 2019 | 01 | Credit Licence | 16 |\n| 2019 | 02 | AFS Licence    | 34 |\n| 2019 | 02 | Credit Licence | 25 |\n| 2019 | 03 | AFS Licence    | 32 |\n| 2019 | 03 | Credit Licence | 23 |\n| 2019 | 04 | AFS Licence    | 22 |\n| 2019 | 04 | Credit Licence | 12 |\n| 2019 | 05 | AFS Licence    | 19 |\n| 2019 | 05 | Credit Licence | 13 |\n| 2019 | 06 | AFS Licence    |  1 |\n| 2019 | 06 | Credit Licence |  1 |\n\n",
            "text/html": [
              "<table>\n",
              "<caption>A grouped_df: 316 × 4</caption>\n",
              "<thead>\n",
              "\t<tr><th scope=col>year</th><th scope=col>mon</th><th scope=col>REGISTER_NAME</th><th scope=col>cnt</th></tr>\n",
              "\t<tr><th scope=col>&lt;dbl&gt;</th><th scope=col>&lt;chr&gt;</th><th scope=col>&lt;chr&gt;</th><th scope=col>&lt;int&gt;</th></tr>\n",
              "</thead>\n",
              "<tbody>\n",
              "\t<tr><td>2002</td><td>03</td><td>AFS Licence</td><td>  1</td></tr>\n",
              "\t<tr><td>2002</td><td>04</td><td>AFS Licence</td><td>  2</td></tr>\n",
              "\t<tr><td>2002</td><td>05</td><td>AFS Licence</td><td>  3</td></tr>\n",
              "\t<tr><td>2002</td><td>06</td><td>AFS Licence</td><td>  9</td></tr>\n",
              "\t<tr><td>2002</td><td>07</td><td>AFS Licence</td><td> 11</td></tr>\n",
              "\t<tr><td>2002</td><td>08</td><td>AFS Licence</td><td> 19</td></tr>\n",
              "\t<tr><td>2002</td><td>09</td><td>AFS Licence</td><td> 15</td></tr>\n",
              "\t<tr><td>2002</td><td>10</td><td>AFS Licence</td><td> 17</td></tr>\n",
              "\t<tr><td>2002</td><td>11</td><td>AFS Licence</td><td> 15</td></tr>\n",
              "\t<tr><td>2002</td><td>12</td><td>AFS Licence</td><td> 18</td></tr>\n",
              "\t<tr><td>2003</td><td>01</td><td>AFS Licence</td><td> 16</td></tr>\n",
              "\t<tr><td>2003</td><td>02</td><td>AFS Licence</td><td> 19</td></tr>\n",
              "\t<tr><td>2003</td><td>03</td><td>AFS Licence</td><td> 33</td></tr>\n",
              "\t<tr><td>2003</td><td>04</td><td>AFS Licence</td><td> 30</td></tr>\n",
              "\t<tr><td>2003</td><td>05</td><td>AFS Licence</td><td> 23</td></tr>\n",
              "\t<tr><td>2003</td><td>06</td><td>AFS Licence</td><td> 34</td></tr>\n",
              "\t<tr><td>2003</td><td>07</td><td>AFS Licence</td><td> 69</td></tr>\n",
              "\t<tr><td>2003</td><td>08</td><td>AFS Licence</td><td> 35</td></tr>\n",
              "\t<tr><td>2003</td><td>09</td><td>AFS Licence</td><td> 72</td></tr>\n",
              "\t<tr><td>2003</td><td>10</td><td>AFS Licence</td><td> 81</td></tr>\n",
              "\t<tr><td>2003</td><td>11</td><td>AFS Licence</td><td>106</td></tr>\n",
              "\t<tr><td>2003</td><td>12</td><td>AFS Licence</td><td>183</td></tr>\n",
              "\t<tr><td>2004</td><td>01</td><td>AFS Licence</td><td>242</td></tr>\n",
              "\t<tr><td>2004</td><td>02</td><td>AFS Licence</td><td>345</td></tr>\n",
              "\t<tr><td>2004</td><td>03</td><td>AFS Licence</td><td>494</td></tr>\n",
              "\t<tr><td>2004</td><td>04</td><td>AFS Licence</td><td> 20</td></tr>\n",
              "\t<tr><td>2004</td><td>05</td><td>AFS Licence</td><td> 14</td></tr>\n",
              "\t<tr><td>2004</td><td>06</td><td>AFS Licence</td><td> 19</td></tr>\n",
              "\t<tr><td>2004</td><td>07</td><td>AFS Licence</td><td> 29</td></tr>\n",
              "\t<tr><td>2004</td><td>08</td><td>AFS Licence</td><td> 13</td></tr>\n",
              "\t<tr><td>⋮</td><td>⋮</td><td>⋮</td><td>⋮</td></tr>\n",
              "\t<tr><td>2018</td><td>04</td><td>AFS Licence   </td><td>16</td></tr>\n",
              "\t<tr><td>2018</td><td>04</td><td>Credit Licence</td><td>39</td></tr>\n",
              "\t<tr><td>2018</td><td>05</td><td>AFS Licence   </td><td>27</td></tr>\n",
              "\t<tr><td>2018</td><td>05</td><td>Credit Licence</td><td>14</td></tr>\n",
              "\t<tr><td>2018</td><td>06</td><td>AFS Licence   </td><td>14</td></tr>\n",
              "\t<tr><td>2018</td><td>06</td><td>Credit Licence</td><td> 8</td></tr>\n",
              "\t<tr><td>2018</td><td>07</td><td>AFS Licence   </td><td>32</td></tr>\n",
              "\t<tr><td>2018</td><td>07</td><td>Credit Licence</td><td>21</td></tr>\n",
              "\t<tr><td>2018</td><td>08</td><td>AFS Licence   </td><td>35</td></tr>\n",
              "\t<tr><td>2018</td><td>08</td><td>Credit Licence</td><td>12</td></tr>\n",
              "\t<tr><td>2018</td><td>09</td><td>AFS Licence   </td><td>31</td></tr>\n",
              "\t<tr><td>2018</td><td>09</td><td>Credit Licence</td><td>20</td></tr>\n",
              "\t<tr><td>2018</td><td>10</td><td>AFS Licence   </td><td>32</td></tr>\n",
              "\t<tr><td>2018</td><td>10</td><td>Credit Licence</td><td>23</td></tr>\n",
              "\t<tr><td>2018</td><td>11</td><td>AFS Licence   </td><td>31</td></tr>\n",
              "\t<tr><td>2018</td><td>11</td><td>Credit Licence</td><td>19</td></tr>\n",
              "\t<tr><td>2018</td><td>12</td><td>AFS Licence   </td><td>16</td></tr>\n",
              "\t<tr><td>2018</td><td>12</td><td>Credit Licence</td><td>15</td></tr>\n",
              "\t<tr><td>2019</td><td>01</td><td>AFS Licence   </td><td>16</td></tr>\n",
              "\t<tr><td>2019</td><td>01</td><td>Credit Licence</td><td>16</td></tr>\n",
              "\t<tr><td>2019</td><td>02</td><td>AFS Licence   </td><td>34</td></tr>\n",
              "\t<tr><td>2019</td><td>02</td><td>Credit Licence</td><td>25</td></tr>\n",
              "\t<tr><td>2019</td><td>03</td><td>AFS Licence   </td><td>32</td></tr>\n",
              "\t<tr><td>2019</td><td>03</td><td>Credit Licence</td><td>23</td></tr>\n",
              "\t<tr><td>2019</td><td>04</td><td>AFS Licence   </td><td>22</td></tr>\n",
              "\t<tr><td>2019</td><td>04</td><td>Credit Licence</td><td>12</td></tr>\n",
              "\t<tr><td>2019</td><td>05</td><td>AFS Licence   </td><td>19</td></tr>\n",
              "\t<tr><td>2019</td><td>05</td><td>Credit Licence</td><td>13</td></tr>\n",
              "\t<tr><td>2019</td><td>06</td><td>AFS Licence   </td><td> 1</td></tr>\n",
              "\t<tr><td>2019</td><td>06</td><td>Credit Licence</td><td> 1</td></tr>\n",
              "</tbody>\n",
              "</table>\n"
            ]
          },
          "metadata": {
            "tags": []
          }
        }
      ]
    },
    {
      "cell_type": "code",
      "metadata": {
        "id": "TBbPQ9hDBa1c",
        "colab_type": "code",
        "colab": {
          "base_uri": "https://localhost:8080/",
          "height": 1122
        },
        "outputId": "3e1257a2-6b6c-4c35-a41f-7a8e9fe99416"
      },
      "source": [
        "# YOUR TURN: run the following code, what is the problem with the data before year 2000?\n",
        "temp_data <- select(dat, REGISTER_NAME, LIC_NUM, LIC_START_DT) %>% # variables we wish to keep\n",
        "                    mutate(year = year(LIC_START_DT)) %>% # the year part of LIC_START_DATE\n",
        "                    group_by(year, REGISTER_NAME) %>% # roll up the data by year and month and license type\n",
        "                    summarise(cnt = n())\n",
        "\n",
        "temp_data"
      ],
      "execution_count": 33,
      "outputs": [
        {
          "output_type": "display_data",
          "data": {
            "text/plain": [
              "   year REGISTER_NAME  cnt \n",
              "1   201 AFS Licence       1\n",
              "2   204 AFS Licence       1\n",
              "3   209 AFS Licence       1\n",
              "4   217 AFS Licence       1\n",
              "5   222 AFS Licence       1\n",
              "6   225 AFS Licence       1\n",
              "7   305 AFS Licence       1\n",
              "8   310 AFS Licence       1\n",
              "9   403 AFS Licence       1\n",
              "10  611 AFS Licence       1\n",
              "11  701 AFS Licence       1\n",
              "12  706 AFS Licence       1\n",
              "13  804 AFS Licence       1\n",
              "14 1006 AFS Licence       1\n",
              "15 1008 AFS Licence       1\n",
              "16 1012 AFS Licence       1\n",
              "17 1027 AFS Licence       1\n",
              "18 1106 AFS Licence       1\n",
              "19 1109 AFS Licence       1\n",
              "20 1117 AFS Licence       1\n",
              "21 1124 AFS Licence       1\n",
              "22 1125 AFS Licence       1\n",
              "23 2002 AFS Licence     110\n",
              "24 2003 AFS Licence     701\n",
              "25 2004 AFS Licence    1234\n",
              "26 2005 AFS Licence     229\n",
              "27 2006 AFS Licence     179\n",
              "28 2007 AFS Licence     191\n",
              "29 2008 AFS Licence     189\n",
              "30 2009 AFS Licence     192\n",
              "31 2010 AFS Licence     240\n",
              "32 2010 Credit Licence 1542\n",
              "33 2011 AFS Licence     263\n",
              "34 2011 Credit Licence 2031\n",
              "35 2012 AFS Licence     269\n",
              "36 2012 Credit Licence  227\n",
              "37 2013 AFS Licence     258\n",
              "38 2013 Credit Licence  226\n",
              "39 2014 AFS Licence     259\n",
              "40 2014 Credit Licence  245\n",
              "41 2015 AFS Licence     280\n",
              "42 2015 Credit Licence  189\n",
              "43 2016 AFS Licence     625\n",
              "44 2016 Credit Licence  232\n",
              "45 2017 AFS Licence     562\n",
              "46 2017 Credit Licence  216\n",
              "47 2018 AFS Licence     293\n",
              "48 2018 Credit Licence  245\n",
              "49 2019 AFS Licence     124\n",
              "50 2019 Credit Licence   90\n",
              "51   NA AFS Licence      10"
            ],
            "text/latex": "A grouped_df: 51 × 3\n\\begin{tabular}{r|lll}\n year & REGISTER\\_NAME & cnt\\\\\n <dbl> & <chr> & <int>\\\\\n\\hline\n\t  201 & AFS Licence    &    1\\\\\n\t  204 & AFS Licence    &    1\\\\\n\t  209 & AFS Licence    &    1\\\\\n\t  217 & AFS Licence    &    1\\\\\n\t  222 & AFS Licence    &    1\\\\\n\t  225 & AFS Licence    &    1\\\\\n\t  305 & AFS Licence    &    1\\\\\n\t  310 & AFS Licence    &    1\\\\\n\t  403 & AFS Licence    &    1\\\\\n\t  611 & AFS Licence    &    1\\\\\n\t  701 & AFS Licence    &    1\\\\\n\t  706 & AFS Licence    &    1\\\\\n\t  804 & AFS Licence    &    1\\\\\n\t 1006 & AFS Licence    &    1\\\\\n\t 1008 & AFS Licence    &    1\\\\\n\t 1012 & AFS Licence    &    1\\\\\n\t 1027 & AFS Licence    &    1\\\\\n\t 1106 & AFS Licence    &    1\\\\\n\t 1109 & AFS Licence    &    1\\\\\n\t 1117 & AFS Licence    &    1\\\\\n\t 1124 & AFS Licence    &    1\\\\\n\t 1125 & AFS Licence    &    1\\\\\n\t 2002 & AFS Licence    &  110\\\\\n\t 2003 & AFS Licence    &  701\\\\\n\t 2004 & AFS Licence    & 1234\\\\\n\t 2005 & AFS Licence    &  229\\\\\n\t 2006 & AFS Licence    &  179\\\\\n\t 2007 & AFS Licence    &  191\\\\\n\t 2008 & AFS Licence    &  189\\\\\n\t 2009 & AFS Licence    &  192\\\\\n\t 2010 & AFS Licence    &  240\\\\\n\t 2010 & Credit Licence & 1542\\\\\n\t 2011 & AFS Licence    &  263\\\\\n\t 2011 & Credit Licence & 2031\\\\\n\t 2012 & AFS Licence    &  269\\\\\n\t 2012 & Credit Licence &  227\\\\\n\t 2013 & AFS Licence    &  258\\\\\n\t 2013 & Credit Licence &  226\\\\\n\t 2014 & AFS Licence    &  259\\\\\n\t 2014 & Credit Licence &  245\\\\\n\t 2015 & AFS Licence    &  280\\\\\n\t 2015 & Credit Licence &  189\\\\\n\t 2016 & AFS Licence    &  625\\\\\n\t 2016 & Credit Licence &  232\\\\\n\t 2017 & AFS Licence    &  562\\\\\n\t 2017 & Credit Licence &  216\\\\\n\t 2018 & AFS Licence    &  293\\\\\n\t 2018 & Credit Licence &  245\\\\\n\t 2019 & AFS Licence    &  124\\\\\n\t 2019 & Credit Licence &   90\\\\\n\t   NA & AFS Licence    &   10\\\\\n\\end{tabular}\n",
            "text/markdown": "\nA grouped_df: 51 × 3\n\n| year &lt;dbl&gt; | REGISTER_NAME &lt;chr&gt; | cnt &lt;int&gt; |\n|---|---|---|\n|  201 | AFS Licence    |    1 |\n|  204 | AFS Licence    |    1 |\n|  209 | AFS Licence    |    1 |\n|  217 | AFS Licence    |    1 |\n|  222 | AFS Licence    |    1 |\n|  225 | AFS Licence    |    1 |\n|  305 | AFS Licence    |    1 |\n|  310 | AFS Licence    |    1 |\n|  403 | AFS Licence    |    1 |\n|  611 | AFS Licence    |    1 |\n|  701 | AFS Licence    |    1 |\n|  706 | AFS Licence    |    1 |\n|  804 | AFS Licence    |    1 |\n| 1006 | AFS Licence    |    1 |\n| 1008 | AFS Licence    |    1 |\n| 1012 | AFS Licence    |    1 |\n| 1027 | AFS Licence    |    1 |\n| 1106 | AFS Licence    |    1 |\n| 1109 | AFS Licence    |    1 |\n| 1117 | AFS Licence    |    1 |\n| 1124 | AFS Licence    |    1 |\n| 1125 | AFS Licence    |    1 |\n| 2002 | AFS Licence    |  110 |\n| 2003 | AFS Licence    |  701 |\n| 2004 | AFS Licence    | 1234 |\n| 2005 | AFS Licence    |  229 |\n| 2006 | AFS Licence    |  179 |\n| 2007 | AFS Licence    |  191 |\n| 2008 | AFS Licence    |  189 |\n| 2009 | AFS Licence    |  192 |\n| 2010 | AFS Licence    |  240 |\n| 2010 | Credit Licence | 1542 |\n| 2011 | AFS Licence    |  263 |\n| 2011 | Credit Licence | 2031 |\n| 2012 | AFS Licence    |  269 |\n| 2012 | Credit Licence |  227 |\n| 2013 | AFS Licence    |  258 |\n| 2013 | Credit Licence |  226 |\n| 2014 | AFS Licence    |  259 |\n| 2014 | Credit Licence |  245 |\n| 2015 | AFS Licence    |  280 |\n| 2015 | Credit Licence |  189 |\n| 2016 | AFS Licence    |  625 |\n| 2016 | Credit Licence |  232 |\n| 2017 | AFS Licence    |  562 |\n| 2017 | Credit Licence |  216 |\n| 2018 | AFS Licence    |  293 |\n| 2018 | Credit Licence |  245 |\n| 2019 | AFS Licence    |  124 |\n| 2019 | Credit Licence |   90 |\n|   NA | AFS Licence    |   10 |\n\n",
            "text/html": [
              "<table>\n",
              "<caption>A grouped_df: 51 × 3</caption>\n",
              "<thead>\n",
              "\t<tr><th scope=col>year</th><th scope=col>REGISTER_NAME</th><th scope=col>cnt</th></tr>\n",
              "\t<tr><th scope=col>&lt;dbl&gt;</th><th scope=col>&lt;chr&gt;</th><th scope=col>&lt;int&gt;</th></tr>\n",
              "</thead>\n",
              "<tbody>\n",
              "\t<tr><td> 201</td><td>AFS Licence   </td><td>   1</td></tr>\n",
              "\t<tr><td> 204</td><td>AFS Licence   </td><td>   1</td></tr>\n",
              "\t<tr><td> 209</td><td>AFS Licence   </td><td>   1</td></tr>\n",
              "\t<tr><td> 217</td><td>AFS Licence   </td><td>   1</td></tr>\n",
              "\t<tr><td> 222</td><td>AFS Licence   </td><td>   1</td></tr>\n",
              "\t<tr><td> 225</td><td>AFS Licence   </td><td>   1</td></tr>\n",
              "\t<tr><td> 305</td><td>AFS Licence   </td><td>   1</td></tr>\n",
              "\t<tr><td> 310</td><td>AFS Licence   </td><td>   1</td></tr>\n",
              "\t<tr><td> 403</td><td>AFS Licence   </td><td>   1</td></tr>\n",
              "\t<tr><td> 611</td><td>AFS Licence   </td><td>   1</td></tr>\n",
              "\t<tr><td> 701</td><td>AFS Licence   </td><td>   1</td></tr>\n",
              "\t<tr><td> 706</td><td>AFS Licence   </td><td>   1</td></tr>\n",
              "\t<tr><td> 804</td><td>AFS Licence   </td><td>   1</td></tr>\n",
              "\t<tr><td>1006</td><td>AFS Licence   </td><td>   1</td></tr>\n",
              "\t<tr><td>1008</td><td>AFS Licence   </td><td>   1</td></tr>\n",
              "\t<tr><td>1012</td><td>AFS Licence   </td><td>   1</td></tr>\n",
              "\t<tr><td>1027</td><td>AFS Licence   </td><td>   1</td></tr>\n",
              "\t<tr><td>1106</td><td>AFS Licence   </td><td>   1</td></tr>\n",
              "\t<tr><td>1109</td><td>AFS Licence   </td><td>   1</td></tr>\n",
              "\t<tr><td>1117</td><td>AFS Licence   </td><td>   1</td></tr>\n",
              "\t<tr><td>1124</td><td>AFS Licence   </td><td>   1</td></tr>\n",
              "\t<tr><td>1125</td><td>AFS Licence   </td><td>   1</td></tr>\n",
              "\t<tr><td>2002</td><td>AFS Licence   </td><td> 110</td></tr>\n",
              "\t<tr><td>2003</td><td>AFS Licence   </td><td> 701</td></tr>\n",
              "\t<tr><td>2004</td><td>AFS Licence   </td><td>1234</td></tr>\n",
              "\t<tr><td>2005</td><td>AFS Licence   </td><td> 229</td></tr>\n",
              "\t<tr><td>2006</td><td>AFS Licence   </td><td> 179</td></tr>\n",
              "\t<tr><td>2007</td><td>AFS Licence   </td><td> 191</td></tr>\n",
              "\t<tr><td>2008</td><td>AFS Licence   </td><td> 189</td></tr>\n",
              "\t<tr><td>2009</td><td>AFS Licence   </td><td> 192</td></tr>\n",
              "\t<tr><td>2010</td><td>AFS Licence   </td><td> 240</td></tr>\n",
              "\t<tr><td>2010</td><td>Credit Licence</td><td>1542</td></tr>\n",
              "\t<tr><td>2011</td><td>AFS Licence   </td><td> 263</td></tr>\n",
              "\t<tr><td>2011</td><td>Credit Licence</td><td>2031</td></tr>\n",
              "\t<tr><td>2012</td><td>AFS Licence   </td><td> 269</td></tr>\n",
              "\t<tr><td>2012</td><td>Credit Licence</td><td> 227</td></tr>\n",
              "\t<tr><td>2013</td><td>AFS Licence   </td><td> 258</td></tr>\n",
              "\t<tr><td>2013</td><td>Credit Licence</td><td> 226</td></tr>\n",
              "\t<tr><td>2014</td><td>AFS Licence   </td><td> 259</td></tr>\n",
              "\t<tr><td>2014</td><td>Credit Licence</td><td> 245</td></tr>\n",
              "\t<tr><td>2015</td><td>AFS Licence   </td><td> 280</td></tr>\n",
              "\t<tr><td>2015</td><td>Credit Licence</td><td> 189</td></tr>\n",
              "\t<tr><td>2016</td><td>AFS Licence   </td><td> 625</td></tr>\n",
              "\t<tr><td>2016</td><td>Credit Licence</td><td> 232</td></tr>\n",
              "\t<tr><td>2017</td><td>AFS Licence   </td><td> 562</td></tr>\n",
              "\t<tr><td>2017</td><td>Credit Licence</td><td> 216</td></tr>\n",
              "\t<tr><td>2018</td><td>AFS Licence   </td><td> 293</td></tr>\n",
              "\t<tr><td>2018</td><td>Credit Licence</td><td> 245</td></tr>\n",
              "\t<tr><td>2019</td><td>AFS Licence   </td><td> 124</td></tr>\n",
              "\t<tr><td>2019</td><td>Credit Licence</td><td>  90</td></tr>\n",
              "\t<tr><td>  NA</td><td>AFS Licence   </td><td>  10</td></tr>\n",
              "</tbody>\n",
              "</table>\n"
            ]
          },
          "metadata": {
            "tags": []
          }
        }
      ]
    },
    {
      "cell_type": "code",
      "metadata": {
        "id": "JzzlEHacB01I",
        "colab_type": "code",
        "colab": {
          "base_uri": "https://localhost:8080/",
          "height": 517
        },
        "outputId": "6eb2d25f-d191-4ff8-eee2-8b091d3f07c0"
      },
      "source": [
        "# we can plot the data like this, what do you notice in this plot?:\n",
        "\n",
        "ggplot(data = summary_data, aes(year, cnt)) + # pass in the dataset and the variables year and count\n",
        "    geom_bar(stat = \"identity\", aes(fill = REGISTER_NAME)) + # do a bar plot, but color by license type\n",
        "    facet_wrap(REGISTER_NAME ~ .) # facet the data to produce 2 graphs for each license type.\n"
      ],
      "execution_count": 34,
      "outputs": [
        {
          "output_type": "display_data",
          "data": {
            "image/png": "[encoded data removed]",
            "text/plain": [
              "plot without title"
            ]
          },
          "metadata": {
            "tags": []
          }
        }
      ]
    },
    {
      "cell_type": "code",
      "metadata": {
        "id": "gwIYRQxGCg5W",
        "colab_type": "code",
        "colab": {
          "base_uri": "https://localhost:8080/",
          "height": 244
        },
        "outputId": "d2bd7117-ad34-4e9e-ef02-2660f29c8d33"
      },
      "source": [
        "# YOUR TURN: can you create the summary data again, but this time filter for year >= 2012\n",
        "\n",
        "# extra marks if you can reproduce this plot above but this time facet by state LIC_STATE?\n",
        "\n",
        "table(summary_data$year)\n",
        "\n",
        "table(temp_data$year)"
      ],
      "execution_count": 35,
      "outputs": [
        {
          "output_type": "display_data",
          "data": {
            "text/plain": [
              "\n",
              "2002 2003 2004 2005 2006 2007 2008 2009 2010 2011 2012 2013 2014 2015 2016 2017 \n",
              "  10   12   12   12   12   12   12   12   18   24   24   24   24   24   24   24 \n",
              "2018 2019 \n",
              "  24   12 "
            ]
          },
          "metadata": {
            "tags": []
          }
        },
        {
          "output_type": "display_data",
          "data": {
            "text/plain": [
              "\n",
              " 201  204  209  217  222  225  305  310  403  611  701  706  804 1006 1008 1012 \n",
              "   1    1    1    1    1    1    1    1    1    1    1    1    1    1    1    1 \n",
              "1027 1106 1109 1117 1124 1125 2002 2003 2004 2005 2006 2007 2008 2009 2010 2011 \n",
              "   1    1    1    1    1    1    1    1    1    1    1    1    1    1    2    2 \n",
              "2012 2013 2014 2015 2016 2017 2018 2019 \n",
              "   2    2    2    2    2    2    2    2 "
            ]
          },
          "metadata": {
            "tags": []
          }
        }
      ]
    },
    {
      "cell_type": "code",
      "metadata": {
        "id": "PxdAP2xJC_CE",
        "colab_type": "code",
        "colab": {
          "base_uri": "https://localhost:8080/",
          "height": 517
        },
        "outputId": "c81bd33f-7328-41f9-a7d1-0f7e56531863"
      },
      "source": [
        "# MY SOLUTION\n",
        "\n",
        "summary_data <- select(dat, REGISTER_NAME, LIC_NUM, LIC_STATE, LIC_START_DT) %>%\n",
        "    mutate(year = year(LIC_START_DT),\n",
        "           mon = sprintf(\"%02d\", month(LIC_START_DT))) %>%\n",
        "    group_by(year, mon, REGISTER_NAME, LIC_STATE) %>%\n",
        "    summarise(cnt = n()) %>%\n",
        "    filter(year >= 2012) # this is the line that's different\n",
        "\n",
        "ggplot(data = summary_data, aes(year, cnt)) +\n",
        "    geom_bar(stat = \"identity\", aes(fill = REGISTER_NAME)) +\n",
        "    facet_wrap(LIC_STATE ~ .)"
      ],
      "execution_count": 36,
      "outputs": [
        {
          "output_type": "display_data",
          "data": {
            "image/png": "[encoded data removed]",
            "text/plain": [
              "plot without title"
            ]
          },
          "metadata": {
            "tags": []
          }
        }
      ]
    },
    {
      "cell_type": "markdown",
      "metadata": {
        "id": "1BcBtEY6DePP",
        "colab_type": "text"
      },
      "source": [
        "## 5. Predictive model to explain what we are seeing\n",
        "\n",
        "So, the regulations really kicked in from about 2016 and we can see more AFS than Credit Licenses then. So pretending we didn't have data from 2016-2018 what would we have expected from the 2012-2016 data? \n",
        "\n",
        "To answer this question let's build a simple model."
      ]
    },
    {
      "cell_type": "code",
      "metadata": {
        "id": "rgcXHiaSEgU6",
        "colab_type": "code",
        "colab": {}
      },
      "source": [
        "summary_data <- select(dat, REGISTER_NAME, LIC_NUM, LIC_STATE, LIC_START_DT) %>%\n",
        "    mutate(year = year(LIC_START_DT),\n",
        "           mon = sprintf(\"%02d\", month(LIC_START_DT))) %>%\n",
        "    group_by(year, mon, REGISTER_NAME, LIC_STATE) %>%\n",
        "    summarise(cnt = n()) %>%\n",
        "    filter(year >= 2012)"
      ],
      "execution_count": 0,
      "outputs": []
    },
    {
      "cell_type": "code",
      "metadata": {
        "id": "I-3VmVl7D9-e",
        "colab_type": "code",
        "colab": {}
      },
      "source": [
        "# our training data is 2012-2016 and we wish to predict data from 2016-2018\n",
        "\n",
        "train <- filter(summary_data, year < 2016 & year >= 2012)\n",
        "test <- filter(summary_data, year >= 2016 & year <= 2018)"
      ],
      "execution_count": 0,
      "outputs": []
    },
    {
      "cell_type": "code",
      "metadata": {
        "id": "C-bz8FStEsE0",
        "colab_type": "code",
        "colab": {
          "base_uri": "https://localhost:8080/",
          "height": 121
        },
        "outputId": "41351e00-f411-495a-ad04-89bd543cf805"
      },
      "source": [
        "table(train$year)\n",
        "table(test$year)"
      ],
      "execution_count": 39,
      "outputs": [
        {
          "output_type": "display_data",
          "data": {
            "text/plain": [
              "\n",
              "2012 2013 2014 2015 \n",
              " 113  119  110  112 "
            ]
          },
          "metadata": {
            "tags": []
          }
        },
        {
          "output_type": "display_data",
          "data": {
            "text/plain": [
              "\n",
              "2016 2017 2018 \n",
              " 128  119  104 "
            ]
          },
          "metadata": {
            "tags": []
          }
        }
      ]
    },
    {
      "cell_type": "code",
      "metadata": {
        "id": "1FNcYuXpEyd1",
        "colab_type": "code",
        "colab": {
          "base_uri": "https://localhost:8080/",
          "height": 517
        },
        "outputId": "39e2af44-b2d0-4273-e958-eb644803c0c5"
      },
      "source": [
        "# here's what a histogram of the count variable looks like\n",
        "\n",
        "hist(train$cnt)"
      ],
      "execution_count": 40,
      "outputs": [
        {
          "output_type": "display_data",
          "data": {
            "image/png": "[encoded data removed]",
            "text/plain": [
              "Plot with title “Histogram of train$cnt”"
            ]
          },
          "metadata": {
            "tags": []
          }
        }
      ]
    },
    {
      "cell_type": "code",
      "metadata": {
        "id": "jNR5jIQ2E7Ip",
        "colab_type": "code",
        "colab": {
          "base_uri": "https://localhost:8080/",
          "height": 517
        },
        "outputId": "828e9e5d-833c-450a-f1ef-d75861ba88e2"
      },
      "source": [
        "# here's the logarithm of this variable\n",
        "hist(log(train$cnt))"
      ],
      "execution_count": 41,
      "outputs": [
        {
          "output_type": "display_data",
          "data": {
            "image/png": "[encoded data removed]",
            "text/plain": [
              "Plot with title “Histogram of log(train$cnt)”"
            ]
          },
          "metadata": {
            "tags": []
          }
        }
      ]
    },
    {
      "cell_type": "code",
      "metadata": {
        "id": "s1OfGtpiFPlt",
        "colab_type": "code",
        "colab": {
          "base_uri": "https://localhost:8080/",
          "height": 517
        },
        "outputId": "e7937fa5-5e14-4efd-d4f0-835b867d9013"
      },
      "source": [
        "# does the logarithm of the count variable follow a normal distribution?\n",
        "qqnorm(log(train$cnt))\n",
        "qqline(log(train$cnt))"
      ],
      "execution_count": 42,
      "outputs": [
        {
          "output_type": "display_data",
          "data": {
            "image/png": "[encoded data removed]",
            "text/plain": [
              "Plot with title “Normal Q-Q Plot”"
            ]
          },
          "metadata": {
            "tags": []
          }
        }
      ]
    },
    {
      "cell_type": "code",
      "metadata": {
        "id": "-e1Vmx80GH1I",
        "colab_type": "code",
        "colab": {
          "base_uri": "https://localhost:8080/",
          "height": 708
        },
        "outputId": "406b6e2a-8dd2-4747-fd6b-79543fc2c606"
      },
      "source": [
        "# normal linear regression of LIC_STATE, REGISTER_NAME and mon to predict logarithm of count\n",
        "\n",
        "mod <- glm(data=train, log(cnt) ~ LIC_STATE + REGISTER_NAME + mon)\n",
        "summary(mod)"
      ],
      "execution_count": 43,
      "outputs": [
        {
          "output_type": "display_data",
          "data": {
            "text/plain": [
              "\n",
              "Call:\n",
              "glm(formula = log(cnt) ~ LIC_STATE + REGISTER_NAME + mon, data = train)\n",
              "\n",
              "Deviance Residuals: \n",
              "     Min        1Q    Median        3Q       Max  \n",
              "-1.48110  -0.31032   0.00555   0.34417   1.30812  \n",
              "\n",
              "Coefficients:\n",
              "                            Estimate Std. Error t value Pr(>|t|)    \n",
              "(Intercept)                  0.11448    0.15468   0.740   0.4596    \n",
              "LIC_STATENSW                 2.04474    0.13279  15.399  < 2e-16 ***\n",
              "LIC_STATENT                 -0.07670    0.28825  -0.266   0.7903    \n",
              "LIC_STATEQLD                 0.94734    0.13327   7.109 4.85e-12 ***\n",
              "LIC_STATESA                  0.35795    0.14252   2.512   0.0124 *  \n",
              "LIC_STATETAS                 0.08547    0.18421   0.464   0.6429    \n",
              "LIC_STATEVIC                 1.46253    0.13279  11.014  < 2e-16 ***\n",
              "LIC_STATEWA                  0.71225    0.13387   5.320 1.66e-07 ***\n",
              "REGISTER_NAMECredit Licence -0.07416    0.04856  -1.527   0.1275    \n",
              "mon02                       -0.20464    0.12373  -1.654   0.0989 .  \n",
              "mon03                       -0.10653    0.12062  -0.883   0.3776    \n",
              "mon04                       -0.09591    0.12386  -0.774   0.4392    \n",
              "mon05                       -0.04672    0.12306  -0.380   0.7044    \n",
              "mon06                       -0.10213    0.12642  -0.808   0.4196    \n",
              "mon07                        0.14512    0.11949   1.215   0.2252    \n",
              "mon08                        0.02458    0.12260   0.201   0.8412    \n",
              "mon09                        0.01581    0.12448   0.127   0.8990    \n",
              "mon10                       -0.04882    0.12195  -0.400   0.6891    \n",
              "mon11                       -0.11478    0.12447  -0.922   0.3570    \n",
              "mon12                        0.05123    0.12326   0.416   0.6779    \n",
              "---\n",
              "Signif. codes:  0 ‘***’ 0.001 ‘**’ 0.01 ‘*’ 0.05 ‘.’ 0.1 ‘ ’ 1\n",
              "\n",
              "(Dispersion parameter for gaussian family taken to be 0.2620386)\n",
              "\n",
              "    Null deviance: 297.79  on 453  degrees of freedom\n",
              "Residual deviance: 113.72  on 434  degrees of freedom\n",
              "AIC: 701.92\n",
              "\n",
              "Number of Fisher Scoring iterations: 2\n"
            ]
          },
          "metadata": {
            "tags": []
          }
        }
      ]
    },
    {
      "cell_type": "code",
      "metadata": {
        "id": "2chWPbjMGV7y",
        "colab_type": "code",
        "colab": {
          "base_uri": "https://localhost:8080/",
          "height": 200
        },
        "outputId": "f458c86f-bba3-4dc7-b065-e0efbcb4f45f"
      },
      "source": [
        "# YOUR TURN: drop mon as an explanatory variable \n",
        "\n",
        "head(train)"
      ],
      "execution_count": 44,
      "outputs": [
        {
          "output_type": "display_data",
          "data": {
            "text/plain": [
              "  year mon REGISTER_NAME  LIC_STATE cnt\n",
              "1 2012 01  AFS Licence    NSW       7  \n",
              "2 2012 01  AFS Licence    VIC       7  \n",
              "3 2012 01  Credit Licence NSW       9  \n",
              "4 2012 01  Credit Licence QLD       1  \n",
              "5 2012 01  Credit Licence VIC       3  \n",
              "6 2012 01  Credit Licence WA        3  "
            ],
            "text/latex": "A grouped_df: 6 × 5\n\\begin{tabular}{r|lllll}\n year & mon & REGISTER\\_NAME & LIC\\_STATE & cnt\\\\\n <dbl> & <chr> & <chr> & <fct> & <int>\\\\\n\\hline\n\t 2012 & 01 & AFS Licence    & NSW & 7\\\\\n\t 2012 & 01 & AFS Licence    & VIC & 7\\\\\n\t 2012 & 01 & Credit Licence & NSW & 9\\\\\n\t 2012 & 01 & Credit Licence & QLD & 1\\\\\n\t 2012 & 01 & Credit Licence & VIC & 3\\\\\n\t 2012 & 01 & Credit Licence & WA  & 3\\\\\n\\end{tabular}\n",
            "text/markdown": "\nA grouped_df: 6 × 5\n\n| year &lt;dbl&gt; | mon &lt;chr&gt; | REGISTER_NAME &lt;chr&gt; | LIC_STATE &lt;fct&gt; | cnt &lt;int&gt; |\n|---|---|---|---|---|\n| 2012 | 01 | AFS Licence    | NSW | 7 |\n| 2012 | 01 | AFS Licence    | VIC | 7 |\n| 2012 | 01 | Credit Licence | NSW | 9 |\n| 2012 | 01 | Credit Licence | QLD | 1 |\n| 2012 | 01 | Credit Licence | VIC | 3 |\n| 2012 | 01 | Credit Licence | WA  | 3 |\n\n",
            "text/html": [
              "<table>\n",
              "<caption>A grouped_df: 6 × 5</caption>\n",
              "<thead>\n",
              "\t<tr><th scope=col>year</th><th scope=col>mon</th><th scope=col>REGISTER_NAME</th><th scope=col>LIC_STATE</th><th scope=col>cnt</th></tr>\n",
              "\t<tr><th scope=col>&lt;dbl&gt;</th><th scope=col>&lt;chr&gt;</th><th scope=col>&lt;chr&gt;</th><th scope=col>&lt;fct&gt;</th><th scope=col>&lt;int&gt;</th></tr>\n",
              "</thead>\n",
              "<tbody>\n",
              "\t<tr><td>2012</td><td>01</td><td>AFS Licence   </td><td>NSW</td><td>7</td></tr>\n",
              "\t<tr><td>2012</td><td>01</td><td>AFS Licence   </td><td>VIC</td><td>7</td></tr>\n",
              "\t<tr><td>2012</td><td>01</td><td>Credit Licence</td><td>NSW</td><td>9</td></tr>\n",
              "\t<tr><td>2012</td><td>01</td><td>Credit Licence</td><td>QLD</td><td>1</td></tr>\n",
              "\t<tr><td>2012</td><td>01</td><td>Credit Licence</td><td>VIC</td><td>3</td></tr>\n",
              "\t<tr><td>2012</td><td>01</td><td>Credit Licence</td><td>WA </td><td>3</td></tr>\n",
              "</tbody>\n",
              "</table>\n"
            ]
          },
          "metadata": {
            "tags": []
          }
        }
      ]
    },
    {
      "cell_type": "code",
      "metadata": {
        "id": "dMuUGi-YGiNc",
        "colab_type": "code",
        "colab": {
          "base_uri": "https://localhost:8080/",
          "height": 518
        },
        "outputId": "ba962dac-2002-4f7e-f402-0c75d823ae0a"
      },
      "source": [
        "# MY SOLUTION\n",
        "\n",
        "mod <- glm(data=train, log(cnt) ~ LIC_STATE + REGISTER_NAME)\n",
        "summary(mod)"
      ],
      "execution_count": 45,
      "outputs": [
        {
          "output_type": "display_data",
          "data": {
            "text/plain": [
              "\n",
              "Call:\n",
              "glm(formula = log(cnt) ~ LIC_STATE + REGISTER_NAME, data = train)\n",
              "\n",
              "Deviance Residuals: \n",
              "     Min        1Q    Median        3Q       Max  \n",
              "-1.53624  -0.32837  -0.02304   0.34655   1.36325  \n",
              "\n",
              "Coefficients:\n",
              "                            Estimate Std. Error t value Pr(>|t|)    \n",
              "(Intercept)                  0.10138    0.12221   0.830   0.4072    \n",
              "LIC_STATENSW                 2.01707    0.13224  15.253  < 2e-16 ***\n",
              "LIC_STATENT                 -0.02829    0.28591  -0.099   0.9212    \n",
              "LIC_STATEQLD                 0.92014    0.13286   6.926 1.53e-11 ***\n",
              "LIC_STATESA                  0.33689    0.14221   2.369   0.0183 *  \n",
              "LIC_STATETAS                 0.04985    0.18406   0.271   0.7866    \n",
              "LIC_STATEVIC                 1.43486    0.13224  10.850  < 2e-16 ***\n",
              "LIC_STATEWA                  0.68790    0.13336   5.158 3.76e-07 ***\n",
              "REGISTER_NAMECredit Licence -0.07309    0.04871  -1.500   0.1342    \n",
              "---\n",
              "Signif. codes:  0 ‘***’ 0.001 ‘**’ 0.01 ‘*’ 0.05 ‘.’ 0.1 ‘ ’ 1\n",
              "\n",
              "(Dispersion parameter for gaussian family taken to be 0.2640686)\n",
              "\n",
              "    Null deviance: 297.79  on 453  degrees of freedom\n",
              "Residual deviance: 117.51  on 445  degrees of freedom\n",
              "AIC: 694.78\n",
              "\n",
              "Number of Fisher Scoring iterations: 2\n"
            ]
          },
          "metadata": {
            "tags": []
          }
        }
      ]
    },
    {
      "cell_type": "code",
      "metadata": {
        "id": "eSVUci19GolQ",
        "colab_type": "code",
        "colab": {}
      },
      "source": [
        "# now we predict our model from the training dataset onto the test dataset\n",
        "\n",
        "test$pred <- predict(mod, newdata=test)\n",
        "test$pred <- exp(test$pred)"
      ],
      "execution_count": 0,
      "outputs": []
    },
    {
      "cell_type": "code",
      "metadata": {
        "id": "WR1XvzCXGv8B",
        "colab_type": "code",
        "colab": {
          "base_uri": "https://localhost:8080/",
          "height": 200
        },
        "outputId": "df973810-0485-41cc-993c-8597a3debe0c"
      },
      "source": [
        "head(test)"
      ],
      "execution_count": 47,
      "outputs": [
        {
          "output_type": "display_data",
          "data": {
            "text/plain": [
              "  year mon REGISTER_NAME LIC_STATE cnt pred    \n",
              "1 2016 01  AFS Licence   ACT       1   1.106696\n",
              "2 2016 01  AFS Licence   NSW       9   8.318214\n",
              "3 2016 01  AFS Licence   QLD       5   2.777399\n",
              "4 2016 01  AFS Licence   SA        1   1.550025\n",
              "5 2016 01  AFS Licence   VIC       6   4.647064\n",
              "6 2016 01  AFS Licence   WA        1   2.201797"
            ],
            "text/latex": "A grouped_df: 6 × 6\n\\begin{tabular}{r|llllll}\n year & mon & REGISTER\\_NAME & LIC\\_STATE & cnt & pred\\\\\n <dbl> & <chr> & <chr> & <fct> & <int> & <dbl>\\\\\n\\hline\n\t 2016 & 01 & AFS Licence & ACT & 1 & 1.106696\\\\\n\t 2016 & 01 & AFS Licence & NSW & 9 & 8.318214\\\\\n\t 2016 & 01 & AFS Licence & QLD & 5 & 2.777399\\\\\n\t 2016 & 01 & AFS Licence & SA  & 1 & 1.550025\\\\\n\t 2016 & 01 & AFS Licence & VIC & 6 & 4.647064\\\\\n\t 2016 & 01 & AFS Licence & WA  & 1 & 2.201797\\\\\n\\end{tabular}\n",
            "text/markdown": "\nA grouped_df: 6 × 6\n\n| year &lt;dbl&gt; | mon &lt;chr&gt; | REGISTER_NAME &lt;chr&gt; | LIC_STATE &lt;fct&gt; | cnt &lt;int&gt; | pred &lt;dbl&gt; |\n|---|---|---|---|---|---|\n| 2016 | 01 | AFS Licence | ACT | 1 | 1.106696 |\n| 2016 | 01 | AFS Licence | NSW | 9 | 8.318214 |\n| 2016 | 01 | AFS Licence | QLD | 5 | 2.777399 |\n| 2016 | 01 | AFS Licence | SA  | 1 | 1.550025 |\n| 2016 | 01 | AFS Licence | VIC | 6 | 4.647064 |\n| 2016 | 01 | AFS Licence | WA  | 1 | 2.201797 |\n\n",
            "text/html": [
              "<table>\n",
              "<caption>A grouped_df: 6 × 6</caption>\n",
              "<thead>\n",
              "\t<tr><th scope=col>year</th><th scope=col>mon</th><th scope=col>REGISTER_NAME</th><th scope=col>LIC_STATE</th><th scope=col>cnt</th><th scope=col>pred</th></tr>\n",
              "\t<tr><th scope=col>&lt;dbl&gt;</th><th scope=col>&lt;chr&gt;</th><th scope=col>&lt;chr&gt;</th><th scope=col>&lt;fct&gt;</th><th scope=col>&lt;int&gt;</th><th scope=col>&lt;dbl&gt;</th></tr>\n",
              "</thead>\n",
              "<tbody>\n",
              "\t<tr><td>2016</td><td>01</td><td>AFS Licence</td><td>ACT</td><td>1</td><td>1.106696</td></tr>\n",
              "\t<tr><td>2016</td><td>01</td><td>AFS Licence</td><td>NSW</td><td>9</td><td>8.318214</td></tr>\n",
              "\t<tr><td>2016</td><td>01</td><td>AFS Licence</td><td>QLD</td><td>5</td><td>2.777399</td></tr>\n",
              "\t<tr><td>2016</td><td>01</td><td>AFS Licence</td><td>SA </td><td>1</td><td>1.550025</td></tr>\n",
              "\t<tr><td>2016</td><td>01</td><td>AFS Licence</td><td>VIC</td><td>6</td><td>4.647064</td></tr>\n",
              "\t<tr><td>2016</td><td>01</td><td>AFS Licence</td><td>WA </td><td>1</td><td>2.201797</td></tr>\n",
              "</tbody>\n",
              "</table>\n"
            ]
          },
          "metadata": {
            "tags": []
          }
        }
      ]
    },
    {
      "cell_type": "code",
      "metadata": {
        "id": "224d1shMG1nc",
        "colab_type": "code",
        "colab": {}
      },
      "source": [
        "# now we wish to change the structure of our test data from wide to long to make it easier to plot\n",
        "test_dat <- gather(test, variable, value, cnt:pred)"
      ],
      "execution_count": 0,
      "outputs": []
    },
    {
      "cell_type": "code",
      "metadata": {
        "id": "jSnAex4pG-fU",
        "colab_type": "code",
        "colab": {
          "base_uri": "https://localhost:8080/",
          "height": 383
        },
        "outputId": "30115da2-7b44-4032-98bf-c8a0bda4cacf"
      },
      "source": [
        "head(test_dat)\n",
        "tail(test_dat)"
      ],
      "execution_count": 49,
      "outputs": [
        {
          "output_type": "display_data",
          "data": {
            "text/plain": [
              "  year mon REGISTER_NAME LIC_STATE variable value\n",
              "1 2016 01  AFS Licence   ACT       cnt      1    \n",
              "2 2016 01  AFS Licence   NSW       cnt      9    \n",
              "3 2016 01  AFS Licence   QLD       cnt      5    \n",
              "4 2016 01  AFS Licence   SA        cnt      1    \n",
              "5 2016 01  AFS Licence   VIC       cnt      6    \n",
              "6 2016 01  AFS Licence   WA        cnt      1    "
            ],
            "text/latex": "A grouped_df: 6 × 6\n\\begin{tabular}{r|llllll}\n year & mon & REGISTER\\_NAME & LIC\\_STATE & variable & value\\\\\n <dbl> & <chr> & <chr> & <fct> & <chr> & <dbl>\\\\\n\\hline\n\t 2016 & 01 & AFS Licence & ACT & cnt & 1\\\\\n\t 2016 & 01 & AFS Licence & NSW & cnt & 9\\\\\n\t 2016 & 01 & AFS Licence & QLD & cnt & 5\\\\\n\t 2016 & 01 & AFS Licence & SA  & cnt & 1\\\\\n\t 2016 & 01 & AFS Licence & VIC & cnt & 6\\\\\n\t 2016 & 01 & AFS Licence & WA  & cnt & 1\\\\\n\\end{tabular}\n",
            "text/markdown": "\nA grouped_df: 6 × 6\n\n| year &lt;dbl&gt; | mon &lt;chr&gt; | REGISTER_NAME &lt;chr&gt; | LIC_STATE &lt;fct&gt; | variable &lt;chr&gt; | value &lt;dbl&gt; |\n|---|---|---|---|---|---|\n| 2016 | 01 | AFS Licence | ACT | cnt | 1 |\n| 2016 | 01 | AFS Licence | NSW | cnt | 9 |\n| 2016 | 01 | AFS Licence | QLD | cnt | 5 |\n| 2016 | 01 | AFS Licence | SA  | cnt | 1 |\n| 2016 | 01 | AFS Licence | VIC | cnt | 6 |\n| 2016 | 01 | AFS Licence | WA  | cnt | 1 |\n\n",
            "text/html": [
              "<table>\n",
              "<caption>A grouped_df: 6 × 6</caption>\n",
              "<thead>\n",
              "\t<tr><th scope=col>year</th><th scope=col>mon</th><th scope=col>REGISTER_NAME</th><th scope=col>LIC_STATE</th><th scope=col>variable</th><th scope=col>value</th></tr>\n",
              "\t<tr><th scope=col>&lt;dbl&gt;</th><th scope=col>&lt;chr&gt;</th><th scope=col>&lt;chr&gt;</th><th scope=col>&lt;fct&gt;</th><th scope=col>&lt;chr&gt;</th><th scope=col>&lt;dbl&gt;</th></tr>\n",
              "</thead>\n",
              "<tbody>\n",
              "\t<tr><td>2016</td><td>01</td><td>AFS Licence</td><td>ACT</td><td>cnt</td><td>1</td></tr>\n",
              "\t<tr><td>2016</td><td>01</td><td>AFS Licence</td><td>NSW</td><td>cnt</td><td>9</td></tr>\n",
              "\t<tr><td>2016</td><td>01</td><td>AFS Licence</td><td>QLD</td><td>cnt</td><td>5</td></tr>\n",
              "\t<tr><td>2016</td><td>01</td><td>AFS Licence</td><td>SA </td><td>cnt</td><td>1</td></tr>\n",
              "\t<tr><td>2016</td><td>01</td><td>AFS Licence</td><td>VIC</td><td>cnt</td><td>6</td></tr>\n",
              "\t<tr><td>2016</td><td>01</td><td>AFS Licence</td><td>WA </td><td>cnt</td><td>1</td></tr>\n",
              "</tbody>\n",
              "</table>\n"
            ]
          },
          "metadata": {
            "tags": []
          }
        },
        {
          "output_type": "display_data",
          "data": {
            "text/plain": [
              "  year mon REGISTER_NAME  LIC_STATE variable value   \n",
              "1 2018 12  AFS Licence    QLD       pred     2.777399\n",
              "2 2018 12  AFS Licence    VIC       pred     4.647064\n",
              "3 2018 12  AFS Licence    WA        pred     2.201797\n",
              "4 2018 12  Credit Licence NSW       pred     7.731944\n",
              "5 2018 12  Credit Licence QLD       pred     2.581647\n",
              "6 2018 12  Credit Licence VIC       pred     4.319537"
            ],
            "text/latex": "A grouped_df: 6 × 6\n\\begin{tabular}{r|llllll}\n year & mon & REGISTER\\_NAME & LIC\\_STATE & variable & value\\\\\n <dbl> & <chr> & <chr> & <fct> & <chr> & <dbl>\\\\\n\\hline\n\t 2018 & 12 & AFS Licence    & QLD & pred & 2.777399\\\\\n\t 2018 & 12 & AFS Licence    & VIC & pred & 4.647064\\\\\n\t 2018 & 12 & AFS Licence    & WA  & pred & 2.201797\\\\\n\t 2018 & 12 & Credit Licence & NSW & pred & 7.731944\\\\\n\t 2018 & 12 & Credit Licence & QLD & pred & 2.581647\\\\\n\t 2018 & 12 & Credit Licence & VIC & pred & 4.319537\\\\\n\\end{tabular}\n",
            "text/markdown": "\nA grouped_df: 6 × 6\n\n| year &lt;dbl&gt; | mon &lt;chr&gt; | REGISTER_NAME &lt;chr&gt; | LIC_STATE &lt;fct&gt; | variable &lt;chr&gt; | value &lt;dbl&gt; |\n|---|---|---|---|---|---|\n| 2018 | 12 | AFS Licence    | QLD | pred | 2.777399 |\n| 2018 | 12 | AFS Licence    | VIC | pred | 4.647064 |\n| 2018 | 12 | AFS Licence    | WA  | pred | 2.201797 |\n| 2018 | 12 | Credit Licence | NSW | pred | 7.731944 |\n| 2018 | 12 | Credit Licence | QLD | pred | 2.581647 |\n| 2018 | 12 | Credit Licence | VIC | pred | 4.319537 |\n\n",
            "text/html": [
              "<table>\n",
              "<caption>A grouped_df: 6 × 6</caption>\n",
              "<thead>\n",
              "\t<tr><th scope=col>year</th><th scope=col>mon</th><th scope=col>REGISTER_NAME</th><th scope=col>LIC_STATE</th><th scope=col>variable</th><th scope=col>value</th></tr>\n",
              "\t<tr><th scope=col>&lt;dbl&gt;</th><th scope=col>&lt;chr&gt;</th><th scope=col>&lt;chr&gt;</th><th scope=col>&lt;fct&gt;</th><th scope=col>&lt;chr&gt;</th><th scope=col>&lt;dbl&gt;</th></tr>\n",
              "</thead>\n",
              "<tbody>\n",
              "\t<tr><td>2018</td><td>12</td><td>AFS Licence   </td><td>QLD</td><td>pred</td><td>2.777399</td></tr>\n",
              "\t<tr><td>2018</td><td>12</td><td>AFS Licence   </td><td>VIC</td><td>pred</td><td>4.647064</td></tr>\n",
              "\t<tr><td>2018</td><td>12</td><td>AFS Licence   </td><td>WA </td><td>pred</td><td>2.201797</td></tr>\n",
              "\t<tr><td>2018</td><td>12</td><td>Credit Licence</td><td>NSW</td><td>pred</td><td>7.731944</td></tr>\n",
              "\t<tr><td>2018</td><td>12</td><td>Credit Licence</td><td>QLD</td><td>pred</td><td>2.581647</td></tr>\n",
              "\t<tr><td>2018</td><td>12</td><td>Credit Licence</td><td>VIC</td><td>pred</td><td>4.319537</td></tr>\n",
              "</tbody>\n",
              "</table>\n"
            ]
          },
          "metadata": {
            "tags": []
          }
        }
      ]
    },
    {
      "cell_type": "markdown",
      "metadata": {
        "id": "KcrBy_8pHFNn",
        "colab_type": "text"
      },
      "source": [
        "## 6. Data product - web app actual vs expected in 2016 using data to 2015"
      ]
    },
    {
      "cell_type": "code",
      "metadata": {
        "id": "uUJvheCpIPt1",
        "colab_type": "code",
        "colab": {}
      },
      "source": [
        "ui <- fluidPage(\n",
        "    titlePanel(\"Predicted 2016-2018 using data from 2012-2015\"),\n",
        "    sidebarLayout(\n",
        "        sidebarPanel(\n",
        "            selectInput(inputId = \"subset_state\", label = \"Pick a state: \", \n",
        "                               choices = unique(test_dat$LIC_STATE))),\n",
        "        mainPanel(plotOutput(outputId = \"myfigure\"))\n",
        "    )\n",
        ")\n",
        "\n",
        "\n",
        "server <- function(input, output) {\n",
        "    create_subset <- reactive(test_dat %>%\n",
        "                                  filter(LIC_STATE == input$subset_state))\n",
        "    \n",
        "    output$myfigure <- renderPlot(\n",
        "                            ggplot(create_subset()) +\n",
        "                                      geom_bar(aes(x = year, y = value, fill=variable), stat=\"identity\") + \n",
        "                                        facet_wrap(REGISTER_NAME ~ variable) +\n",
        "                                        theme(axis.text.x = element_text(angle = 90, hjust = 1))\n",
        "                                      \n",
        "                            )\n",
        "}\n"
      ],
      "execution_count": 0,
      "outputs": []
    },
    {
      "cell_type": "code",
      "metadata": {
        "id": "f7yvA9N0IQxL",
        "colab_type": "code",
        "colab": {
          "base_uri": "https://localhost:8080/",
          "height": 52
        },
        "outputId": "4562d1dd-106b-4aaa-e544-6cc5425a962a"
      },
      "source": [
        "# Run app: this unfortunately won't work from Colab, but will run in RStudio :( \n",
        "# shinyApp(ui,server)"
      ],
      "execution_count": 69,
      "outputs": [
        {
          "output_type": "stream",
          "text": [
            "\n",
            "Listening on http://127.0.0.1:4962\n"
          ],
          "name": "stderr"
        }
      ]
    },
    {
      "cell_type": "code",
      "metadata": {
        "id": "xYqsHA2fGKRL",
        "colab_type": "code",
        "colab": {
          "base_uri": "https://localhost:8080/",
          "height": 517
        },
        "outputId": "815fad2f-ecfb-4659-9e18-fb4a5ff20815"
      },
      "source": [
        "ggplot(test_dat[test_dat$LIC_STATE == 'NSW',]) + \n",
        "geom_bar(aes(x = year, y = value, fill=REGISTER_NAME), stat=\"identity\") + \n",
        "                                        facet_wrap(REGISTER_NAME ~ variable) +\n",
        "                                        theme(axis.text.x = element_text(angle = 90, hjust = 1))"
      ],
      "execution_count": 77,
      "outputs": [
        {
          "output_type": "display_data",
          "data": {
            "image/png": "[encoded data removed]",
            "text/plain": [
              "plot without title"
            ]
          },
          "metadata": {
            "tags": []
          }
        }
      ]
    }
  ]
}