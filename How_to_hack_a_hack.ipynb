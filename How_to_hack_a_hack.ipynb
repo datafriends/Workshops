{
  "nbformat": 4,
  "nbformat_minor": 0,
  "metadata": {
    "colab": {
      "name": "How to hack a hack.ipynb",
      "version": "0.3.2",
      "provenance": [],
      "collapsed_sections": [],
      "toc_visible": true,
      "include_colab_link": true
    },
    "language_info": {
      "codemirror_mode": "r",
      "file_extension": ".r",
      "mimetype": "text/x-r-source",
      "name": "R",
      "pygments_lexer": "r",
      "version": "3.3.1"
    },
    "kernelspec": {
      "display_name": "R",
      "language": "R",
      "name": "ir"
    }
  },
  "cells": [
    {
      "cell_type": "markdown",
      "metadata": {
        "id": "view-in-github",
        "colab_type": "text"
      },
      "source": [
        "<a href=\"https://colab.research.google.com/github/datafriends/Workshops/blob/master/How_to_hack_a_hack.ipynb\" target=\"_parent\"><img src=\"https://colab.research.google.com/assets/colab-badge.svg\" alt=\"Open In Colab\"/></a>"
      ]
    },
    {
      "cell_type": "markdown",
      "metadata": {
        "id": "m4Z5VAz2OKn_",
        "colab_type": "text"
      },
      "source": [
        "# How to hack a Hack with R"
      ]
    },
    {
      "cell_type": "markdown",
      "metadata": {
        "id": "jsaAe2-uPI5l",
        "colab_type": "text"
      },
      "source": [
        "## 1. Specify the problem\n",
        "\n",
        "Context: \n",
        "- In Australia a Credit License enables you to credit to others. \n",
        "- A Financial Services license is about providing guidance to people buying financial products. You can't engage in credit activities with a FSL.\n",
        "\n",
        "\n",
        "Prompt: \n",
        "- Has the regulatory scrutiny in Australia recently led to a change in distribution of\n",
        "credit licenses vs financial services licenses? \n",
        "- Is there evidence that greater scruitany in banking is resulting in fewer Credit Licenses and more Financial Services Licenses?"
      ]
    },
    {
      "cell_type": "markdown",
      "metadata": {
        "id": "7aLMZH_MQN2S",
        "colab_type": "text"
      },
      "source": [
        "## 2. Investigate the dataset"
      ]
    },
    {
      "cell_type": "code",
      "metadata": {
        "id": "e0tXVF6dARAQ",
        "colab_type": "code",
        "colab": {}
      },
      "source": [
        "# load some libraries we will need\n",
        "library(tidyverse)\n",
        "library(lubridate)\n",
        "\n",
        "\n",
        "options(repr.plot.width=6, repr.plot.height=4)"
      ],
      "execution_count": 0,
      "outputs": []
    },
    {
      "cell_type": "code",
      "metadata": {
        "id": "1l8TiYZJHOJk",
        "colab_type": "code",
        "colab": {}
      },
      "source": [
        "install.packages(\"shiny\")"
      ],
      "execution_count": 0,
      "outputs": []
    },
    {
      "cell_type": "code",
      "metadata": {
        "id": "QOpfMVfBHS8r",
        "colab_type": "code",
        "colab": {}
      },
      "source": [
        "library(shiny)"
      ],
      "execution_count": 0,
      "outputs": []
    },
    {
      "cell_type": "code",
      "metadata": {
        "id": "i3q_IYwJOKoI",
        "colab_type": "code",
        "colab": {}
      },
      "source": [
        "# download datasets from data.gov.au\n",
        "\n",
        "# FSL dataset\n",
        "afs_file <- \"https://data.gov.au/data/dataset/ab7eddce-84df-4098-bc8f-500d0d9776d1/resource/1fc2b334-74ae-4588-85aa-83e3a8c9f2cc/download/afs_lic_201906.tsv\""
      ],
      "execution_count": 0,
      "outputs": []
    },
    {
      "cell_type": "code",
      "metadata": {
        "id": "1Zpqf7UWSQ6t",
        "colab_type": "code",
        "colab": {}
      },
      "source": [
        "afs <- read.table(afs_file, sep = '\\t', header = TRUE, comment.char=\"\",  quote =\"\\\"\")\n",
        "\n"
      ],
      "execution_count": 0,
      "outputs": []
    },
    {
      "cell_type": "code",
      "metadata": {
        "id": "AB5N2v84Uwub",
        "colab_type": "code",
        "colab": {}
      },
      "source": [
        "# credit dataset\n",
        "credit_file <- \"https://data.gov.au/data/dataset/fa0b0d71-b8b8-4af8-bc59-0b000ce0d5e4/resource/3abf1383-c4e5-4c1a-8331-8434b17b6f10/download/credit_lic_201906.tsv\"\n"
      ],
      "execution_count": 0,
      "outputs": []
    },
    {
      "cell_type": "code",
      "metadata": {
        "id": "-KtjtbRPVq6X",
        "colab_type": "code",
        "colab": {}
      },
      "source": [
        "# YOUR TURN: read in the credit license file: call it \"credit\" in this cell."
      ],
      "execution_count": 0,
      "outputs": []
    },
    {
      "cell_type": "code",
      "metadata": {
        "id": "NlVYeCbHUbLn",
        "colab_type": "code",
        "colab": {}
      },
      "source": [
        "tail(afs, 10)"
      ],
      "execution_count": 0,
      "outputs": []
    },
    {
      "cell_type": "markdown",
      "metadata": {
        "id": "J8b097xGTH2R",
        "colab_type": "text"
      },
      "source": [
        ""
      ]
    },
    {
      "cell_type": "code",
      "metadata": {
        "id": "bmznq-WDOKoL",
        "colab_type": "code",
        "colab": {}
      },
      "source": [
        "# MY SOLUTION: Ok, this was an easy one!\n",
        "credit <- read.table(credit_file, sep = '\\t', header = TRUE, comment.char=\"\",  quote =\"\\\"\")"
      ],
      "execution_count": 0,
      "outputs": []
    },
    {
      "cell_type": "code",
      "metadata": {
        "id": "b_EUsOaHVbW2",
        "colab_type": "code",
        "colab": {}
      },
      "source": [
        "tail(credit, 10)"
      ],
      "execution_count": 0,
      "outputs": []
    },
    {
      "cell_type": "markdown",
      "metadata": {
        "id": "sjgiyNLeOKoR",
        "colab_type": "text"
      },
      "source": [
        "We can find out some basic information about our datasets. I'll do the afs data, you guys jump in and tell me about the credit data."
      ]
    },
    {
      "cell_type": "code",
      "metadata": {
        "id": "QJCXu0bEOKoT",
        "colab_type": "code",
        "colab": {}
      },
      "source": [
        "str(afs)"
      ],
      "execution_count": 0,
      "outputs": []
    },
    {
      "cell_type": "code",
      "metadata": {
        "id": "KoQV0vdkX5j6",
        "colab_type": "code",
        "colab": {}
      },
      "source": [
        "summary(afs)"
      ],
      "execution_count": 0,
      "outputs": []
    },
    {
      "cell_type": "code",
      "metadata": {
        "id": "Li_Cmve7YCZO",
        "colab_type": "code",
        "colab": {}
      },
      "source": [
        "# YOUR TURN: credit dataset investigation:\n",
        "\n",
        "# 1. investigate the credit dataset.\n",
        "\n",
        "# 2. How do we change the names of the credit and the afs datasets so they have common names? "
      ],
      "execution_count": 0,
      "outputs": []
    },
    {
      "cell_type": "markdown",
      "metadata": {
        "id": "fgbYaQxLOKoY",
        "colab_type": "text"
      },
      "source": [
        "## 3. Data Wrangling\n",
        "\n",
        "We need to drop the AFS_ prefix from the afs dataset and the CRED_prefix from the credit dataset variables."
      ]
    },
    {
      "cell_type": "code",
      "metadata": {
        "id": "s8WzhmPjOKoZ",
        "colab_type": "code",
        "colab": {}
      },
      "source": [
        "head(afs,1)"
      ],
      "execution_count": 0,
      "outputs": []
    },
    {
      "cell_type": "code",
      "metadata": {
        "id": "paJ3jW_kOKob",
        "colab_type": "code",
        "colab": {}
      },
      "source": [
        "head(credit,1)"
      ],
      "execution_count": 0,
      "outputs": []
    },
    {
      "cell_type": "code",
      "metadata": {
        "id": "iCjptj4Vjs1T",
        "colab_type": "code",
        "colab": {}
      },
      "source": [
        "names(afs)\n",
        "names(credit)"
      ],
      "execution_count": 0,
      "outputs": []
    },
    {
      "cell_type": "code",
      "metadata": {
        "id": "nmX7vvnljbH_",
        "colab_type": "code",
        "colab": {}
      },
      "source": [
        "# I'll clean the afs dataset, below you can clean the credit dataset\n",
        "\n",
        "rename_cols <- function(prefix, dataset) {\n",
        "  gsub(prefix, \"\", names(dataset))\n",
        "}\n"
      ],
      "execution_count": 0,
      "outputs": []
    },
    {
      "cell_type": "code",
      "metadata": {
        "id": "bbnjxihHj03x",
        "colab_type": "code",
        "colab": {}
      },
      "source": [
        "# remove the AFS_ prefix\n",
        "names(afs) <- rename_cols(\"AFS_\", afs)\n",
        "\n",
        "# oops there is also a random ADD_ which needs to be removed in names like AFS_LIC_ADD_LOCAL\n",
        "names(afs) <- rename_cols(\"ADD_\", afs)\n",
        "names(afs)[names(afs) == \"LIC_LOCAL\"] <-\"LIC_LOCALITY\""
      ],
      "execution_count": 0,
      "outputs": []
    },
    {
      "cell_type": "code",
      "metadata": {
        "id": "JFjvjc57-PAU",
        "colab_type": "code",
        "colab": {}
      },
      "source": [
        "# YOUR TURN: drop the _CRED prefix from the credit file\n",
        "\n",
        "names(credit)"
      ],
      "execution_count": 0,
      "outputs": []
    },
    {
      "cell_type": "code",
      "metadata": {
        "id": "TbHbtpmx-KAR",
        "colab_type": "code",
        "colab": {}
      },
      "source": [
        "names(afs)"
      ],
      "execution_count": 0,
      "outputs": []
    },
    {
      "cell_type": "code",
      "metadata": {
        "id": "VgGiFF4H_vAM",
        "colab_type": "code",
        "colab": {}
      },
      "source": [
        "# MY SOLUTION: drop the _CRED prefix from the credit file\n",
        "\n",
        "names(credit) <- rename_cols(\"CRED_\", credit)"
      ],
      "execution_count": 0,
      "outputs": []
    },
    {
      "cell_type": "code",
      "metadata": {
        "id": "hYNzfwAV_zq3",
        "colab_type": "code",
        "colab": {}
      },
      "source": [
        "names(credit)"
      ],
      "execution_count": 0,
      "outputs": []
    },
    {
      "cell_type": "code",
      "metadata": {
        "id": "WY-Xro5T_2xA",
        "colab_type": "code",
        "colab": {}
      },
      "source": [
        "# keep the common variables\n",
        "\n",
        "common_names <- names(afs)[names(afs) %in% names(credit)]\n",
        "\n",
        "afs <- select(afs, common_names)\n"
      ],
      "execution_count": 0,
      "outputs": []
    },
    {
      "cell_type": "code",
      "metadata": {
        "id": "njncAxAW_9Xj",
        "colab_type": "code",
        "colab": {}
      },
      "source": [
        "# YOUR TURN: select the common_names in the credit dataset"
      ],
      "execution_count": 0,
      "outputs": []
    },
    {
      "cell_type": "code",
      "metadata": {
        "id": "iB-VdRzRADCL",
        "colab_type": "code",
        "colab": {}
      },
      "source": [
        "names(afs)"
      ],
      "execution_count": 0,
      "outputs": []
    },
    {
      "cell_type": "code",
      "metadata": {
        "id": "JYyoOcrMAJun",
        "colab_type": "code",
        "colab": {}
      },
      "source": [
        "names(credit)"
      ],
      "execution_count": 0,
      "outputs": []
    },
    {
      "cell_type": "code",
      "metadata": {
        "id": "FDKoIHkJAFnV",
        "colab_type": "code",
        "colab": {}
      },
      "source": [
        "# MY SOLUTION: select the common_names in the credit dataset\n",
        "credit <- select(credit, common_names)"
      ],
      "execution_count": 0,
      "outputs": []
    },
    {
      "cell_type": "code",
      "metadata": {
        "id": "cuq3yQMYAegu",
        "colab_type": "code",
        "colab": {}
      },
      "source": [
        "# create a combined dataset\n",
        "\n",
        "dat <- bind_rows(afs, credit)\n",
        "\n",
        "str(dat)"
      ],
      "execution_count": 0,
      "outputs": []
    },
    {
      "cell_type": "code",
      "metadata": {
        "id": "2neY-7cQApQN",
        "colab_type": "code",
        "colab": {}
      },
      "source": [
        "# we need to change the Start_Date to date format\n",
        "\n",
        "dat <- mutate(dat, LIC_START_DT = dmy(LIC_START_DT))\n",
        "\n",
        "str(dat)"
      ],
      "execution_count": 0,
      "outputs": []
    },
    {
      "cell_type": "markdown",
      "metadata": {
        "id": "bATL5NMLA5Fq",
        "colab_type": "text"
      },
      "source": [
        "## 4. Exploratory Data Analysis"
      ]
    },
    {
      "cell_type": "code",
      "metadata": {
        "id": "NGcz2WNwA7D0",
        "colab_type": "code",
        "colab": {}
      },
      "source": [
        "summary_data <- select(dat, REGISTER_NAME, LIC_NUM, LIC_START_DT) %>% # variables we wish to keep\n",
        "                    mutate(year = year(LIC_START_DT), # the year part of LIC_START_DATE\n",
        "                           mon = sprintf(\"%02d\", month(LIC_START_DT))) %>% # the month part of LIC_START_DATE\n",
        "                    group_by(year, mon, REGISTER_NAME) %>% # roll up the data by year and month and license type\n",
        "                    summarise(cnt = n()) %>% # count the rows\n",
        "                    filter(year >= 2000) # subset for the data after 2000"
      ],
      "execution_count": 0,
      "outputs": []
    },
    {
      "cell_type": "code",
      "metadata": {
        "id": "f8fzaCQSA_ZZ",
        "colab_type": "code",
        "colab": {}
      },
      "source": [
        "summary_data"
      ],
      "execution_count": 0,
      "outputs": []
    },
    {
      "cell_type": "code",
      "metadata": {
        "id": "TBbPQ9hDBa1c",
        "colab_type": "code",
        "colab": {}
      },
      "source": [
        "# YOUR TURN: run the following code, what is the problem with the data before year 2000?\n",
        "temp_data <- select(dat, REGISTER_NAME, LIC_NUM, LIC_START_DT) %>% # variables we wish to keep\n",
        "                    mutate(year = year(LIC_START_DT)) %>% # the year part of LIC_START_DATE\n",
        "                    group_by(year, REGISTER_NAME) %>% # roll up the data by year and month and license type\n",
        "                    summarise(cnt = n())\n",
        "\n",
        "temp_data"
      ],
      "execution_count": 0,
      "outputs": []
    },
    {
      "cell_type": "code",
      "metadata": {
        "id": "JzzlEHacB01I",
        "colab_type": "code",
        "colab": {}
      },
      "source": [
        "# we can plot the data like this, what do you notice in this plot?:\n",
        "\n",
        "ggplot(data = summary_data, aes(year, cnt)) + # pass in the dataset and the variables year and count\n",
        "    geom_bar(stat = \"identity\", aes(fill = REGISTER_NAME)) + # do a bar plot, but color by license type\n",
        "    facet_wrap(REGISTER_NAME ~ .) # facet the data to produce 2 graphs for each license type.\n"
      ],
      "execution_count": 0,
      "outputs": []
    },
    {
      "cell_type": "code",
      "metadata": {
        "id": "gwIYRQxGCg5W",
        "colab_type": "code",
        "colab": {}
      },
      "source": [
        "# YOUR TURN: can you create the summary data again, but this time filter for year >= 2012\n",
        "\n",
        "# extra marks if you can reproduce this plot above but this time facet by state LIC_STATE?\n",
        "\n",
        "table(summary_data$year)\n",
        "\n",
        "table(temp_data$year)"
      ],
      "execution_count": 0,
      "outputs": []
    },
    {
      "cell_type": "code",
      "metadata": {
        "id": "PxdAP2xJC_CE",
        "colab_type": "code",
        "colab": {}
      },
      "source": [
        "# MY SOLUTION\n",
        "\n",
        "summary_data <- select(dat, REGISTER_NAME, LIC_NUM, LIC_STATE, LIC_START_DT) %>%\n",
        "    mutate(year = year(LIC_START_DT),\n",
        "           mon = sprintf(\"%02d\", month(LIC_START_DT))) %>%\n",
        "    group_by(year, mon, REGISTER_NAME, LIC_STATE) %>%\n",
        "    summarise(cnt = n()) %>%\n",
        "    filter(year >= 2012) # this is the line that's different\n",
        "\n",
        "ggplot(data = summary_data, aes(year, cnt)) +\n",
        "    geom_bar(stat = \"identity\", aes(fill = REGISTER_NAME)) +\n",
        "    facet_wrap(LIC_STATE ~ .)"
      ],
      "execution_count": 0,
      "outputs": []
    },
    {
      "cell_type": "markdown",
      "metadata": {
        "id": "1BcBtEY6DePP",
        "colab_type": "text"
      },
      "source": [
        "## 5. Predictive model to explain what we are seeing\n",
        "\n",
        "So, the regulations really kicked in from about 2016 and we can see more AFS than Credit Licenses then. So pretending we didn't have data from 2016-2018 what would we have expected from the 2012-2016 data? \n",
        "\n",
        "To answer this question let's build a simple model."
      ]
    },
    {
      "cell_type": "code",
      "metadata": {
        "id": "rgcXHiaSEgU6",
        "colab_type": "code",
        "colab": {}
      },
      "source": [
        "summary_data <- select(dat, REGISTER_NAME, LIC_NUM, LIC_STATE, LIC_START_DT) %>%\n",
        "    mutate(year = year(LIC_START_DT),\n",
        "           mon = sprintf(\"%02d\", month(LIC_START_DT))) %>%\n",
        "    group_by(year, mon, REGISTER_NAME, LIC_STATE) %>%\n",
        "    summarise(cnt = n()) %>%\n",
        "    filter(year >= 2012)"
      ],
      "execution_count": 0,
      "outputs": []
    },
    {
      "cell_type": "code",
      "metadata": {
        "id": "I-3VmVl7D9-e",
        "colab_type": "code",
        "colab": {}
      },
      "source": [
        "# our training data is 2012-2016 and we wish to predict data from 2016-2018\n",
        "\n",
        "train <- filter(summary_data, year < 2016 & year >= 2012)\n",
        "test <- filter(summary_data, year >= 2016 & year <= 2018)"
      ],
      "execution_count": 0,
      "outputs": []
    },
    {
      "cell_type": "code",
      "metadata": {
        "id": "C-bz8FStEsE0",
        "colab_type": "code",
        "colab": {}
      },
      "source": [
        "table(train$year)\n",
        "table(test$year)"
      ],
      "execution_count": 0,
      "outputs": []
    },
    {
      "cell_type": "code",
      "metadata": {
        "id": "1FNcYuXpEyd1",
        "colab_type": "code",
        "colab": {}
      },
      "source": [
        "# here's what a histogram of the count variable looks like\n",
        "\n",
        "hist(train$cnt)"
      ],
      "execution_count": 0,
      "outputs": []
    },
    {
      "cell_type": "code",
      "metadata": {
        "id": "jNR5jIQ2E7Ip",
        "colab_type": "code",
        "colab": {}
      },
      "source": [
        "# here's the logarithm of this variable\n",
        "hist(log(train$cnt))"
      ],
      "execution_count": 0,
      "outputs": []
    },
    {
      "cell_type": "code",
      "metadata": {
        "id": "s1OfGtpiFPlt",
        "colab_type": "code",
        "colab": {}
      },
      "source": [
        "# does the logarithm of the count variable follow a normal distribution?\n",
        "qqnorm(log(train$cnt))\n",
        "qqline(log(train$cnt))"
      ],
      "execution_count": 0,
      "outputs": []
    },
    {
      "cell_type": "code",
      "metadata": {
        "id": "-e1Vmx80GH1I",
        "colab_type": "code",
        "colab": {}
      },
      "source": [
        "# normal linear regression of LIC_STATE, REGISTER_NAME and mon to predict logarithm of count\n",
        "\n",
        "mod <- glm(data=train, log(cnt) ~ LIC_STATE + REGISTER_NAME + mon)\n",
        "summary(mod)"
      ],
      "execution_count": 0,
      "outputs": []
    },
    {
      "cell_type": "code",
      "metadata": {
        "id": "2chWPbjMGV7y",
        "colab_type": "code",
        "colab": {}
      },
      "source": [
        "# YOUR TURN: drop mon as an explanatory variable \n",
        "\n",
        "head(train)"
      ],
      "execution_count": 0,
      "outputs": []
    },
    {
      "cell_type": "code",
      "metadata": {
        "id": "dMuUGi-YGiNc",
        "colab_type": "code",
        "colab": {}
      },
      "source": [
        "# MY SOLUTION\n",
        "\n",
        "mod <- glm(data=train, log(cnt) ~ LIC_STATE + REGISTER_NAME)\n",
        "summary(mod)"
      ],
      "execution_count": 0,
      "outputs": []
    },
    {
      "cell_type": "code",
      "metadata": {
        "id": "eSVUci19GolQ",
        "colab_type": "code",
        "colab": {}
      },
      "source": [
        "# now we predict our model from the training dataset onto the test dataset\n",
        "\n",
        "test$pred <- predict(mod, newdata=test)\n",
        "test$pred <- exp(test$pred)"
      ],
      "execution_count": 0,
      "outputs": []
    },
    {
      "cell_type": "code",
      "metadata": {
        "id": "WR1XvzCXGv8B",
        "colab_type": "code",
        "colab": {}
      },
      "source": [
        "head(test)"
      ],
      "execution_count": 0,
      "outputs": []
    },
    {
      "cell_type": "code",
      "metadata": {
        "id": "224d1shMG1nc",
        "colab_type": "code",
        "colab": {}
      },
      "source": [
        "# now we wish to change the structure of our test data from wide to long to make it easier to plot\n",
        "test_dat <- gather(test, variable, value, cnt:pred)"
      ],
      "execution_count": 0,
      "outputs": []
    },
    {
      "cell_type": "code",
      "metadata": {
        "id": "jSnAex4pG-fU",
        "colab_type": "code",
        "colab": {}
      },
      "source": [
        "head(test_dat)\n",
        "tail(test_dat)"
      ],
      "execution_count": 0,
      "outputs": []
    },
    {
      "cell_type": "markdown",
      "metadata": {
        "id": "KcrBy_8pHFNn",
        "colab_type": "text"
      },
      "source": [
        "## 6. Data product - web app actual vs expected in 2016 using data to 2015"
      ]
    },
    {
      "cell_type": "code",
      "metadata": {
        "id": "uUJvheCpIPt1",
        "colab_type": "code",
        "colab": {}
      },
      "source": [
        "ui <- fluidPage(\n",
        "    titlePanel(\"Predicted 2016-2018 using data from 2012-2015\"),\n",
        "    sidebarLayout(\n",
        "        sidebarPanel(\n",
        "            selectInput(inputId = \"subset_state\", label = \"Pick a state: \", \n",
        "                               choices = unique(test_dat$LIC_STATE))),\n",
        "        mainPanel(plotOutput(outputId = \"myfigure\"))\n",
        "    )\n",
        ")\n",
        "\n",
        "\n",
        "server <- function(input, output) {\n",
        "    create_subset <- reactive(test_dat %>%\n",
        "                                  filter(LIC_STATE == input$subset_state))\n",
        "    \n",
        "    output$myfigure <- renderPlot(\n",
        "                            ggplot(create_subset()) +\n",
        "                                      geom_bar(aes(x = year, y = value, fill=variable), stat=\"identity\") + \n",
        "                                        facet_wrap(REGISTER_NAME ~ variable) +\n",
        "                                        theme(axis.text.x = element_text(angle = 90, hjust = 1))\n",
        "                                      \n",
        "                            )\n",
        "}\n"
      ],
      "execution_count": 0,
      "outputs": []
    },
    {
      "cell_type": "code",
      "metadata": {
        "id": "f7yvA9N0IQxL",
        "colab_type": "code",
        "colab": {}
      },
      "source": [
        "# Run app: this unfortunately won't work from Colab, but will run in RStudio :( \n",
        "# shinyApp(ui,server)"
      ],
      "execution_count": 0,
      "outputs": []
    },
    {
      "cell_type": "code",
      "metadata": {
        "id": "xYqsHA2fGKRL",
        "colab_type": "code",
        "colab": {}
      },
      "source": [
        "ggplot(test_dat[test_dat$LIC_STATE == 'NSW',]) + \n",
        "geom_bar(aes(x = year, y = value, fill=REGISTER_NAME), stat=\"identity\") + \n",
        "                                        facet_wrap(REGISTER_NAME ~ variable) +\n",
        "                                        theme(axis.text.x = element_text(angle = 90, hjust = 1))"
      ],
      "execution_count": 0,
      "outputs": []
    }
  ]
}